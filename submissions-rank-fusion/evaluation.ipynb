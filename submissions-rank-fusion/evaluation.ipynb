{
 "cells": [
  {
   "cell_type": "code",
   "execution_count": 13,
   "metadata": {},
   "outputs": [],
   "source": [
    "from tira.third_party_integrations import ensure_pyterrier_is_loaded, persist_and_normalize_run\n",
    "from tira.rest_api_client import Client\n",
    "import pyterrier as pt\n",
    "from ir_measures import *"
   ]
  },
  {
   "cell_type": "code",
   "execution_count": 14,
   "metadata": {},
   "outputs": [],
   "source": [
    "ensure_pyterrier_is_loaded()\n",
    "tira = Client()\n"
   ]
  },
  {
   "cell_type": "code",
   "execution_count": 15,
   "metadata": {},
   "outputs": [],
   "source": [
    "pt_dataset = pt.get_dataset(\"irds:ir-lab-padua-2024/longeval-2023-01-20240426-training\")"
   ]
  },
  {
   "cell_type": "code",
   "execution_count": 24,
   "metadata": {},
   "outputs": [
    {
     "data": {
      "text/html": [
       "<div>\n",
       "<style scoped>\n",
       "    .dataframe tbody tr th:only-of-type {\n",
       "        vertical-align: middle;\n",
       "    }\n",
       "\n",
       "    .dataframe tbody tr th {\n",
       "        vertical-align: top;\n",
       "    }\n",
       "\n",
       "    .dataframe thead th {\n",
       "        text-align: right;\n",
       "    }\n",
       "</style>\n",
       "<table border=\"1\" class=\"dataframe\">\n",
       "  <thead>\n",
       "    <tr style=\"text-align: right;\">\n",
       "      <th></th>\n",
       "      <th>name</th>\n",
       "      <th>nDCG(judged_only=True)@10</th>\n",
       "      <th>nDCG(judged_only=True)</th>\n",
       "      <th>nDCG@10</th>\n",
       "      <th>nDCG</th>\n",
       "    </tr>\n",
       "  </thead>\n",
       "  <tbody>\n",
       "    <tr>\n",
       "      <th>4</th>\n",
       "      <td>WSum</td>\n",
       "      <td>0.454667</td>\n",
       "      <td>0.480725</td>\n",
       "      <td>0.251512</td>\n",
       "      <td>0.355077</td>\n",
       "    </tr>\n",
       "    <tr>\n",
       "      <th>3</th>\n",
       "      <td>RankZephyr</td>\n",
       "      <td>0.455142</td>\n",
       "      <td>0.482076</td>\n",
       "      <td>0.246549</td>\n",
       "      <td>0.352920</td>\n",
       "    </tr>\n",
       "    <tr>\n",
       "      <th>1</th>\n",
       "      <td>Sparse Cross-Encoder</td>\n",
       "      <td>0.448109</td>\n",
       "      <td>0.474784</td>\n",
       "      <td>0.220869</td>\n",
       "      <td>0.336719</td>\n",
       "    </tr>\n",
       "    <tr>\n",
       "      <th>2</th>\n",
       "      <td>ColBERT</td>\n",
       "      <td>0.450091</td>\n",
       "      <td>0.476047</td>\n",
       "      <td>0.216457</td>\n",
       "      <td>0.330096</td>\n",
       "    </tr>\n",
       "    <tr>\n",
       "      <th>0</th>\n",
       "      <td>BM25</td>\n",
       "      <td>0.444411</td>\n",
       "      <td>0.472638</td>\n",
       "      <td>0.199380</td>\n",
       "      <td>0.317285</td>\n",
       "    </tr>\n",
       "  </tbody>\n",
       "</table>\n",
       "</div>"
      ],
      "text/plain": [
       "                   name  nDCG(judged_only=True)@10  nDCG(judged_only=True)  \\\n",
       "4                  WSum                   0.454667                0.480725   \n",
       "3            RankZephyr                   0.455142                0.482076   \n",
       "1  Sparse Cross-Encoder                   0.448109                0.474784   \n",
       "2               ColBERT                   0.450091                0.476047   \n",
       "0                  BM25                   0.444411                0.472638   \n",
       "\n",
       "    nDCG@10      nDCG  \n",
       "4  0.251512  0.355077  \n",
       "3  0.246549  0.352920  \n",
       "1  0.220869  0.336719  \n",
       "2  0.216457  0.330096  \n",
       "0  0.199380  0.317285  "
      ]
     },
     "execution_count": 24,
     "metadata": {},
     "output_type": "execute_result"
    }
   ],
   "source": [
    "pt.Experiment(\n",
    "    [\n",
    "        tira.pt.from_submission('ir-benchmarks/tira-ir-starter/BM25 Re-Rank (tira-ir-starter-pyterrier)', 'ir-benchmarks/longeval-2023-01-20240423-training'),\n",
    "        tira.pt.from_submission('ir-benchmarks/fschlatt/sparse-cross-encoder-4-512', 'ir-benchmarks/longeval-2023-01-20240423-training'),\n",
    "        tira.pt.from_submission('ir-benchmarks/tira-ir-starter/ColBERT Re-Rank (tira-ir-starter-pyterrier)', 'ir-benchmarks/longeval-2023-01-20240423-training'),\n",
    "        tira.pt.from_submission('workshop-on-open-web-search/fschlatt/rank-zephyr', 'ir-benchmarks/longeval-2023-01-20240423-training'),\n",
    "        pt.transformer.get_transformer(pt.io.read_results('sparse-cross-encoder-max-score.lag1')),\n",
    "    ],\n",
    "    pt_dataset.get_topics('text'),\n",
    "    pt_dataset.get_qrels(),\n",
    "    names=[\n",
    "        'BM25', \n",
    "        \"Sparse Cross-Encoder\",\n",
    "        'ColBERT',\n",
    "        'RankZephyr', \n",
    "        'WSum',\n",
    "        # \"3-max-avg\",\n",
    "    ],\n",
    "    eval_metrics=[nDCG(judged_only=True)@10, nDCG(judged_only=True), nDCG@10, nDCG],\n",
    ").sort_values(by=\"nDCG@10\", ascending=False)"
   ]
  },
  {
   "cell_type": "code",
   "execution_count": null,
   "metadata": {},
   "outputs": [],
   "source": []
  }
 ],
 "metadata": {
  "kernelspec": {
   "display_name": "Python 3",
   "language": "python",
   "name": "python3"
  },
  "language_info": {
   "codemirror_mode": {
    "name": "ipython",
    "version": 3
   },
   "file_extension": ".py",
   "mimetype": "text/x-python",
   "name": "python",
   "nbconvert_exporter": "python",
   "pygments_lexer": "ipython3",
   "version": "3.10.12"
  }
 },
 "nbformat": 4,
 "nbformat_minor": 2
}
