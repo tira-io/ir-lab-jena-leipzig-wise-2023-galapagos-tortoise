{
 "cells": [
  {
   "cell_type": "code",
   "execution_count": 2,
   "metadata": {},
   "outputs": [
    {
     "name": "stdout",
     "output_type": "stream",
     "text": [
      "Requirement already satisfied: ranx in /usr/local/lib/python3.10/dist-packages (0.3.19)\n",
      "Requirement already satisfied: pandas in /usr/local/lib/python3.10/dist-packages (from ranx) (2.1.3)\n",
      "Requirement already satisfied: lz4 in /usr/local/lib/python3.10/dist-packages (from ranx) (4.3.2)\n",
      "Requirement already satisfied: numba>=0.54.1 in /usr/local/lib/python3.10/dist-packages (from ranx) (0.59.1)\n",
      "Requirement already satisfied: seaborn in /usr/local/lib/python3.10/dist-packages (from ranx) (0.13.2)\n",
      "Requirement already satisfied: cbor2 in /usr/local/lib/python3.10/dist-packages (from ranx) (5.6.3)\n",
      "Requirement already satisfied: tqdm in /usr/local/lib/python3.10/dist-packages (from ranx) (4.66.1)\n",
      "Requirement already satisfied: tabulate in /usr/local/lib/python3.10/dist-packages (from ranx) (0.9.0)\n",
      "Requirement already satisfied: scipy>=1.8.0 in /usr/local/lib/python3.10/dist-packages (from ranx) (1.11.4)\n",
      "Requirement already satisfied: ir-datasets in /usr/local/lib/python3.10/dist-packages (from ranx) (0.5.5)\n",
      "Requirement already satisfied: rich in /usr/local/lib/python3.10/dist-packages (from ranx) (13.7.1)\n",
      "Requirement already satisfied: numpy in /usr/local/lib/python3.10/dist-packages (from ranx) (1.26.2)\n",
      "Requirement already satisfied: orjson in /usr/local/lib/python3.10/dist-packages (from ranx) (3.10.3)\n",
      "Requirement already satisfied: fastparquet in /usr/local/lib/python3.10/dist-packages (from ranx) (2024.2.0)\n",
      "Requirement already satisfied: llvmlite<0.43,>=0.42.0dev0 in /usr/local/lib/python3.10/dist-packages (from numba>=0.54.1->ranx) (0.42.0)\n",
      "Requirement already satisfied: cramjam>=2.3 in /usr/local/lib/python3.10/dist-packages (from fastparquet->ranx) (2.8.3)\n",
      "Requirement already satisfied: fsspec in /usr/local/lib/python3.10/dist-packages (from fastparquet->ranx) (2024.3.1)\n",
      "Requirement already satisfied: packaging in /usr/local/lib/python3.10/dist-packages (from fastparquet->ranx) (23.2)\n",
      "Requirement already satisfied: pytz>=2020.1 in /usr/local/lib/python3.10/dist-packages (from pandas->ranx) (2023.3.post1)\n",
      "Requirement already satisfied: tzdata>=2022.1 in /usr/local/lib/python3.10/dist-packages (from pandas->ranx) (2023.3)\n",
      "Requirement already satisfied: python-dateutil>=2.8.2 in /usr/local/lib/python3.10/dist-packages (from pandas->ranx) (2.8.2)\n",
      "Requirement already satisfied: beautifulsoup4>=4.4.1 in /usr/local/lib/python3.10/dist-packages (from ir-datasets->ranx) (4.12.2)\n",
      "Requirement already satisfied: inscriptis>=2.2.0 in /usr/local/lib/python3.10/dist-packages (from ir-datasets->ranx) (2.3.2)\n",
      "Requirement already satisfied: zlib-state>=0.1.3 in /usr/local/lib/python3.10/dist-packages (from ir-datasets->ranx) (0.1.6)\n",
      "Requirement already satisfied: trec-car-tools>=2.5.4 in /usr/local/lib/python3.10/dist-packages (from ir-datasets->ranx) (2.6)\n",
      "Requirement already satisfied: warc3-wet>=0.2.3 in /usr/local/lib/python3.10/dist-packages (from ir-datasets->ranx) (0.2.3)\n",
      "Requirement already satisfied: pyyaml>=5.3.1 in /usr/local/lib/python3.10/dist-packages (from ir-datasets->ranx) (6.0.1)\n",
      "Requirement already satisfied: ijson>=3.1.3 in /usr/local/lib/python3.10/dist-packages (from ir-datasets->ranx) (3.2.3)\n",
      "Requirement already satisfied: lxml>=4.5.2 in /usr/local/lib/python3.10/dist-packages (from ir-datasets->ranx) (4.9.3)\n",
      "Requirement already satisfied: requests>=2.22.0 in /usr/local/lib/python3.10/dist-packages (from ir-datasets->ranx) (2.31.0)\n",
      "Requirement already satisfied: pyautocorpus>=0.1.1 in /usr/local/lib/python3.10/dist-packages (from ir-datasets->ranx) (0.1.12)\n",
      "Requirement already satisfied: warc3-wet-clueweb09>=0.2.5 in /usr/local/lib/python3.10/dist-packages (from ir-datasets->ranx) (0.2.5)\n",
      "Requirement already satisfied: unlzw3>=0.2.1 in /usr/local/lib/python3.10/dist-packages (from ir-datasets->ranx) (0.2.2)\n",
      "Requirement already satisfied: markdown-it-py>=2.2.0 in /usr/local/lib/python3.10/dist-packages (from rich->ranx) (3.0.0)\n",
      "Requirement already satisfied: pygments<3.0.0,>=2.13.0 in /usr/local/lib/python3.10/dist-packages (from rich->ranx) (2.17.2)\n",
      "Requirement already satisfied: matplotlib!=3.6.1,>=3.4 in /usr/local/lib/python3.10/dist-packages (from seaborn->ranx) (3.8.4)\n",
      "Requirement already satisfied: soupsieve>1.2 in /usr/local/lib/python3.10/dist-packages (from beautifulsoup4>=4.4.1->ir-datasets->ranx) (2.5)\n",
      "Requirement already satisfied: mdurl~=0.1 in /usr/local/lib/python3.10/dist-packages (from markdown-it-py>=2.2.0->rich->ranx) (0.1.2)\n",
      "Requirement already satisfied: pillow>=8 in /usr/local/lib/python3.10/dist-packages (from matplotlib!=3.6.1,>=3.4->seaborn->ranx) (10.3.0)\n",
      "Requirement already satisfied: pyparsing>=2.3.1 in /usr/local/lib/python3.10/dist-packages (from matplotlib!=3.6.1,>=3.4->seaborn->ranx) (3.1.2)\n",
      "Requirement already satisfied: cycler>=0.10 in /usr/local/lib/python3.10/dist-packages (from matplotlib!=3.6.1,>=3.4->seaborn->ranx) (0.12.1)\n",
      "Requirement already satisfied: contourpy>=1.0.1 in /usr/local/lib/python3.10/dist-packages (from matplotlib!=3.6.1,>=3.4->seaborn->ranx) (1.2.1)\n",
      "Requirement already satisfied: kiwisolver>=1.3.1 in /usr/local/lib/python3.10/dist-packages (from matplotlib!=3.6.1,>=3.4->seaborn->ranx) (1.4.5)\n",
      "Requirement already satisfied: fonttools>=4.22.0 in /usr/local/lib/python3.10/dist-packages (from matplotlib!=3.6.1,>=3.4->seaborn->ranx) (4.51.0)\n",
      "Requirement already satisfied: six>=1.5 in /usr/local/lib/python3.10/dist-packages (from python-dateutil>=2.8.2->pandas->ranx) (1.16.0)\n",
      "Requirement already satisfied: charset-normalizer<4,>=2 in /usr/local/lib/python3.10/dist-packages (from requests>=2.22.0->ir-datasets->ranx) (3.3.2)\n",
      "Requirement already satisfied: certifi>=2017.4.17 in /usr/local/lib/python3.10/dist-packages (from requests>=2.22.0->ir-datasets->ranx) (2023.11.17)\n",
      "Requirement already satisfied: idna<4,>=2.5 in /usr/local/lib/python3.10/dist-packages (from requests>=2.22.0->ir-datasets->ranx) (3.6)\n",
      "Requirement already satisfied: urllib3<3,>=1.21.1 in /usr/local/lib/python3.10/dist-packages (from requests>=2.22.0->ir-datasets->ranx) (2.1.0)\n",
      "Requirement already satisfied: cbor>=1.0.0 in /usr/local/lib/python3.10/dist-packages (from trec-car-tools>=2.5.4->ir-datasets->ranx) (1.0.0)\n",
      "\u001b[33mWARNING: Running pip as the 'root' user can result in broken permissions and conflicting behaviour with the system package manager. It is recommended to use a virtual environment instead: https://pip.pypa.io/warnings/venv\u001b[0m\u001b[33m\n",
      "\u001b[0m"
     ]
    }
   ],
   "source": [
    "!pip install ranx"
   ]
  },
  {
   "cell_type": "code",
   "execution_count": 3,
   "metadata": {},
   "outputs": [],
   "source": [
    "from tira.third_party_integrations import ensure_pyterrier_is_loaded, normalize_run, persist_and_normalize_run\n",
    "from tira.rest_api_client import Client\n",
    "import pyterrier as pt\n",
    "import pandas as pd\n",
    "from tqdm import tqdm\n",
    "from statistics import mean\n",
    "from ranx import fuse, Run"
   ]
  },
  {
   "cell_type": "code",
   "execution_count": 4,
   "metadata": {},
   "outputs": [
    {
     "name": "stderr",
     "output_type": "stream",
     "text": [
      "PyTerrier 0.10.0 has loaded Terrier 5.8 (built by craigm on 2023-11-01 18:05) and terrier-helper 0.0.8\n",
      "\n",
      "No etc/terrier.properties, using terrier.default.properties for bootstrap configuration.\n"
     ]
    }
   ],
   "source": [
    "ensure_pyterrier_is_loaded()\n",
    "tira = Client()\n"
   ]
  },
  {
   "cell_type": "code",
   "execution_count": 5,
   "metadata": {},
   "outputs": [],
   "source": [
    "LONGEVAL_LAGS = {\n",
    "    'lag1': {\n",
    "        'tira_id': 'longeval-2023-01-20240423-training',\n",
    "        'pt_dataset': pt.get_dataset('irds:ir-lab-padua-2024/longeval-2023-01-20240426-training'),\n",
    "    },\n",
    "    'lag6': {\n",
    "        'tira_id': 'longeval-2023-06-20240418-training',\n",
    "        'pt_dataset': pt.get_dataset('irds:ir-lab-padua-2024/longeval-2023-06-20240422-training'),\n",
    "    },\n",
    "    'lag8': {\n",
    "        'tira_id': 'longeval-2023-08-20240418-training',\n",
    "        'pt_dataset': pt.get_dataset('irds:ir-lab-padua-2024/longeval-2023-08-20240422-training'),\n",
    "    }\n",
    "}"
   ]
  },
  {
   "cell_type": "code",
   "execution_count": 6,
   "metadata": {},
   "outputs": [],
   "source": [
    "def to_ranx_dict(run, qrels = None):\n",
    "    ret = {}\n",
    "    for _, row in run.iterrows():\n",
    "        if row['qid'] not in ret:\n",
    "            ret[row['qid']] = {}\n",
    "\n",
    "        ret[row['qid']][row['docno']] = row['score']\n",
    "\n",
    "    if qrels is not None:\n",
    "        for key in qrels.keys():\n",
    "            if not key in ret.keys():\n",
    "                ret[key] = {}\n",
    "    \n",
    "\n",
    "    return Run(ret)\n",
    "\n",
    "def from_ranx(run):\n",
    "    ret = []\n",
    "\n",
    "    for qid in run.keys():\n",
    "        for docno in run[qid].keys():\n",
    "            ret += [{\n",
    "                'qid': qid,\n",
    "                'docno': docno,\n",
    "                'score': run[qid][docno]\n",
    "            }]\n",
    "    return pd.DataFrame(ret)\n"
   ]
  },
  {
   "cell_type": "code",
   "execution_count": 7,
   "metadata": {},
   "outputs": [
    {
     "name": "stdout",
     "output_type": "stream",
     "text": [
      "BM25\n",
      "Sparse Cross-Encoder\n",
      "ColBERT\n",
      "RankZephyr\n"
     ]
    },
    {
     "data": {
      "application/vnd.jupyter.widget-view+json": {
       "model_id": "bde1e99f6f354cb8b6188ccad1ce7614",
       "version_major": 2,
       "version_minor": 0
      },
      "text/plain": [
       "Output()"
      ]
     },
     "metadata": {},
     "output_type": "display_data"
    },
    {
     "data": {
      "text/html": [
       "<pre style=\"white-space:pre;overflow-x:auto;line-height:normal;font-family:Menlo,'DejaVu Sans Mono',consolas,'Courier New',monospace\"></pre>\n"
      ],
      "text/plain": []
     },
     "metadata": {},
     "output_type": "display_data"
    },
    {
     "data": {
      "text/html": [
       "<pre style=\"white-space:pre;overflow-x:auto;line-height:normal;font-family:Menlo,'DejaVu Sans Mono',consolas,'Courier New',monospace\">\n",
       "</pre>\n"
      ],
      "text/plain": [
       "\n"
      ]
     },
     "metadata": {},
     "output_type": "display_data"
    },
    {
     "name": "stdout",
     "output_type": "stream",
     "text": [
      "{'weights': (0.1, 0.1, 0.1, 0.7)}\n"
     ]
    },
    {
     "name": "stderr",
     "output_type": "stream",
     "text": [
      "  0%|          | 0/3 [00:00<?, ?it/s]"
     ]
    },
    {
     "name": "stdout",
     "output_type": "stream",
     "text": [
      "BM25\n",
      "Sparse Cross-Encoder\n",
      "ColBERT\n",
      "RankZephyr\n",
      "fuse\n"
     ]
    },
    {
     "name": "stderr",
     "output_type": "stream",
     "text": [
      " 33%|███▎      | 1/3 [02:47<05:34, 167.49s/it]"
     ]
    },
    {
     "name": "stdout",
     "output_type": "stream",
     "text": [
      "BM25\n",
      "Sparse Cross-Encoder\n",
      "ColBERT\n",
      "RankZephyr\n",
      "fuse\n"
     ]
    },
    {
     "name": "stderr",
     "output_type": "stream",
     "text": [
      " 67%|██████▋   | 2/3 [04:22<02:05, 125.04s/it]"
     ]
    },
    {
     "name": "stdout",
     "output_type": "stream",
     "text": [
      "BM25\n",
      "Sparse Cross-Encoder\n",
      "ColBERT\n",
      "RankZephyr\n",
      "fuse\n"
     ]
    },
    {
     "name": "stderr",
     "output_type": "stream",
     "text": [
      "100%|██████████| 3/3 [09:16<00:00, 185.62s/it]\n"
     ]
    }
   ],
   "source": [
    "from ranx import fuse, optimize_fusion, Qrels\n",
    "\n",
    "qrels = Qrels.from_ir_datasets(\"ir-lab-padua-2024/longeval-2023-01-20240426-training\")\n",
    "\n",
    "print(\"BM25\")\n",
    "df_3 = tira.pd.from_retriever_submission('ir-benchmarks/tira-ir-starter/BM25 Re-Rank (tira-ir-starter-pyterrier)', LONGEVAL_LAGS[\"lag1\"]['tira_id'])\n",
    "print(\"Sparse Cross-Encoder\")\n",
    "df_4 = tira.pd.from_retriever_submission('ir-benchmarks/fschlatt/sparse-cross-encoder-4-512', LONGEVAL_LAGS[\"lag1\"]['tira_id'])\n",
    "print(\"ColBERT\")\n",
    "df_5 = tira.pd.from_retriever_submission('ir-benchmarks/tira-ir-starter/ColBERT Re-Rank (tira-ir-starter-pyterrier)', LONGEVAL_LAGS[\"lag1\"]['tira_id'])\n",
    "print(\"RankZephyr\")\n",
    "df_6 = normalize_run(tira.pd.from_retriever_submission('workshop-on-open-web-search/fschlatt/rank-zephyr', LONGEVAL_LAGS[\"lag1\"]['tira_id']), \"rank-zephyr\")\n",
    "\n",
    "run3 = to_ranx_dict(df_3, qrels)\n",
    "run4 = to_ranx_dict(df_4, qrels)\n",
    "run5 = to_ranx_dict(df_5, qrels)\n",
    "run6 = to_ranx_dict(df_6, qrels)\n",
    "\n",
    "best_params = optimize_fusion(\n",
    "    qrels=qrels,\n",
    "    runs=[run3, run4, run5, run6],\n",
    "    norm=\"min-max\",\n",
    "    method=\"wsum\",\n",
    "    metric=\"ndcg@10\", \n",
    "    show_progress = True,\n",
    "    step=0.1, # -> best_params = (0.1, 0.1, 0.1, 0.7)\n",
    "    # step=0.05, # -> best_params = (0.10, 0.10, 0.10, 0.70)\n",
    ")\n",
    "print(best_params)\n",
    "\n",
    "for lag in tqdm(LONGEVAL_LAGS.keys()):\n",
    "    print(\"BM25\")\n",
    "    df_3 = tira.pd.from_retriever_submission('ir-benchmarks/tira-ir-starter/BM25 Re-Rank (tira-ir-starter-pyterrier)', LONGEVAL_LAGS[lag]['tira_id'])\n",
    "    print(\"Sparse Cross-Encoder\")\n",
    "    df_4 = tira.pd.from_retriever_submission('ir-benchmarks/fschlatt/sparse-cross-encoder-4-512', LONGEVAL_LAGS[lag]['tira_id'])\n",
    "    print(\"ColBERT\")\n",
    "    df_5 = tira.pd.from_retriever_submission('ir-benchmarks/tira-ir-starter/ColBERT Re-Rank (tira-ir-starter-pyterrier)', LONGEVAL_LAGS[lag]['tira_id'])\n",
    "    print(\"RankZephyr\")\n",
    "    df_6 = normalize_run(tira.pd.from_retriever_submission('workshop-on-open-web-search/fschlatt/rank-zephyr', LONGEVAL_LAGS[lag]['tira_id']), \"rank-zephyr\")\n",
    "\n",
    "    run3 = to_ranx_dict(df_3, qrels)\n",
    "    run4 = to_ranx_dict(df_4, qrels)\n",
    "    run5 = to_ranx_dict(df_5, qrels)\n",
    "    run6 = to_ranx_dict(df_6, qrels)\n",
    "    \n",
    "    print(\"fuse\")\n",
    "    df = fuse(\n",
    "        runs=[run3, run4, run5, run6],\n",
    "        norm=\"min-max\",\n",
    "        method=\"wsum\",   \n",
    "        params=best_params,\n",
    "    )\n",
    "    df = from_ranx(df)\n",
    "    system = \"galapagos-tortoise-wsum\"\n",
    "    normalize_run(df, system).to_csv(f'{system}.{lag}', sep=\" \", header=False, index=False)"
   ]
  },
  {
   "cell_type": "code",
   "execution_count": 8,
   "metadata": {},
   "outputs": [
    {
     "name": "stderr",
     "output_type": "stream",
     "text": [
      "100%|██████████| 3/3 [00:12<00:00,  4.23s/it]\n"
     ]
    }
   ],
   "source": [
    "system = \"galapagos-tortoise-rank-zephyr\"\n",
    "for lag in tqdm(LONGEVAL_LAGS.keys()):\n",
    "    normalize_run(tira.pd.from_retriever_submission('workshop-on-open-web-search/fschlatt/rank-zephyr', LONGEVAL_LAGS[lag]['tira_id']), system).to_csv(f'{system}.{lag}', sep=\" \", header=False, index=False)"
   ]
  },
  {
   "cell_type": "code",
   "execution_count": null,
   "metadata": {},
   "outputs": [],
   "source": []
  }
 ],
 "metadata": {
  "kernelspec": {
   "display_name": "Python 3",
   "language": "python",
   "name": "python3"
  },
  "language_info": {
   "codemirror_mode": {
    "name": "ipython",
    "version": 3
   },
   "file_extension": ".py",
   "mimetype": "text/x-python",
   "name": "python",
   "nbconvert_exporter": "python",
   "pygments_lexer": "ipython3",
   "version": "3.10.12"
  }
 },
 "nbformat": 4,
 "nbformat_minor": 2
}
