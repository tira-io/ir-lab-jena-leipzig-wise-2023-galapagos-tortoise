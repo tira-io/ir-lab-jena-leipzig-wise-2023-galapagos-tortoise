{
 "cells": [
  {
   "cell_type": "code",
   "execution_count": 1,
   "metadata": {},
   "outputs": [
    {
     "name": "stdout",
     "output_type": "stream",
     "text": [
      "Requirement already satisfied: ranx in /usr/local/lib/python3.10/dist-packages (0.3.19)\n",
      "Requirement already satisfied: lz4 in /usr/local/lib/python3.10/dist-packages (from ranx) (4.3.2)\n",
      "Requirement already satisfied: orjson in /usr/local/lib/python3.10/dist-packages (from ranx) (3.10.3)\n",
      "Requirement already satisfied: numpy in /usr/local/lib/python3.10/dist-packages (from ranx) (1.26.2)\n",
      "Requirement already satisfied: ir-datasets in /usr/local/lib/python3.10/dist-packages (from ranx) (0.5.5)\n",
      "Requirement already satisfied: rich in /usr/local/lib/python3.10/dist-packages (from ranx) (13.7.1)\n",
      "Requirement already satisfied: tqdm in /usr/local/lib/python3.10/dist-packages (from ranx) (4.66.1)\n",
      "Requirement already satisfied: tabulate in /usr/local/lib/python3.10/dist-packages (from ranx) (0.9.0)\n",
      "Requirement already satisfied: fastparquet in /usr/local/lib/python3.10/dist-packages (from ranx) (2024.2.0)\n",
      "Requirement already satisfied: pandas in /usr/local/lib/python3.10/dist-packages (from ranx) (2.1.3)\n",
      "Requirement already satisfied: cbor2 in /usr/local/lib/python3.10/dist-packages (from ranx) (5.6.3)\n",
      "Requirement already satisfied: scipy>=1.8.0 in /usr/local/lib/python3.10/dist-packages (from ranx) (1.11.4)\n",
      "Requirement already satisfied: numba>=0.54.1 in /usr/local/lib/python3.10/dist-packages (from ranx) (0.59.1)\n",
      "Requirement already satisfied: seaborn in /usr/local/lib/python3.10/dist-packages (from ranx) (0.13.2)\n",
      "Requirement already satisfied: llvmlite<0.43,>=0.42.0dev0 in /usr/local/lib/python3.10/dist-packages (from numba>=0.54.1->ranx) (0.42.0)\n",
      "Requirement already satisfied: fsspec in /usr/local/lib/python3.10/dist-packages (from fastparquet->ranx) (2024.3.1)\n",
      "Requirement already satisfied: packaging in /usr/local/lib/python3.10/dist-packages (from fastparquet->ranx) (23.2)\n",
      "Requirement already satisfied: cramjam>=2.3 in /usr/local/lib/python3.10/dist-packages (from fastparquet->ranx) (2.8.3)\n",
      "Requirement already satisfied: tzdata>=2022.1 in /usr/local/lib/python3.10/dist-packages (from pandas->ranx) (2023.3)\n",
      "Requirement already satisfied: python-dateutil>=2.8.2 in /usr/local/lib/python3.10/dist-packages (from pandas->ranx) (2.8.2)\n",
      "Requirement already satisfied: pytz>=2020.1 in /usr/local/lib/python3.10/dist-packages (from pandas->ranx) (2023.3.post1)\n",
      "Requirement already satisfied: trec-car-tools>=2.5.4 in /usr/local/lib/python3.10/dist-packages (from ir-datasets->ranx) (2.6)\n",
      "Requirement already satisfied: beautifulsoup4>=4.4.1 in /usr/local/lib/python3.10/dist-packages (from ir-datasets->ranx) (4.12.2)\n",
      "Requirement already satisfied: warc3-wet>=0.2.3 in /usr/local/lib/python3.10/dist-packages (from ir-datasets->ranx) (0.2.3)\n",
      "Requirement already satisfied: pyyaml>=5.3.1 in /usr/local/lib/python3.10/dist-packages (from ir-datasets->ranx) (6.0.1)\n",
      "Requirement already satisfied: lxml>=4.5.2 in /usr/local/lib/python3.10/dist-packages (from ir-datasets->ranx) (4.9.3)\n",
      "Requirement already satisfied: pyautocorpus>=0.1.1 in /usr/local/lib/python3.10/dist-packages (from ir-datasets->ranx) (0.1.12)\n",
      "Requirement already satisfied: warc3-wet-clueweb09>=0.2.5 in /usr/local/lib/python3.10/dist-packages (from ir-datasets->ranx) (0.2.5)\n",
      "Requirement already satisfied: unlzw3>=0.2.1 in /usr/local/lib/python3.10/dist-packages (from ir-datasets->ranx) (0.2.2)\n",
      "Requirement already satisfied: zlib-state>=0.1.3 in /usr/local/lib/python3.10/dist-packages (from ir-datasets->ranx) (0.1.6)\n",
      "Requirement already satisfied: inscriptis>=2.2.0 in /usr/local/lib/python3.10/dist-packages (from ir-datasets->ranx) (2.3.2)\n",
      "Requirement already satisfied: ijson>=3.1.3 in /usr/local/lib/python3.10/dist-packages (from ir-datasets->ranx) (3.2.3)\n",
      "Requirement already satisfied: requests>=2.22.0 in /usr/local/lib/python3.10/dist-packages (from ir-datasets->ranx) (2.31.0)\n",
      "Requirement already satisfied: pygments<3.0.0,>=2.13.0 in /usr/local/lib/python3.10/dist-packages (from rich->ranx) (2.17.2)\n",
      "Requirement already satisfied: markdown-it-py>=2.2.0 in /usr/local/lib/python3.10/dist-packages (from rich->ranx) (3.0.0)\n",
      "Requirement already satisfied: matplotlib!=3.6.1,>=3.4 in /usr/local/lib/python3.10/dist-packages (from seaborn->ranx) (3.8.4)\n",
      "Requirement already satisfied: soupsieve>1.2 in /usr/local/lib/python3.10/dist-packages (from beautifulsoup4>=4.4.1->ir-datasets->ranx) (2.5)\n",
      "Requirement already satisfied: mdurl~=0.1 in /usr/local/lib/python3.10/dist-packages (from markdown-it-py>=2.2.0->rich->ranx) (0.1.2)\n",
      "Requirement already satisfied: contourpy>=1.0.1 in /usr/local/lib/python3.10/dist-packages (from matplotlib!=3.6.1,>=3.4->seaborn->ranx) (1.2.1)\n",
      "Requirement already satisfied: cycler>=0.10 in /usr/local/lib/python3.10/dist-packages (from matplotlib!=3.6.1,>=3.4->seaborn->ranx) (0.12.1)\n",
      "Requirement already satisfied: pyparsing>=2.3.1 in /usr/local/lib/python3.10/dist-packages (from matplotlib!=3.6.1,>=3.4->seaborn->ranx) (3.1.2)\n",
      "Requirement already satisfied: kiwisolver>=1.3.1 in /usr/local/lib/python3.10/dist-packages (from matplotlib!=3.6.1,>=3.4->seaborn->ranx) (1.4.5)\n",
      "Requirement already satisfied: fonttools>=4.22.0 in /usr/local/lib/python3.10/dist-packages (from matplotlib!=3.6.1,>=3.4->seaborn->ranx) (4.51.0)\n",
      "Requirement already satisfied: pillow>=8 in /usr/local/lib/python3.10/dist-packages (from matplotlib!=3.6.1,>=3.4->seaborn->ranx) (10.3.0)\n",
      "Requirement already satisfied: six>=1.5 in /usr/local/lib/python3.10/dist-packages (from python-dateutil>=2.8.2->pandas->ranx) (1.16.0)\n",
      "Requirement already satisfied: urllib3<3,>=1.21.1 in /usr/local/lib/python3.10/dist-packages (from requests>=2.22.0->ir-datasets->ranx) (2.1.0)\n",
      "Requirement already satisfied: certifi>=2017.4.17 in /usr/local/lib/python3.10/dist-packages (from requests>=2.22.0->ir-datasets->ranx) (2023.11.17)\n",
      "Requirement already satisfied: idna<4,>=2.5 in /usr/local/lib/python3.10/dist-packages (from requests>=2.22.0->ir-datasets->ranx) (3.6)\n",
      "Requirement already satisfied: charset-normalizer<4,>=2 in /usr/local/lib/python3.10/dist-packages (from requests>=2.22.0->ir-datasets->ranx) (3.3.2)\n",
      "Requirement already satisfied: cbor>=1.0.0 in /usr/local/lib/python3.10/dist-packages (from trec-car-tools>=2.5.4->ir-datasets->ranx) (1.0.0)\n",
      "\u001b[33mWARNING: Running pip as the 'root' user can result in broken permissions and conflicting behaviour with the system package manager. It is recommended to use a virtual environment instead: https://pip.pypa.io/warnings/venv\u001b[0m\u001b[33m\n",
      "\u001b[0m"
     ]
    }
   ],
   "source": [
    "!pip install ranx"
   ]
  },
  {
   "cell_type": "code",
   "execution_count": 2,
   "metadata": {},
   "outputs": [],
   "source": [
    "from tira.third_party_integrations import ensure_pyterrier_is_loaded, normalize_run, persist_and_normalize_run\n",
    "from tira.rest_api_client import Client\n",
    "import pyterrier as pt\n",
    "import pandas as pd\n",
    "from tqdm import tqdm\n",
    "from statistics import mean\n",
    "from ranx import fuse, Run"
   ]
  },
  {
   "cell_type": "code",
   "execution_count": 3,
   "metadata": {},
   "outputs": [
    {
     "name": "stderr",
     "output_type": "stream",
     "text": [
      "PyTerrier 0.10.0 has loaded Terrier 5.8 (built by craigm on 2023-11-01 18:05) and terrier-helper 0.0.8\n",
      "\n",
      "No etc/terrier.properties, using terrier.default.properties for bootstrap configuration.\n"
     ]
    }
   ],
   "source": [
    "ensure_pyterrier_is_loaded()\n",
    "tira = Client()\n"
   ]
  },
  {
   "cell_type": "code",
   "execution_count": 4,
   "metadata": {},
   "outputs": [],
   "source": [
    "LONGEVAL_LAGS = {\n",
    "    'lag1': {\n",
    "        'tira_id': 'longeval-2023-01-20240423-training',\n",
    "        'pt_dataset': pt.get_dataset('irds:ir-lab-padua-2024/longeval-2023-01-20240426-training'),\n",
    "    },\n",
    "    'lag6': {\n",
    "        'tira_id': 'longeval-2023-06-20240418-training',\n",
    "        'pt_dataset': pt.get_dataset('irds:ir-lab-padua-2024/longeval-2023-06-20240422-training'),\n",
    "    },\n",
    "    'lag8': {\n",
    "        'tira_id': 'longeval-2023-08-20240418-training',\n",
    "        'pt_dataset': pt.get_dataset('irds:ir-lab-padua-2024/longeval-2023-08-20240422-training'),\n",
    "    }\n",
    "}"
   ]
  },
  {
   "cell_type": "code",
   "execution_count": 18,
   "metadata": {},
   "outputs": [],
   "source": [
    "def to_ranx_dict(run, qrels = None):\n",
    "    ret = {}\n",
    "    for _, row in run.iterrows():\n",
    "        if row['qid'] not in ret:\n",
    "            ret[row['qid']] = {}\n",
    "\n",
    "        ret[row['qid']][row['docno']] = row['score']\n",
    "\n",
    "    if qrels is not None:\n",
    "        for key in qrels.keys():\n",
    "            if not key in ret.keys():\n",
    "                ret[key] = {}\n",
    "    \n",
    "\n",
    "    return Run(ret)\n",
    "\n",
    "def from_ranx(run):\n",
    "    ret = []\n",
    "\n",
    "    for qid in run.keys():\n",
    "        for docno in run[qid].keys():\n",
    "            ret += [{\n",
    "                'qid': qid,\n",
    "                'docno': docno,\n",
    "                'score': run[qid][docno]\n",
    "            }]\n",
    "    return pd.DataFrame(ret)\n"
   ]
  },
  {
   "cell_type": "code",
   "execution_count": 9,
   "metadata": {},
   "outputs": [],
   "source": [
    "from statistics import mean\n",
    "from typing import Sequence\n",
    "\n",
    "def kmaxavg(k: int) -> float:\n",
    "    def _kmaxavg(a: Sequence[float]) -> float:\n",
    "        return mean(sorted(a, reverse=True)[:k])\n",
    "    return _kmaxavg"
   ]
  },
  {
   "cell_type": "code",
   "execution_count": 22,
   "metadata": {},
   "outputs": [
    {
     "name": "stderr",
     "output_type": "stream",
     "text": [
      "  0%|          | 0/2 [00:00<?, ?it/s]"
     ]
    },
    {
     "name": "stdout",
     "output_type": "stream",
     "text": [
      "df1\n",
      "df2\n"
     ]
    },
    {
     "data": {
      "application/vnd.jupyter.widget-view+json": {
       "model_id": "fae94a230bad41b2b2f83af5e2e1f9b5",
       "version_major": 2,
       "version_minor": 0
      },
      "text/plain": [
       "Output()"
      ]
     },
     "metadata": {},
     "output_type": "display_data"
    },
    {
     "data": {
      "text/html": [
       "<pre style=\"white-space:pre;overflow-x:auto;line-height:normal;font-family:Menlo,'DejaVu Sans Mono',consolas,'Courier New',monospace\"></pre>\n"
      ],
      "text/plain": []
     },
     "metadata": {},
     "output_type": "display_data"
    },
    {
     "data": {
      "text/html": [
       "<pre style=\"white-space:pre;overflow-x:auto;line-height:normal;font-family:Menlo,'DejaVu Sans Mono',consolas,'Courier New',monospace\">\n",
       "</pre>\n"
      ],
      "text/plain": [
       "\n"
      ]
     },
     "metadata": {},
     "output_type": "display_data"
    },
    {
     "name": "stdout",
     "output_type": "stream",
     "text": [
      "{'weights': (0.0, 1.0)}\n"
     ]
    },
    {
     "name": "stderr",
     "output_type": "stream",
     "text": []
    },
    {
     "name": "stdout",
     "output_type": "stream",
     "text": [
      "df1\n",
      "df2\n",
      "fuse\n"
     ]
    },
    {
     "name": "stderr",
     "output_type": "stream",
     "text": []
    },
    {
     "name": "stdout",
     "output_type": "stream",
     "text": [
      "df1\n",
      "df2\n",
      "fuse\n"
     ]
    },
    {
     "name": "stderr",
     "output_type": "stream",
     "text": []
    },
    {
     "name": "stdout",
     "output_type": "stream",
     "text": [
      "df1\n",
      "df2\n",
      "fuse\n"
     ]
    },
    {
     "name": "stderr",
     "output_type": "stream",
     "text": [
      " 67%|██████▋   | 2/3 [02:00<01:00, 60.37s/it]\n",
      "  0%|          | 0/2 [02:13<?, ?it/s]\n"
     ]
    },
    {
     "ename": "TypeError",
     "evalue": "can't unbox a <class 'numba.typed.typeddict.Dict'> as a <NULL>",
     "output_type": "error",
     "traceback": [
      "\u001b[0;31m---------------------------------------------------------------------------\u001b[0m",
      "\u001b[0;31mTypeError\u001b[0m                                 Traceback (most recent call last)",
      "Cell \u001b[0;32mIn[22], line 100\u001b[0m\n\u001b[1;32m     92\u001b[0m \u001b[38;5;28mprint\u001b[39m(\u001b[38;5;124m\"\u001b[39m\u001b[38;5;124mfuse\u001b[39m\u001b[38;5;124m\"\u001b[39m)\n\u001b[1;32m     93\u001b[0m df \u001b[38;5;241m=\u001b[39m fuse(\n\u001b[1;32m     94\u001b[0m     runs\u001b[38;5;241m=\u001b[39m[run1, run2],\n\u001b[1;32m     95\u001b[0m     \u001b[38;5;66;03m# method=\"rrf\",   \u001b[39;00m\n\u001b[0;32m   (...)\u001b[0m\n\u001b[1;32m     98\u001b[0m     params\u001b[38;5;241m=\u001b[39mbest_params,\n\u001b[1;32m     99\u001b[0m )\n\u001b[0;32m--> 100\u001b[0m df \u001b[38;5;241m=\u001b[39m \u001b[43mfrom_ranx\u001b[49m\u001b[43m(\u001b[49m\u001b[43mdf\u001b[49m\u001b[43m)\u001b[49m\n\u001b[1;32m    101\u001b[0m normalize_run(df, system)\u001b[38;5;241m.\u001b[39mto_csv(\u001b[38;5;124mf\u001b[39m\u001b[38;5;124m'\u001b[39m\u001b[38;5;132;01m{\u001b[39;00msystem\u001b[38;5;132;01m}\u001b[39;00m\u001b[38;5;124m.\u001b[39m\u001b[38;5;132;01m{\u001b[39;00mlag\u001b[38;5;132;01m}\u001b[39;00m\u001b[38;5;124m'\u001b[39m, sep\u001b[38;5;241m=\u001b[39m\u001b[38;5;124m\"\u001b[39m\u001b[38;5;124m \u001b[39m\u001b[38;5;124m\"\u001b[39m, header\u001b[38;5;241m=\u001b[39m\u001b[38;5;28;01mFalse\u001b[39;00m, index\u001b[38;5;241m=\u001b[39m\u001b[38;5;28;01mFalse\u001b[39;00m)\n",
      "Cell \u001b[0;32mIn[18], line 25\u001b[0m, in \u001b[0;36mfrom_ranx\u001b[0;34m(run)\u001b[0m\n\u001b[1;32m     20\u001b[0m \u001b[38;5;28;01mfor\u001b[39;00m qid \u001b[38;5;129;01min\u001b[39;00m run\u001b[38;5;241m.\u001b[39mkeys():\n\u001b[1;32m     21\u001b[0m     \u001b[38;5;28;01mfor\u001b[39;00m docno \u001b[38;5;129;01min\u001b[39;00m run[qid]\u001b[38;5;241m.\u001b[39mkeys():\n\u001b[1;32m     22\u001b[0m         ret \u001b[38;5;241m+\u001b[39m\u001b[38;5;241m=\u001b[39m [{\n\u001b[1;32m     23\u001b[0m             \u001b[38;5;124m'\u001b[39m\u001b[38;5;124mqid\u001b[39m\u001b[38;5;124m'\u001b[39m: qid,\n\u001b[1;32m     24\u001b[0m             \u001b[38;5;124m'\u001b[39m\u001b[38;5;124mdocno\u001b[39m\u001b[38;5;124m'\u001b[39m: docno,\n\u001b[0;32m---> 25\u001b[0m             \u001b[38;5;124m'\u001b[39m\u001b[38;5;124mscore\u001b[39m\u001b[38;5;124m'\u001b[39m: \u001b[43mrun\u001b[49m\u001b[43m[\u001b[49m\u001b[43mqid\u001b[49m\u001b[43m]\u001b[49m[docno]\n\u001b[1;32m     26\u001b[0m         }]\n\u001b[1;32m     27\u001b[0m \u001b[38;5;28;01mreturn\u001b[39;00m pd\u001b[38;5;241m.\u001b[39mDataFrame(ret)\n",
      "File \u001b[0;32m/usr/local/lib/python3.10/dist-packages/ranx/data_structures/run.py:383\u001b[0m, in \u001b[0;36mRun.__getitem__\u001b[0;34m(self, q_id)\u001b[0m\n\u001b[1;32m    382\u001b[0m \u001b[38;5;28;01mdef\u001b[39;00m \u001b[38;5;21m__getitem__\u001b[39m(\u001b[38;5;28mself\u001b[39m, q_id):\n\u001b[0;32m--> 383\u001b[0m     \u001b[38;5;28;01mreturn\u001b[39;00m \u001b[38;5;28;43mdict\u001b[39;49m\u001b[43m(\u001b[49m\u001b[38;5;28;43mself\u001b[39;49m\u001b[38;5;241;43m.\u001b[39;49m\u001b[43mrun\u001b[49m\u001b[43m[\u001b[49m\u001b[43mq_id\u001b[49m\u001b[43m]\u001b[49m\u001b[43m)\u001b[49m\n",
      "File \u001b[0;32m/usr/local/lib/python3.10/dist-packages/numba/typed/typeddict.py:180\u001b[0m, in \u001b[0;36mDict.__getitem__\u001b[0;34m(self, key)\u001b[0m\n\u001b[1;32m    178\u001b[0m     \u001b[38;5;28;01mraise\u001b[39;00m \u001b[38;5;167;01mKeyError\u001b[39;00m(key)\n\u001b[1;32m    179\u001b[0m \u001b[38;5;28;01melse\u001b[39;00m:\n\u001b[0;32m--> 180\u001b[0m     \u001b[38;5;28;01mreturn\u001b[39;00m \u001b[43m_getitem\u001b[49m\u001b[43m(\u001b[49m\u001b[38;5;28;43mself\u001b[39;49m\u001b[43m,\u001b[49m\u001b[43m \u001b[49m\u001b[43mkey\u001b[49m\u001b[43m)\u001b[49m\n",
      "\u001b[0;31mTypeError\u001b[0m: can't unbox a <class 'numba.typed.typeddict.Dict'> as a <NULL>"
     ]
    }
   ],
   "source": [
    "from ranx import fuse, optimize_fusion, Qrels\n",
    "\n",
    "def get_df_with_sparse_cross_encoder_passage_scores(dataset_id, aggregation, system_name):\n",
    "    predictions = tira.pd.from_retriever_submission('ir-benchmarks/fschlatt/abstract-metaball', dataset_id)\n",
    "    ret = {}\n",
    "\n",
    "    for _, row in predictions.iterrows():\n",
    "        qid = row['qid'].split('___split')[0]\n",
    "        docno = row['docno'].split('___p')[0]\n",
    "        score = row['score']\n",
    "        if qid not in ret:\n",
    "            ret[qid] = {}\n",
    "        if docno not in ret[qid]:\n",
    "            ret[qid][docno] = []\n",
    "        \n",
    "        ret[qid][docno] += [score]\n",
    "    \n",
    "    ret_df = []\n",
    "    for qid in ret.keys():\n",
    "        for docno in ret[qid].keys():\n",
    "            score = aggregation(ret[qid][docno])\n",
    "            ret_df += [{\n",
    "                'qid': qid,\n",
    "                'docno': docno,\n",
    "                'score': score,\n",
    "                'system': system_name\n",
    "            }]\n",
    "    return normalize_run(pd.DataFrame(ret_df), system_name)\n",
    "\n",
    "for system, agg in tqdm((\n",
    "    ('sparse-cross-encoder-max-score', max),\n",
    "    ('sparse-cross-encoder-3-max-avg-score', kmaxavg(3)),\n",
    ")):\n",
    "    qrels = Qrels.from_ir_datasets(\"ir-lab-padua-2024/longeval-2023-01-20240426-training\")\n",
    "\n",
    "\n",
    "    print(\"df1\")\n",
    "    df_1 = get_df_with_sparse_cross_encoder_passage_scores(LONGEVAL_LAGS[\"lag1\"]['tira_id'], agg, system)\n",
    "\n",
    "    #df_1 = tira.pd.from_retriever_submission('ir-benchmarks/tira-ir-starter/ColBERT Re-Rank (tira-ir-starter-pyterrier)', LONGEVAL_LAGS[lag]['tira_id'])\n",
    "    \n",
    "    print(\"df2\")\n",
    "    df_2 = tira.pd.from_retriever_submission('workshop-on-open-web-search/fschlatt/rank-zephyr', LONGEVAL_LAGS[\"lag1\"]['tira_id'])\n",
    "    df_2 = normalize_run(df_2, system)\n",
    "\n",
    "    #df_3 = tira.pd.from_retriever_submission('ir-benchmarks/tira-ir-starter/MonoT5 Base (tira-ir-starter-gygaggle)', LONGEVAL_LAGS[lag]['tira_id'])\n",
    "\n",
    "    run1 = to_ranx_dict(df_1, qrels)\n",
    "    run2 = to_ranx_dict(df_2, qrels)\n",
    "\n",
    "    # best_params = optimize_fusion(\n",
    "    #     qrels=qrels,\n",
    "    #     runs=[run1, run2],\n",
    "    #     method=\"rrf\",\n",
    "    #     metric=\"ndcg@10\", \n",
    "    #     min_k = 0,\n",
    "    #     max_k = 10,\n",
    "    #     step = 1,\n",
    "    #     # min_k = 10,\n",
    "    #     # max_k = 100,\n",
    "    #     # step = 10,\n",
    "    #     show_progress = True,\n",
    "    # )\n",
    "    best_params = optimize_fusion(\n",
    "        qrels=qrels,\n",
    "        runs=[run1, run2],\n",
    "        norm=\"min-max\",\n",
    "        method=\"wsum\",\n",
    "        metric=\"ndcg@10\", \n",
    "        show_progress = True,\n",
    "    )\n",
    "    print(best_params)\n",
    "\n",
    "\n",
    "\n",
    "\n",
    "    for lag in tqdm(LONGEVAL_LAGS.keys()):\n",
    "        print(\"df1\")\n",
    "        df_1 = get_df_with_sparse_cross_encoder_passage_scores(LONGEVAL_LAGS[lag]['tira_id'], agg, system)\n",
    "\n",
    "        #df_1 = tira.pd.from_retriever_submission('ir-benchmarks/tira-ir-starter/ColBERT Re-Rank (tira-ir-starter-pyterrier)', LONGEVAL_LAGS[lag]['tira_id'])\n",
    "        \n",
    "        print(\"df2\")\n",
    "        df_2 = tira.pd.from_retriever_submission('workshop-on-open-web-search/fschlatt/rank-zephyr', LONGEVAL_LAGS[lag]['tira_id'])\n",
    "        df_2 = normalize_run(df_2, system)\n",
    "\n",
    "        #df_3 = tira.pd.from_retriever_submission('ir-benchmarks/tira-ir-starter/MonoT5 Base (tira-ir-starter-gygaggle)', LONGEVAL_LAGS[lag]['tira_id'])\n",
    "\n",
    "        run1 = to_ranx_dict(df_1)\n",
    "        run2 = to_ranx_dict(df_2)\n",
    "        \n",
    "        print(\"fuse\")\n",
    "        df = fuse(\n",
    "            runs=[run1, run2],\n",
    "            # method=\"rrf\",   \n",
    "            norm=\"min-max\",\n",
    "            method=\"wsum\",   \n",
    "            params=best_params,\n",
    "        )\n",
    "        df = from_ranx(df)\n",
    "        normalize_run(df, system).to_csv(f'{system}.{lag}', sep=\" \", header=False, index=False)"
   ]
  },
  {
   "cell_type": "code",
   "execution_count": 28,
   "metadata": {},
   "outputs": [
    {
     "name": "stdout",
     "output_type": "stream",
     "text": [
      "BM25\n",
      "Sparse Cross-Encoder\n",
      "ColBERT\n",
      "RankZephyr\n"
     ]
    },
    {
     "data": {
      "application/vnd.jupyter.widget-view+json": {
       "model_id": "a91f2f2a07b1453dbdfc41c85cb1331a",
       "version_major": 2,
       "version_minor": 0
      },
      "text/plain": [
       "Output()"
      ]
     },
     "metadata": {},
     "output_type": "display_data"
    },
    {
     "data": {
      "text/html": [
       "<pre style=\"white-space:pre;overflow-x:auto;line-height:normal;font-family:Menlo,'DejaVu Sans Mono',consolas,'Courier New',monospace\"></pre>\n"
      ],
      "text/plain": []
     },
     "metadata": {},
     "output_type": "display_data"
    },
    {
     "data": {
      "text/html": [
       "<pre style=\"white-space:pre;overflow-x:auto;line-height:normal;font-family:Menlo,'DejaVu Sans Mono',consolas,'Courier New',monospace\">\n",
       "</pre>\n"
      ],
      "text/plain": [
       "\n"
      ]
     },
     "metadata": {},
     "output_type": "display_data"
    },
    {
     "name": "stdout",
     "output_type": "stream",
     "text": [
      "{'weights': (0.1, 0.1, 0.1, 0.7)}\n"
     ]
    },
    {
     "name": "stderr",
     "output_type": "stream",
     "text": [
      "  0%|          | 0/3 [00:00<?, ?it/s]"
     ]
    },
    {
     "name": "stdout",
     "output_type": "stream",
     "text": [
      "BM25\n",
      "Sparse Cross-Encoder\n",
      "ColBERT\n",
      "RankZephyr\n",
      "fuse\n"
     ]
    },
    {
     "name": "stderr",
     "output_type": "stream",
     "text": [
      " 33%|███▎      | 1/3 [00:48<01:36, 48.41s/it]"
     ]
    },
    {
     "name": "stdout",
     "output_type": "stream",
     "text": [
      "BM25\n",
      "Sparse Cross-Encoder\n",
      "ColBERT\n",
      "RankZephyr\n",
      "fuse\n"
     ]
    },
    {
     "name": "stderr",
     "output_type": "stream",
     "text": [
      " 67%|██████▋   | 2/3 [01:10<00:32, 32.66s/it]"
     ]
    },
    {
     "name": "stdout",
     "output_type": "stream",
     "text": [
      "BM25\n",
      "Sparse Cross-Encoder\n",
      "ColBERT\n",
      "RankZephyr\n",
      "fuse\n"
     ]
    },
    {
     "name": "stderr",
     "output_type": "stream",
     "text": [
      "100%|██████████| 3/3 [03:00<00:00, 60.29s/it]\n"
     ]
    }
   ],
   "source": [
    "from ranx import fuse, optimize_fusion, Qrels\n",
    "\n",
    "qrels = Qrels.from_ir_datasets(\"ir-lab-padua-2024/longeval-2023-01-20240426-training\")\n",
    "\n",
    "print(\"BM25\")\n",
    "df_3 = tira.pd.from_retriever_submission('ir-benchmarks/tira-ir-starter/BM25 Re-Rank (tira-ir-starter-pyterrier)', LONGEVAL_LAGS[\"lag1\"]['tira_id'])\n",
    "print(\"Sparse Cross-Encoder\")\n",
    "df_4 = tira.pd.from_retriever_submission('ir-benchmarks/fschlatt/sparse-cross-encoder-4-512', LONGEVAL_LAGS[\"lag1\"]['tira_id'])\n",
    "print(\"ColBERT\")\n",
    "df_5 = tira.pd.from_retriever_submission('ir-benchmarks/tira-ir-starter/ColBERT Re-Rank (tira-ir-starter-pyterrier)', LONGEVAL_LAGS[\"lag1\"]['tira_id'])\n",
    "print(\"RankZephyr\")\n",
    "df_6 = normalize_run(tira.pd.from_retriever_submission('workshop-on-open-web-search/fschlatt/rank-zephyr', LONGEVAL_LAGS[\"lag1\"]['tira_id']), \"rank-zephyr\")\n",
    "\n",
    "run3 = to_ranx_dict(df_3, qrels)\n",
    "run4 = to_ranx_dict(df_4, qrels)\n",
    "run5 = to_ranx_dict(df_5, qrels)\n",
    "run6 = to_ranx_dict(df_6, qrels)\n",
    "\n",
    "best_params = optimize_fusion(\n",
    "    qrels=qrels,\n",
    "    runs=[run3, run4, run5, run6],\n",
    "    norm=\"min-max\",\n",
    "    method=\"wsum\",\n",
    "    metric=\"ndcg@10\", \n",
    "    show_progress = True,\n",
    "    # step=0.1, # -> best_params = (0.1, 0.1, 0.1, 0.7)\n",
    "    step=0.05, # -> best_params = (0.10, 0.10, 0.10, 0.70)\n",
    ")\n",
    "print(best_params)\n",
    "\n",
    "for lag in tqdm(LONGEVAL_LAGS.keys()):\n",
    "    print(\"BM25\")\n",
    "    df_3 = tira.pd.from_retriever_submission('ir-benchmarks/tira-ir-starter/BM25 Re-Rank (tira-ir-starter-pyterrier)', LONGEVAL_LAGS[lag]['tira_id'])\n",
    "    print(\"Sparse Cross-Encoder\")\n",
    "    df_4 = tira.pd.from_retriever_submission('ir-benchmarks/fschlatt/sparse-cross-encoder-4-512', LONGEVAL_LAGS[lag]['tira_id'])\n",
    "    print(\"ColBERT\")\n",
    "    df_5 = tira.pd.from_retriever_submission('ir-benchmarks/tira-ir-starter/ColBERT Re-Rank (tira-ir-starter-pyterrier)', LONGEVAL_LAGS[lag]['tira_id'])\n",
    "    print(\"RankZephyr\")\n",
    "    df_6 = normalize_run(tira.pd.from_retriever_submission('workshop-on-open-web-search/fschlatt/rank-zephyr', LONGEVAL_LAGS[lag]['tira_id']), \"rank-zephyr\")\n",
    "\n",
    "    run3 = to_ranx_dict(df_3, qrels)\n",
    "    run4 = to_ranx_dict(df_4, qrels)\n",
    "    run5 = to_ranx_dict(df_5, qrels)\n",
    "    run6 = to_ranx_dict(df_6, qrels)\n",
    "    \n",
    "    print(\"fuse\")\n",
    "    df = fuse(\n",
    "        runs=[run3, run4, run5, run6],\n",
    "        norm=\"min-max\",\n",
    "        method=\"wsum\",   \n",
    "        params=best_params,\n",
    "    )\n",
    "    df = from_ranx(df)\n",
    "    system = \"galapagos-tortoise-wsum\"\n",
    "    normalize_run(df, system).to_csv(f'{system}.{lag}', sep=\" \", header=False, index=False)"
   ]
  }
 ],
 "metadata": {
  "kernelspec": {
   "display_name": "Python 3",
   "language": "python",
   "name": "python3"
  },
  "language_info": {
   "codemirror_mode": {
    "name": "ipython",
    "version": 3
   },
   "file_extension": ".py",
   "mimetype": "text/x-python",
   "name": "python",
   "nbconvert_exporter": "python",
   "pygments_lexer": "ipython3",
   "version": "3.10.12"
  }
 },
 "nbformat": 4,
 "nbformat_minor": 2
}
