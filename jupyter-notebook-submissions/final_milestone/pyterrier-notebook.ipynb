{
 "cells": [
  {
   "cell_type": "markdown",
   "metadata": {},
   "source": [
    "# PyTerrier Notebook for Full-Rank Submissions\n",
    "\n",
    "This notebook serves as a baseline full-rank submission for [TIRA](https://tira.io)/[TIREx](https://tira.io/tirex) that builds a PyTerrier index and subsequently creates a run with BM25."
   ]
  },
  {
   "cell_type": "markdown",
   "metadata": {},
   "source": [
    "### Step 1: Ensure Libraries are Imported"
   ]
  },
  {
   "cell_type": "code",
   "execution_count": 1,
   "metadata": {},
   "outputs": [
    {
     "name": "stdout",
     "output_type": "stream",
     "text": [
      "Requirement already satisfied: python-terrier in /usr/local/python/3.10.13/lib/python3.10/site-packages (0.10.0)\n",
      "Requirement already satisfied: tira==0.0.88 in /usr/local/python/3.10.13/lib/python3.10/site-packages (0.0.88)\n",
      "Requirement already satisfied: ir_datasets in /usr/local/python/3.10.13/lib/python3.10/site-packages (0.5.5)\n",
      "Requirement already satisfied: requests==2.*,>=2.26 in /home/codespace/.local/lib/python3.10/site-packages (from tira==0.0.88) (2.31.0)\n",
      "Requirement already satisfied: docker==6.*,>=6.0.0 in /usr/local/python/3.10.13/lib/python3.10/site-packages (from tira==0.0.88) (6.1.3)\n",
      "Requirement already satisfied: pandas in /home/codespace/.local/lib/python3.10/site-packages (from tira==0.0.88) (2.1.3)\n",
      "Requirement already satisfied: packaging>=14.0 in /home/codespace/.local/lib/python3.10/site-packages (from docker==6.*,>=6.0.0->tira==0.0.88) (23.2)\n",
      "Requirement already satisfied: urllib3>=1.26.0 in /usr/local/python/3.10.13/lib/python3.10/site-packages (from docker==6.*,>=6.0.0->tira==0.0.88) (2.0.7)\n",
      "Requirement already satisfied: websocket-client>=0.32.0 in /home/codespace/.local/lib/python3.10/site-packages (from docker==6.*,>=6.0.0->tira==0.0.88) (1.7.0)\n",
      "Requirement already satisfied: charset-normalizer<4,>=2 in /home/codespace/.local/lib/python3.10/site-packages (from requests==2.*,>=2.26->tira==0.0.88) (3.3.2)\n",
      "Requirement already satisfied: idna<4,>=2.5 in /home/codespace/.local/lib/python3.10/site-packages (from requests==2.*,>=2.26->tira==0.0.88) (3.6)\n",
      "Requirement already satisfied: certifi>=2017.4.17 in /home/codespace/.local/lib/python3.10/site-packages (from requests==2.*,>=2.26->tira==0.0.88) (2023.11.17)\n",
      "Requirement already satisfied: numpy in /home/codespace/.local/lib/python3.10/site-packages (from python-terrier) (1.26.2)\n",
      "Requirement already satisfied: wget in /usr/local/python/3.10.13/lib/python3.10/site-packages (from python-terrier) (3.2)\n",
      "Requirement already satisfied: tqdm in /usr/local/python/3.10.13/lib/python3.10/site-packages (from python-terrier) (4.66.1)\n",
      "Requirement already satisfied: pyjnius>=1.4.2 in /usr/local/python/3.10.13/lib/python3.10/site-packages (from python-terrier) (1.6.1)\n",
      "Requirement already satisfied: matchpy in /usr/local/python/3.10.13/lib/python3.10/site-packages (from python-terrier) (0.5.5)\n",
      "Requirement already satisfied: scikit-learn in /home/codespace/.local/lib/python3.10/site-packages (from python-terrier) (1.3.2)\n",
      "Requirement already satisfied: deprecated in /usr/local/python/3.10.13/lib/python3.10/site-packages (from python-terrier) (1.2.14)\n",
      "Requirement already satisfied: chest in /usr/local/python/3.10.13/lib/python3.10/site-packages (from python-terrier) (0.2.3)\n",
      "Requirement already satisfied: scipy in /home/codespace/.local/lib/python3.10/site-packages (from python-terrier) (1.11.4)\n",
      "Requirement already satisfied: joblib in /home/codespace/.local/lib/python3.10/site-packages (from python-terrier) (1.3.2)\n",
      "Requirement already satisfied: nptyping==1.4.4 in /usr/local/python/3.10.13/lib/python3.10/site-packages (from python-terrier) (1.4.4)\n",
      "Requirement already satisfied: more-itertools in /usr/local/python/3.10.13/lib/python3.10/site-packages (from python-terrier) (10.1.0)\n",
      "Requirement already satisfied: jinja2 in /home/codespace/.local/lib/python3.10/site-packages (from python-terrier) (3.1.2)\n",
      "Requirement already satisfied: statsmodels in /usr/local/python/3.10.13/lib/python3.10/site-packages (from python-terrier) (0.14.1)\n",
      "Requirement already satisfied: ir-measures>=0.3.1 in /usr/local/python/3.10.13/lib/python3.10/site-packages (from python-terrier) (0.3.3)\n",
      "Requirement already satisfied: dill in /usr/local/python/3.10.13/lib/python3.10/site-packages (from python-terrier) (0.3.7)\n",
      "Requirement already satisfied: pytrec-eval-terrier>=0.5.3 in /usr/local/python/3.10.13/lib/python3.10/site-packages (from python-terrier) (0.5.6)\n",
      "Requirement already satisfied: typish>=1.7.0 in /usr/local/python/3.10.13/lib/python3.10/site-packages (from nptyping==1.4.4->python-terrier) (1.9.3)\n",
      "Requirement already satisfied: beautifulsoup4>=4.4.1 in /home/codespace/.local/lib/python3.10/site-packages (from ir_datasets) (4.12.2)\n",
      "Requirement already satisfied: inscriptis>=2.2.0 in /usr/local/python/3.10.13/lib/python3.10/site-packages (from ir_datasets) (2.3.2)\n",
      "Requirement already satisfied: lxml>=4.5.2 in /usr/local/python/3.10.13/lib/python3.10/site-packages (from ir_datasets) (4.9.4)\n",
      "Requirement already satisfied: pyyaml>=5.3.1 in /home/codespace/.local/lib/python3.10/site-packages (from ir_datasets) (6.0.1)\n",
      "Requirement already satisfied: trec-car-tools>=2.5.4 in /usr/local/python/3.10.13/lib/python3.10/site-packages (from ir_datasets) (2.6)\n",
      "Requirement already satisfied: lz4>=3.1.10 in /usr/local/python/3.10.13/lib/python3.10/site-packages (from ir_datasets) (4.3.2)\n",
      "Requirement already satisfied: warc3-wet>=0.2.3 in /usr/local/python/3.10.13/lib/python3.10/site-packages (from ir_datasets) (0.2.3)\n",
      "Requirement already satisfied: warc3-wet-clueweb09>=0.2.5 in /usr/local/python/3.10.13/lib/python3.10/site-packages (from ir_datasets) (0.2.5)\n",
      "Requirement already satisfied: zlib-state>=0.1.3 in /usr/local/python/3.10.13/lib/python3.10/site-packages (from ir_datasets) (0.1.6)\n",
      "Requirement already satisfied: ijson>=3.1.3 in /usr/local/python/3.10.13/lib/python3.10/site-packages (from ir_datasets) (3.2.3)\n",
      "Requirement already satisfied: pyautocorpus>=0.1.1 in /usr/local/python/3.10.13/lib/python3.10/site-packages (from ir_datasets) (0.1.12)\n",
      "Requirement already satisfied: unlzw3>=0.2.1 in /usr/local/python/3.10.13/lib/python3.10/site-packages (from ir_datasets) (0.2.2)\n",
      "Requirement already satisfied: soupsieve>1.2 in /home/codespace/.local/lib/python3.10/site-packages (from beautifulsoup4>=4.4.1->ir_datasets) (2.5)\n",
      "Requirement already satisfied: cwl-eval>=1.0.10 in /usr/local/python/3.10.13/lib/python3.10/site-packages (from ir-measures>=0.3.1->python-terrier) (1.0.12)\n",
      "Requirement already satisfied: cbor>=1.0.0 in /usr/local/python/3.10.13/lib/python3.10/site-packages (from trec-car-tools>=2.5.4->ir_datasets) (1.0.0)\n",
      "Requirement already satisfied: heapdict in /usr/local/python/3.10.13/lib/python3.10/site-packages (from chest->python-terrier) (1.0.1)\n",
      "Requirement already satisfied: wrapt<2,>=1.10 in /usr/local/python/3.10.13/lib/python3.10/site-packages (from deprecated->python-terrier) (1.16.0)\n",
      "Requirement already satisfied: MarkupSafe>=2.0 in /home/codespace/.local/lib/python3.10/site-packages (from jinja2->python-terrier) (2.1.3)\n",
      "Requirement already satisfied: multiset<3.0,>=2.0 in /usr/local/python/3.10.13/lib/python3.10/site-packages (from matchpy->python-terrier) (2.1.1)\n",
      "Requirement already satisfied: python-dateutil>=2.8.2 in /home/codespace/.local/lib/python3.10/site-packages (from pandas->tira==0.0.88) (2.8.2)\n",
      "Requirement already satisfied: pytz>=2020.1 in /home/codespace/.local/lib/python3.10/site-packages (from pandas->tira==0.0.88) (2023.3.post1)\n",
      "Requirement already satisfied: tzdata>=2022.1 in /home/codespace/.local/lib/python3.10/site-packages (from pandas->tira==0.0.88) (2023.3)\n",
      "Requirement already satisfied: threadpoolctl>=2.0.0 in /home/codespace/.local/lib/python3.10/site-packages (from scikit-learn->python-terrier) (3.2.0)\n",
      "Requirement already satisfied: patsy>=0.5.4 in /usr/local/python/3.10.13/lib/python3.10/site-packages (from statsmodels->python-terrier) (0.5.4)\n",
      "Requirement already satisfied: six in /home/codespace/.local/lib/python3.10/site-packages (from patsy>=0.5.4->statsmodels->python-terrier) (1.16.0)\n",
      "\n",
      "\u001b[1m[\u001b[0m\u001b[34;49mnotice\u001b[0m\u001b[1;39;49m]\u001b[0m\u001b[39;49m A new release of pip is available: \u001b[0m\u001b[31;49m23.3.1\u001b[0m\u001b[39;49m -> \u001b[0m\u001b[32;49m23.3.2\u001b[0m\n",
      "\u001b[1m[\u001b[0m\u001b[34;49mnotice\u001b[0m\u001b[1;39;49m]\u001b[0m\u001b[39;49m To update, run: \u001b[0m\u001b[32;49mpython -m pip install --upgrade pip\u001b[0m\n",
      "\n",
      "\u001b[1m[\u001b[0m\u001b[34;49mnotice\u001b[0m\u001b[1;39;49m]\u001b[0m\u001b[39;49m A new release of pip is available: \u001b[0m\u001b[31;49m23.3.1\u001b[0m\u001b[39;49m -> \u001b[0m\u001b[32;49m23.3.2\u001b[0m\n",
      "\u001b[1m[\u001b[0m\u001b[34;49mnotice\u001b[0m\u001b[1;39;49m]\u001b[0m\u001b[39;49m To update, run: \u001b[0m\u001b[32;49mpython -m pip install --upgrade pip\u001b[0m\n",
      "\n",
      "\u001b[1m[\u001b[0m\u001b[34;49mnotice\u001b[0m\u001b[1;39;49m]\u001b[0m\u001b[39;49m A new release of pip is available: \u001b[0m\u001b[31;49m23.3.1\u001b[0m\u001b[39;49m -> \u001b[0m\u001b[32;49m23.3.2\u001b[0m\n",
      "\u001b[1m[\u001b[0m\u001b[34;49mnotice\u001b[0m\u001b[1;39;49m]\u001b[0m\u001b[39;49m To update, run: \u001b[0m\u001b[32;49mpython -m pip install --upgrade pip\u001b[0m\n"
     ]
    },
    {
     "name": "stderr",
     "output_type": "stream",
     "text": [
      "/home/codespace/.python/current/lib/python3.10/site-packages/tqdm/auto.py:21: TqdmWarning: IProgress not found. Please update jupyter and ipywidgets. See https://ipywidgets.readthedocs.io/en/stable/user_install.html\n",
      "  from .autonotebook import tqdm as notebook_tqdm\n"
     ]
    }
   ],
   "source": [
    "import os\n",
    "\n",
    "# Detect if we are in the TIRA sandbox\n",
    "# Install the required dependencies if we are not in the sandbox.\n",
    "if 'TIRA_DATASET_ID' not in os.environ:\n",
    "    !pip3 install  python-terrier tira==0.0.88 ir_datasets\n",
    "    !pip3 install -q python-terrier\n",
    "    !pip3 install -q --upgrade git+https://github.com/terrierteam/pyterrier_t5.git\n",
    "else:\n",
    "    print('We are in the TIRA sandbox.')\n",
    "\n",
    "from tira.third_party_integrations import ensure_pyterrier_is_loaded, persist_and_normalize_run\n",
    "\n",
    "# PyTerrier must be imported after the call to ensure_pyterrier_is_loaded in TIRA.\n",
    "import pyterrier as pt"
   ]
  },
  {
   "cell_type": "markdown",
   "metadata": {},
   "source": [
    "Ensure Pyterrier integration is loaded"
   ]
  },
  {
   "cell_type": "code",
   "execution_count": 2,
   "metadata": {},
   "outputs": [
    {
     "name": "stdout",
     "output_type": "stream",
     "text": [
      "Due to execution in TIRA, I have patched ir_datasets to always return the single input dataset mounted to the sandbox.\n",
      "Start PyTerrier with version=5.7, helper_version=0.0.7, no_download=True\n"
     ]
    },
    {
     "name": "stderr",
     "output_type": "stream",
     "text": [
      "PyTerrier 0.10.0 has loaded Terrier 5.7 (built by craigm on 2022-11-10 18:30) and terrier-helper 0.0.7\n",
      "\n",
      "No etc/terrier.properties, using terrier.default.properties for bootstrap configuration.\n"
     ]
    }
   ],
   "source": [
    "ensure_pyterrier_is_loaded()"
   ]
  },
  {
   "cell_type": "markdown",
   "metadata": {},
   "source": [
    "### Step 2: Load data, create index"
   ]
  },
  {
   "cell_type": "code",
   "execution_count": 49,
   "metadata": {},
   "outputs": [
    {
     "name": "stdout",
     "output_type": "stream",
     "text": [
      "No settings given in /home/codespace/.tira/.tira-settings.json. I will use defaults.\n",
      "No settings given in /home/codespace/.tira/.tira-settings.json. I will use defaults.\n"
     ]
    },
    {
     "name": "stderr",
     "output_type": "stream",
     "text": [
      "ir-lab-jena-leipzig-wise-2023/validation-20231104-training documents:   0%|          | 1/61307 [00:00<2:18:15,  7.39it/s]"
     ]
    },
    {
     "name": "stdout",
     "output_type": "stream",
     "text": [
      "No settings given in /home/codespace/.tira/.tira-settings.json. I will use defaults.\n",
      "No settings given in /home/codespace/.tira/.tira-settings.json. I will use defaults.\n"
     ]
    },
    {
     "name": "stderr",
     "output_type": "stream",
     "text": [
      "ir-lab-jena-leipzig-wise-2023/validation-20231104-training documents: 100%|██████████| 61307/61307 [00:49<00:00, 1240.79it/s]\n"
     ]
    }
   ],
   "source": [
    "dataset = pt.get_dataset('irds:ir-lab-jena-leipzig-wise-2023/validation-20231104-training')\n",
    "qrels = dataset.get_qrels()\n",
    "topics = dataset.get_topics(variant=\"title\")[:5]\n",
    "\n",
    "from pathlib import Path\n",
    "index_loc = \"./index\"\n",
    "if not (Path(index_loc) / \"data.properties\").exists():\n",
    "    indexer = pt.IterDictIndexer(index_loc)\n",
    "    indexref = indexer.index(dataset.get_corpus_iter())\n",
    "else:\n",
    "    indexref = pt.IndexFactory.of(index_loc)"
   ]
  },
  {
   "cell_type": "markdown",
   "metadata": {},
   "source": [
    "### Step 3: Create retrieval pipeline\n",
    "\n",
    "#### We aim for retrieving documents via a linear combination of PL2 and BM25. Firstly, let's focus on PL2."
   ]
  },
  {
   "cell_type": "code",
   "execution_count": 50,
   "metadata": {},
   "outputs": [],
   "source": [
    "pl2 = pt.BatchRetrieve(indexref, wmodel=\"PL2\", verbose=True)"
   ]
  },
  {
   "cell_type": "markdown",
   "metadata": {},
   "source": [
    "#### Next, we perform BM25-retrieval with query expansion."
   ]
  },
  {
   "cell_type": "code",
   "execution_count": 51,
   "metadata": {},
   "outputs": [],
   "source": [
    "bm25 = pt.BatchRetrieve(indexref, wmodel=\"BM25\", verbose=True)\n",
    "\n",
    "bo1_expansion = bm25 >> pt.rewrite.Bo1QueryExpansion(indexref)\n",
    "bm25_bo1 = bo1_expansion >> bm25"
   ]
  },
  {
   "cell_type": "markdown",
   "metadata": {},
   "source": [
    "#### Let's combine the two systems."
   ]
  },
  {
   "cell_type": "code",
   "execution_count": 52,
   "metadata": {},
   "outputs": [],
   "source": [
    "bm25_bo1_pl2 = (2* bm25_bo1 + pl2)"
   ]
  },
  {
   "cell_type": "markdown",
   "metadata": {},
   "source": [
    "#### Test to ensure that renaming of dataframe is needed for reranking."
   ]
  },
  {
   "cell_type": "code",
   "execution_count": 53,
   "metadata": {},
   "outputs": [
    {
     "name": "stderr",
     "output_type": "stream",
     "text": [
      "BR(BM25): 100%|██████████| 5/5 [00:00<00:00, 22.31q/s]\n",
      "BR(BM25):   0%|          | 0/5 [00:00<?, ?q/s]"
     ]
    },
    {
     "name": "stderr",
     "output_type": "stream",
     "text": [
      "BR(BM25): 100%|██████████| 5/5 [00:00<00:00, 19.57q/s]\n",
      "BR(PL2): 100%|██████████| 5/5 [00:00<00:00, 27.19q/s]\n"
     ]
    },
    {
     "data": {
      "text/html": [
       "<div>\n",
       "<style scoped>\n",
       "    .dataframe tbody tr th:only-of-type {\n",
       "        vertical-align: middle;\n",
       "    }\n",
       "\n",
       "    .dataframe tbody tr th {\n",
       "        vertical-align: top;\n",
       "    }\n",
       "\n",
       "    .dataframe thead th {\n",
       "        text-align: right;\n",
       "    }\n",
       "</style>\n",
       "<table border=\"1\" class=\"dataframe\">\n",
       "  <thead>\n",
       "    <tr style=\"text-align: right;\">\n",
       "      <th></th>\n",
       "      <th>qid</th>\n",
       "      <th>docid</th>\n",
       "      <th>docno</th>\n",
       "      <th>score</th>\n",
       "      <th>query</th>\n",
       "      <th>query_0</th>\n",
       "      <th>rank</th>\n",
       "    </tr>\n",
       "  </thead>\n",
       "  <tbody>\n",
       "    <tr>\n",
       "      <th>0</th>\n",
       "      <td>q072224</td>\n",
       "      <td>59628.0</td>\n",
       "      <td>doc072202002905</td>\n",
       "      <td>36.642224</td>\n",
       "      <td>purchase money</td>\n",
       "      <td>applypipeline:off purchas^1.124916191 monei^1....</td>\n",
       "      <td>0</td>\n",
       "    </tr>\n",
       "    <tr>\n",
       "      <th>1</th>\n",
       "      <td>q072224</td>\n",
       "      <td>27801.0</td>\n",
       "      <td>doc072211705166</td>\n",
       "      <td>32.470182</td>\n",
       "      <td>purchase money</td>\n",
       "      <td>applypipeline:off purchas^1.124916191 monei^1....</td>\n",
       "      <td>2</td>\n",
       "    </tr>\n",
       "    <tr>\n",
       "      <th>2</th>\n",
       "      <td>q072224</td>\n",
       "      <td>16790.0</td>\n",
       "      <td>doc072215502070</td>\n",
       "      <td>32.121412</td>\n",
       "      <td>purchase money</td>\n",
       "      <td>applypipeline:off purchas^1.124916191 monei^1....</td>\n",
       "      <td>3</td>\n",
       "    </tr>\n",
       "    <tr>\n",
       "      <th>3</th>\n",
       "      <td>q072224</td>\n",
       "      <td>19718.0</td>\n",
       "      <td>doc072211305429</td>\n",
       "      <td>32.121412</td>\n",
       "      <td>purchase money</td>\n",
       "      <td>applypipeline:off purchas^1.124916191 monei^1....</td>\n",
       "      <td>4</td>\n",
       "    </tr>\n",
       "    <tr>\n",
       "      <th>4</th>\n",
       "      <td>q072224</td>\n",
       "      <td>40315.0</td>\n",
       "      <td>doc072203203007</td>\n",
       "      <td>32.121412</td>\n",
       "      <td>purchase money</td>\n",
       "      <td>applypipeline:off purchas^1.124916191 monei^1....</td>\n",
       "      <td>5</td>\n",
       "    </tr>\n",
       "    <tr>\n",
       "      <th>...</th>\n",
       "      <td>...</td>\n",
       "      <td>...</td>\n",
       "      <td>...</td>\n",
       "      <td>...</td>\n",
       "      <td>...</td>\n",
       "      <td>...</td>\n",
       "      <td>...</td>\n",
       "    </tr>\n",
       "    <tr>\n",
       "      <th>6515</th>\n",
       "      <td>q072242</td>\n",
       "      <td>NaN</td>\n",
       "      <td>doc072201001557</td>\n",
       "      <td>2.758636</td>\n",
       "      <td>NaN</td>\n",
       "      <td>NaN</td>\n",
       "      <td>1527</td>\n",
       "    </tr>\n",
       "    <tr>\n",
       "      <th>6516</th>\n",
       "      <td>q072242</td>\n",
       "      <td>NaN</td>\n",
       "      <td>doc072203205122</td>\n",
       "      <td>2.757709</td>\n",
       "      <td>NaN</td>\n",
       "      <td>NaN</td>\n",
       "      <td>1528</td>\n",
       "    </tr>\n",
       "    <tr>\n",
       "      <th>6517</th>\n",
       "      <td>q072242</td>\n",
       "      <td>NaN</td>\n",
       "      <td>doc072200401101</td>\n",
       "      <td>2.756787</td>\n",
       "      <td>NaN</td>\n",
       "      <td>NaN</td>\n",
       "      <td>1529</td>\n",
       "    </tr>\n",
       "    <tr>\n",
       "      <th>6518</th>\n",
       "      <td>q072242</td>\n",
       "      <td>NaN</td>\n",
       "      <td>doc072208905974</td>\n",
       "      <td>2.755216</td>\n",
       "      <td>NaN</td>\n",
       "      <td>NaN</td>\n",
       "      <td>1530</td>\n",
       "    </tr>\n",
       "    <tr>\n",
       "      <th>6519</th>\n",
       "      <td>q072242</td>\n",
       "      <td>NaN</td>\n",
       "      <td>doc072215104150</td>\n",
       "      <td>2.749386</td>\n",
       "      <td>NaN</td>\n",
       "      <td>NaN</td>\n",
       "      <td>1531</td>\n",
       "    </tr>\n",
       "  </tbody>\n",
       "</table>\n",
       "<p>6520 rows × 7 columns</p>\n",
       "</div>"
      ],
      "text/plain": [
       "          qid    docid            docno      score           query  \\\n",
       "0     q072224  59628.0  doc072202002905  36.642224  purchase money   \n",
       "1     q072224  27801.0  doc072211705166  32.470182  purchase money   \n",
       "2     q072224  16790.0  doc072215502070  32.121412  purchase money   \n",
       "3     q072224  19718.0  doc072211305429  32.121412  purchase money   \n",
       "4     q072224  40315.0  doc072203203007  32.121412  purchase money   \n",
       "...       ...      ...              ...        ...             ...   \n",
       "6515  q072242      NaN  doc072201001557   2.758636             NaN   \n",
       "6516  q072242      NaN  doc072203205122   2.757709             NaN   \n",
       "6517  q072242      NaN  doc072200401101   2.756787             NaN   \n",
       "6518  q072242      NaN  doc072208905974   2.755216             NaN   \n",
       "6519  q072242      NaN  doc072215104150   2.749386             NaN   \n",
       "\n",
       "                                                query_0  rank  \n",
       "0     applypipeline:off purchas^1.124916191 monei^1....     0  \n",
       "1     applypipeline:off purchas^1.124916191 monei^1....     2  \n",
       "2     applypipeline:off purchas^1.124916191 monei^1....     3  \n",
       "3     applypipeline:off purchas^1.124916191 monei^1....     4  \n",
       "4     applypipeline:off purchas^1.124916191 monei^1....     5  \n",
       "...                                                 ...   ...  \n",
       "6515                                                NaN  1527  \n",
       "6516                                                NaN  1528  \n",
       "6517                                                NaN  1529  \n",
       "6518                                                NaN  1530  \n",
       "6519                                                NaN  1531  \n",
       "\n",
       "[6520 rows x 7 columns]"
      ]
     },
     "execution_count": 53,
     "metadata": {},
     "output_type": "execute_result"
    }
   ],
   "source": [
    "run = bm25_bo1_pl2(topics)\n",
    "run.rename(columns= {\"query\": \"query_0\", \"query_0\": \"query\"})"
   ]
  },
  {
   "cell_type": "markdown",
   "metadata": {},
   "source": [
    "### Next, we want to rerank the output with a transformer.\n",
    "(after loading the document text and resetting the expanded query)"
   ]
  },
  {
   "cell_type": "code",
   "execution_count": 54,
   "metadata": {},
   "outputs": [
    {
     "name": "stdout",
     "output_type": "stream",
     "text": [
      "No settings given in /home/codespace/.tira/.tira-settings.json. I will use defaults.\n",
      "No settings given in /home/codespace/.tira/.tira-settings.json. I will use defaults.\n"
     ]
    },
    {
     "name": "stderr",
     "output_type": "stream",
     "text": [
      "ir-lab-jena-leipzig-wise-2023/validation-20231104-training documents:   6%|▌         | 3532/61307 [00:00<00:03, 17641.79it/s]"
     ]
    },
    {
     "name": "stdout",
     "output_type": "stream",
     "text": [
      "No settings given in /home/codespace/.tira/.tira-settings.json. I will use defaults.\n",
      "No settings given in /home/codespace/.tira/.tira-settings.json. I will use defaults.\n"
     ]
    },
    {
     "name": "stderr",
     "output_type": "stream",
     "text": [
      "ir-lab-jena-leipzig-wise-2023/validation-20231104-training documents: 100%|██████████| 61307/61307 [00:03<00:00, 18041.20it/s]\n"
     ]
    }
   ],
   "source": [
    "import pandas as pd\n",
    "\n",
    "corpus = pd.DataFrame(dataset.get_corpus_iter())\n",
    "\n",
    "\n",
    "class GetText(pt.Transformer):\n",
    "    def transform(self, topics_or_res: pd.DataFrame) -> pd.DataFrame:\n",
    "        return pd.merge(topics_or_res, corpus, on=\"docno\")\n",
    "\n",
    "    \n",
    "class ResetQueryColumn(pt.Transformer):\n",
    "    def transform(self, topics_or_res: pd.DataFrame) -> pd.DataFrame:\n",
    "        return topics_or_res.rename(columns= {\"query\": \"query_0\", \"query_0\": \"query\"})\n"
   ]
  },
  {
   "cell_type": "code",
   "execution_count": 55,
   "metadata": {},
   "outputs": [],
   "source": [
    "# from pyterrier_t5 import MonoT5ReRanker\n",
    "# monoT5 = MonoT5ReRanker(verbose=True, batch_size=1)\n",
    "\n",
    "# For debugging (GitHub Codespaces seem to not have enough RAM to run monoT5):\n",
    "monoT5 = pt.text.scorer(body_attr=\"text\", wmodel=\"BM25\")"
   ]
  },
  {
   "cell_type": "code",
   "execution_count": 56,
   "metadata": {},
   "outputs": [],
   "source": [
    "bm25_bo1_pl2_mono = (\n",
    "    bm25_bo1_pl2 % 10 >> \n",
    "    GetText() >> \n",
    "    ResetQueryColumn() >> \n",
    "    pt.text.sliding(length=400, stride=64, prepend_attr=None, text_attr=\"text\") % 5 >> \n",
    "    monoT5)"
   ]
  },
  {
   "cell_type": "markdown",
   "metadata": {},
   "source": [
    "#### Cache the pipeline."
   ]
  },
  {
   "cell_type": "code",
   "execution_count": 57,
   "metadata": {},
   "outputs": [],
   "source": [
    "import pandas as pd\n",
    "from dataclasses import dataclass\n",
    "\n",
    "\n",
    "@dataclass(frozen=True)\n",
    "class NamedTransformer(pt.Transformer):\n",
    "    nametrans: str\n",
    "    wrapped: pt.Transformer\n",
    "\n",
    "    def __repr__(self) -> str:\n",
    "        return self.nametrans\n",
    "\n",
    "    def transform(self, df: pd.DataFrame) -> pd.DataFrame:\n",
    "        return self.wrapped.transform(df)\n"
   ]
  },
  {
   "cell_type": "code",
   "execution_count": 58,
   "metadata": {},
   "outputs": [
    {
     "data": {
      "text/plain": [
       "'Cache(bm25_bo1_pl2_mono_cache_bust_6)'"
      ]
     },
     "execution_count": 58,
     "metadata": {},
     "output_type": "execute_result"
    }
   ],
   "source": [
    "bm25_bo1_pl2_mono_cached = ~NamedTransformer(\"bm25_bo1_pl2_mono_cache_bust_6\", bm25_bo1_pl2_mono)\n",
    "repr(bm25_bo1_pl2_mono_cached)"
   ]
  },
  {
   "cell_type": "markdown",
   "metadata": {},
   "source": [
    "### Hypothesis 1: There is a significant ($\\alpha < 0.05$) difference w.r.t. nDCG between aggregating with max passage and mean passage.\n",
    "\n",
    "#### Firstly, rerank with max passage aggregation."
   ]
  },
  {
   "cell_type": "code",
   "execution_count": 59,
   "metadata": {},
   "outputs": [
    {
     "name": "stderr",
     "output_type": "stream",
     "text": [
      "BR(BM25): 100%|██████████| 5/5 [00:00<00:00, 30.08q/s]\n",
      "BR(BM25): 100%|██████████| 5/5 [00:00<00:00, 41.30q/s]\n",
      "BR(PL2): 100%|██████████| 5/5 [00:00<00:00, 51.37q/s]\n"
     ]
    },
    {
     "name": "stdout",
     "output_type": "stream",
     "text": [
      "calling sliding on df of 50 rows\n"
     ]
    },
    {
     "name": "stderr",
     "output_type": "stream",
     "text": [
      "                                                 \r"
     ]
    },
    {
     "name": "stdout",
     "output_type": "stream",
     "text": [
      "16:50:30.897 [main] WARN org.terrier.querying.ApplyTermPipeline - The index has no termpipelines configuration, and no control configuration is found. Defaulting to global termpipelines configuration of 'Stopwords,PorterStemmer'. Set a termpipelines control to remove this warning.\n"
     ]
    },
    {
     "data": {
      "text/html": [
       "<div>\n",
       "<style scoped>\n",
       "    .dataframe tbody tr th:only-of-type {\n",
       "        vertical-align: middle;\n",
       "    }\n",
       "\n",
       "    .dataframe tbody tr th {\n",
       "        vertical-align: top;\n",
       "    }\n",
       "\n",
       "    .dataframe thead th {\n",
       "        text-align: right;\n",
       "    }\n",
       "</style>\n",
       "<table border=\"1\" class=\"dataframe\">\n",
       "  <thead>\n",
       "    <tr style=\"text-align: right;\">\n",
       "      <th></th>\n",
       "      <th>qid</th>\n",
       "      <th>query_0</th>\n",
       "      <th>text</th>\n",
       "      <th>score</th>\n",
       "      <th>query</th>\n",
       "      <th>docno</th>\n",
       "      <th>rank</th>\n",
       "    </tr>\n",
       "  </thead>\n",
       "  <tbody>\n",
       "    <tr>\n",
       "      <th>1</th>\n",
       "      <td>q072224</td>\n",
       "      <td>applypipeline:off purchas^1.124916191 monei^1....</td>\n",
       "      <td>party's liability and enforce your legal right...</td>\n",
       "      <td>0.571663</td>\n",
       "      <td>purchase money</td>\n",
       "      <td>doc072202002905</td>\n",
       "      <td>4</td>\n",
       "    </tr>\n",
       "    <tr>\n",
       "      <th>48</th>\n",
       "      <td>q072224</td>\n",
       "      <td>applypipeline:off purchas^1.124916191 monei^1....</td>\n",
       "      <td>Taxation on the purchase and sale of money in...</td>\n",
       "      <td>0.661203</td>\n",
       "      <td>purchase money</td>\n",
       "      <td>doc072205301584</td>\n",
       "      <td>3</td>\n",
       "    </tr>\n",
       "    <tr>\n",
       "      <th>45</th>\n",
       "      <td>q072224</td>\n",
       "      <td>applypipeline:off purchas^1.124916191 monei^1....</td>\n",
       "      <td>which he has on hand. It will also have the Tr...</td>\n",
       "      <td>1.222447</td>\n",
       "      <td>purchase money</td>\n",
       "      <td>doc072211305429</td>\n",
       "      <td>0</td>\n",
       "    </tr>\n",
       "    <tr>\n",
       "      <th>9</th>\n",
       "      <td>q072224</td>\n",
       "      <td>applypipeline:off purchas^1.124916191 monei^1....</td>\n",
       "      <td>took place using illegally-procured money; wor...</td>\n",
       "      <td>1.176020</td>\n",
       "      <td>purchase money</td>\n",
       "      <td>doc072211705166</td>\n",
       "      <td>2</td>\n",
       "    </tr>\n",
       "    <tr>\n",
       "      <th>27</th>\n",
       "      <td>q072224</td>\n",
       "      <td>applypipeline:off purchas^1.124916191 monei^1....</td>\n",
       "      <td>he has on hand. It will also have the Treasury...</td>\n",
       "      <td>1.222447</td>\n",
       "      <td>purchase money</td>\n",
       "      <td>doc072215502070</td>\n",
       "      <td>1</td>\n",
       "    </tr>\n",
       "  </tbody>\n",
       "</table>\n",
       "</div>"
      ],
      "text/plain": [
       "        qid                                            query_0  \\\n",
       "1   q072224  applypipeline:off purchas^1.124916191 monei^1....   \n",
       "48  q072224  applypipeline:off purchas^1.124916191 monei^1....   \n",
       "45  q072224  applypipeline:off purchas^1.124916191 monei^1....   \n",
       "9   q072224  applypipeline:off purchas^1.124916191 monei^1....   \n",
       "27  q072224  applypipeline:off purchas^1.124916191 monei^1....   \n",
       "\n",
       "                                                 text     score  \\\n",
       "1   party's liability and enforce your legal right...  0.571663   \n",
       "48   Taxation on the purchase and sale of money in...  0.661203   \n",
       "45  which he has on hand. It will also have the Tr...  1.222447   \n",
       "9   took place using illegally-procured money; wor...  1.176020   \n",
       "27  he has on hand. It will also have the Treasury...  1.222447   \n",
       "\n",
       "             query            docno  rank  \n",
       "1   purchase money  doc072202002905     4  \n",
       "48  purchase money  doc072205301584     3  \n",
       "45  purchase money  doc072211305429     0  \n",
       "9   purchase money  doc072211705166     2  \n",
       "27  purchase money  doc072215502070     1  "
      ]
     },
     "execution_count": 59,
     "metadata": {},
     "output_type": "execute_result"
    }
   ],
   "source": [
    "bm25_bo1_pl2_max = bm25_bo1_pl2_mono_cached >> pt.text.max_passage()\n",
    "bm25_bo1_pl2_max.transform(topics).head()"
   ]
  },
  {
   "cell_type": "markdown",
   "metadata": {},
   "source": [
    "#### Secondly, rerank with mean passage aggregation."
   ]
  },
  {
   "cell_type": "code",
   "execution_count": 60,
   "metadata": {},
   "outputs": [
    {
     "data": {
      "text/html": [
       "<div>\n",
       "<style scoped>\n",
       "    .dataframe tbody tr th:only-of-type {\n",
       "        vertical-align: middle;\n",
       "    }\n",
       "\n",
       "    .dataframe tbody tr th {\n",
       "        vertical-align: top;\n",
       "    }\n",
       "\n",
       "    .dataframe thead th {\n",
       "        text-align: right;\n",
       "    }\n",
       "</style>\n",
       "<table border=\"1\" class=\"dataframe\">\n",
       "  <thead>\n",
       "    <tr style=\"text-align: right;\">\n",
       "      <th></th>\n",
       "      <th>qid</th>\n",
       "      <th>docno</th>\n",
       "      <th>score</th>\n",
       "      <th>query</th>\n",
       "      <th>query_0</th>\n",
       "      <th>rank</th>\n",
       "    </tr>\n",
       "  </thead>\n",
       "  <tbody>\n",
       "    <tr>\n",
       "      <th>0</th>\n",
       "      <td>q072224</td>\n",
       "      <td>doc072202002905</td>\n",
       "      <td>0.521324</td>\n",
       "      <td>purchase money</td>\n",
       "      <td>applypipeline:off purchas^1.124916191 monei^1....</td>\n",
       "      <td>4</td>\n",
       "    </tr>\n",
       "    <tr>\n",
       "      <th>1</th>\n",
       "      <td>q072224</td>\n",
       "      <td>doc072205301584</td>\n",
       "      <td>0.661203</td>\n",
       "      <td>purchase money</td>\n",
       "      <td>applypipeline:off purchas^1.124916191 monei^1....</td>\n",
       "      <td>3</td>\n",
       "    </tr>\n",
       "    <tr>\n",
       "      <th>2</th>\n",
       "      <td>q072224</td>\n",
       "      <td>doc072211305429</td>\n",
       "      <td>0.861788</td>\n",
       "      <td>purchase money</td>\n",
       "      <td>applypipeline:off purchas^1.124916191 monei^1....</td>\n",
       "      <td>0</td>\n",
       "    </tr>\n",
       "    <tr>\n",
       "      <th>3</th>\n",
       "      <td>q072224</td>\n",
       "      <td>doc072211705166</td>\n",
       "      <td>0.788268</td>\n",
       "      <td>purchase money</td>\n",
       "      <td>applypipeline:off purchas^1.124916191 monei^1....</td>\n",
       "      <td>2</td>\n",
       "    </tr>\n",
       "    <tr>\n",
       "      <th>4</th>\n",
       "      <td>q072224</td>\n",
       "      <td>doc072215502070</td>\n",
       "      <td>0.844719</td>\n",
       "      <td>purchase money</td>\n",
       "      <td>applypipeline:off purchas^1.124916191 monei^1....</td>\n",
       "      <td>1</td>\n",
       "    </tr>\n",
       "  </tbody>\n",
       "</table>\n",
       "</div>"
      ],
      "text/plain": [
       "       qid            docno     score           query  \\\n",
       "0  q072224  doc072202002905  0.521324  purchase money   \n",
       "1  q072224  doc072205301584  0.661203  purchase money   \n",
       "2  q072224  doc072211305429  0.861788  purchase money   \n",
       "3  q072224  doc072211705166  0.788268  purchase money   \n",
       "4  q072224  doc072215502070  0.844719  purchase money   \n",
       "\n",
       "                                             query_0  rank  \n",
       "0  applypipeline:off purchas^1.124916191 monei^1....     4  \n",
       "1  applypipeline:off purchas^1.124916191 monei^1....     3  \n",
       "2  applypipeline:off purchas^1.124916191 monei^1....     0  \n",
       "3  applypipeline:off purchas^1.124916191 monei^1....     2  \n",
       "4  applypipeline:off purchas^1.124916191 monei^1....     1  "
      ]
     },
     "execution_count": 60,
     "metadata": {},
     "output_type": "execute_result"
    }
   ],
   "source": [
    "bm25_bo1_pl2_mean = bm25_bo1_pl2_mono_cached  >> pt.text.mean_passage()\n",
    "bm25_bo1_pl2_mean.transform(topics).head()"
   ]
  },
  {
   "cell_type": "markdown",
   "metadata": {},
   "source": [
    "#### Let's compare both systems."
   ]
  },
  {
   "cell_type": "code",
   "execution_count": 61,
   "metadata": {},
   "outputs": [
    {
     "data": {
      "text/html": [
       "<div>\n",
       "<style scoped>\n",
       "    .dataframe tbody tr th:only-of-type {\n",
       "        vertical-align: middle;\n",
       "    }\n",
       "\n",
       "    .dataframe tbody tr th {\n",
       "        vertical-align: top;\n",
       "    }\n",
       "\n",
       "    .dataframe thead th {\n",
       "        text-align: right;\n",
       "    }\n",
       "</style>\n",
       "<table border=\"1\" class=\"dataframe\">\n",
       "  <thead>\n",
       "    <tr style=\"text-align: right;\">\n",
       "      <th></th>\n",
       "      <th>name</th>\n",
       "      <th>ndcg_cut_5</th>\n",
       "    </tr>\n",
       "  </thead>\n",
       "  <tbody>\n",
       "    <tr>\n",
       "      <th>0</th>\n",
       "      <td>max passage</td>\n",
       "      <td>0.0</td>\n",
       "    </tr>\n",
       "    <tr>\n",
       "      <th>1</th>\n",
       "      <td>mean passage</td>\n",
       "      <td>0.0</td>\n",
       "    </tr>\n",
       "  </tbody>\n",
       "</table>\n",
       "</div>"
      ],
      "text/plain": [
       "           name  ndcg_cut_5\n",
       "0   max passage         0.0\n",
       "1  mean passage         0.0"
      ]
     },
     "execution_count": 61,
     "metadata": {},
     "output_type": "execute_result"
    }
   ],
   "source": [
    "pt.Experiment(\n",
    "    [bm25_bo1_pl2_max, bm25_bo1_pl2_mean],\n",
    "    topics,\n",
    "    qrels,\n",
    "    eval_metrics=[\"ndcg_cut_5\"],\n",
    "    names=[\"max passage\", \"mean passage\"],\n",
    ")"
   ]
  },
  {
   "cell_type": "code",
   "execution_count": 62,
   "metadata": {},
   "outputs": [
    {
     "data": {
      "text/html": [
       "<div>\n",
       "<style scoped>\n",
       "    .dataframe tbody tr th:only-of-type {\n",
       "        vertical-align: middle;\n",
       "    }\n",
       "\n",
       "    .dataframe tbody tr th {\n",
       "        vertical-align: top;\n",
       "    }\n",
       "\n",
       "    .dataframe thead th {\n",
       "        text-align: right;\n",
       "    }\n",
       "</style>\n",
       "<table border=\"1\" class=\"dataframe\">\n",
       "  <thead>\n",
       "    <tr style=\"text-align: right;\">\n",
       "      <th></th>\n",
       "      <th>name</th>\n",
       "      <th>qid</th>\n",
       "      <th>measure</th>\n",
       "      <th>value</th>\n",
       "    </tr>\n",
       "  </thead>\n",
       "  <tbody>\n",
       "    <tr>\n",
       "      <th>0</th>\n",
       "      <td>max passage</td>\n",
       "      <td>q072224</td>\n",
       "      <td>ndcg_cut_5</td>\n",
       "      <td>0.0</td>\n",
       "    </tr>\n",
       "    <tr>\n",
       "      <th>1</th>\n",
       "      <td>max passage</td>\n",
       "      <td>q072226</td>\n",
       "      <td>ndcg_cut_5</td>\n",
       "      <td>0.0</td>\n",
       "    </tr>\n",
       "    <tr>\n",
       "      <th>2</th>\n",
       "      <td>max passage</td>\n",
       "      <td>q072232</td>\n",
       "      <td>ndcg_cut_5</td>\n",
       "      <td>0.0</td>\n",
       "    </tr>\n",
       "    <tr>\n",
       "      <th>3</th>\n",
       "      <td>max passage</td>\n",
       "      <td>q072240</td>\n",
       "      <td>ndcg_cut_5</td>\n",
       "      <td>0.0</td>\n",
       "    </tr>\n",
       "    <tr>\n",
       "      <th>4</th>\n",
       "      <td>max passage</td>\n",
       "      <td>q072242</td>\n",
       "      <td>ndcg_cut_5</td>\n",
       "      <td>0.0</td>\n",
       "    </tr>\n",
       "    <tr>\n",
       "      <th>5</th>\n",
       "      <td>mean passage</td>\n",
       "      <td>q072224</td>\n",
       "      <td>ndcg_cut_5</td>\n",
       "      <td>0.0</td>\n",
       "    </tr>\n",
       "    <tr>\n",
       "      <th>6</th>\n",
       "      <td>mean passage</td>\n",
       "      <td>q072226</td>\n",
       "      <td>ndcg_cut_5</td>\n",
       "      <td>0.0</td>\n",
       "    </tr>\n",
       "    <tr>\n",
       "      <th>7</th>\n",
       "      <td>mean passage</td>\n",
       "      <td>q072232</td>\n",
       "      <td>ndcg_cut_5</td>\n",
       "      <td>0.0</td>\n",
       "    </tr>\n",
       "    <tr>\n",
       "      <th>8</th>\n",
       "      <td>mean passage</td>\n",
       "      <td>q072240</td>\n",
       "      <td>ndcg_cut_5</td>\n",
       "      <td>0.0</td>\n",
       "    </tr>\n",
       "    <tr>\n",
       "      <th>9</th>\n",
       "      <td>mean passage</td>\n",
       "      <td>q072242</td>\n",
       "      <td>ndcg_cut_5</td>\n",
       "      <td>0.0</td>\n",
       "    </tr>\n",
       "  </tbody>\n",
       "</table>\n",
       "</div>"
      ],
      "text/plain": [
       "           name      qid     measure  value\n",
       "0   max passage  q072224  ndcg_cut_5    0.0\n",
       "1   max passage  q072226  ndcg_cut_5    0.0\n",
       "2   max passage  q072232  ndcg_cut_5    0.0\n",
       "3   max passage  q072240  ndcg_cut_5    0.0\n",
       "4   max passage  q072242  ndcg_cut_5    0.0\n",
       "5  mean passage  q072224  ndcg_cut_5    0.0\n",
       "6  mean passage  q072226  ndcg_cut_5    0.0\n",
       "7  mean passage  q072232  ndcg_cut_5    0.0\n",
       "8  mean passage  q072240  ndcg_cut_5    0.0\n",
       "9  mean passage  q072242  ndcg_cut_5    0.0"
      ]
     },
     "execution_count": 62,
     "metadata": {},
     "output_type": "execute_result"
    }
   ],
   "source": [
    "metrics_per_query = pt.Experiment(\n",
    "    [bm25_bo1_pl2_max, bm25_bo1_pl2_mean],\n",
    "    topics,\n",
    "    qrels,\n",
    "    eval_metrics=[\"ndcg_cut_5\"],\n",
    "    names=[\"max passage\", \"mean passage\"],\n",
    "    perquery=True,\n",
    ")\n",
    "metrics_per_query"
   ]
  },
  {
   "cell_type": "code",
   "execution_count": 63,
   "metadata": {},
   "outputs": [],
   "source": [
    "# TODO: Significace test between the two systems"
   ]
  },
  {
   "cell_type": "markdown",
   "metadata": {},
   "source": [
    "### Hypothesis 2: Choosing $k \\in \\{5\\cdot i \\mid i \\in [1, 10]\\}$ such that the nDCG-score of $k$-max average aggregation is maximized, yields a significantly ($\\alpha < 0.05$)  better nDCG-score than using max passage or mean passage aggregation."
   ]
  },
  {
   "cell_type": "code",
   "execution_count": null,
   "metadata": {},
   "outputs": [],
   "source": [
    "from pyterrier.text import KMaxAvgPassage\n",
    "\n",
    "@dataclass(unsafe_hash=True)\n",
    "class TuneableKMaxAvgPassage(KMaxAvgPassage):\n",
    "    pipeline: pt.Transformer\n",
    "    k: int\n",
    "\n",
    "    def transform(self, topics_or_res: pd.DataFrame) -> pd.DataFrame:\n",
    "        pipeline = self.pipeline >> pt.text.kmaxavg_passage(k=self.k)\n",
    "        return pipeline.transform(topics_or_res)\n"
   ]
  },
  {
   "cell_type": "code",
   "execution_count": null,
   "metadata": {},
   "outputs": [],
   "source": [
    "bm25_bo1_pl2_kmax = TuneableKMaxAvgPassage(bm25_bo1_pl2_mono_cached, k=5)"
   ]
  },
  {
   "cell_type": "markdown",
   "metadata": {},
   "source": [
    "#### Find $k$ such that nDCG of reranking with $k$-max average passage is maximized."
   ]
  },
  {
   "cell_type": "code",
   "execution_count": null,
   "metadata": {},
   "outputs": [
    {
     "name": "stderr",
     "output_type": "stream",
     "text": [
      "GridScan: 100%|██████████| 10/10 [00:00<00:00, 17.61it/s]"
     ]
    },
    {
     "name": "stdout",
     "output_type": "stream",
     "text": [
      "Best ndcg is 0.000000\n",
      "Best setting is ['TuneableKMaxAvgPassage(pipeline=Cache(bm25_bo1_pl2_mono_cache_bust_3), k=50) k=5']\n"
     ]
    },
    {
     "name": "stderr",
     "output_type": "stream",
     "text": [
      "\n"
     ]
    }
   ],
   "source": [
    "bm25_bo1_pl2_best_kmax = pt.GridSearch(\n",
    "    bm25_bo1_pl2_kmax,\n",
    "    {bm25_bo1_pl2_kmax :  {'k' : [5, 10, 15, 20, 25, 30, 35, 40, 45, 50]}},\n",
    "    topics,\n",
    "    qrels,\n",
    "    'ndcg',\n",
    "    verbose=True\n",
    ")"
   ]
  },
  {
   "cell_type": "code",
   "execution_count": 64,
   "metadata": {},
   "outputs": [
    {
     "data": {
      "text/html": [
       "<div>\n",
       "<style scoped>\n",
       "    .dataframe tbody tr th:only-of-type {\n",
       "        vertical-align: middle;\n",
       "    }\n",
       "\n",
       "    .dataframe tbody tr th {\n",
       "        vertical-align: top;\n",
       "    }\n",
       "\n",
       "    .dataframe thead th {\n",
       "        text-align: right;\n",
       "    }\n",
       "</style>\n",
       "<table border=\"1\" class=\"dataframe\">\n",
       "  <thead>\n",
       "    <tr style=\"text-align: right;\">\n",
       "      <th></th>\n",
       "      <th>name</th>\n",
       "      <th>ndcg_cut_5</th>\n",
       "    </tr>\n",
       "  </thead>\n",
       "  <tbody>\n",
       "    <tr>\n",
       "      <th>0</th>\n",
       "      <td>max passage</td>\n",
       "      <td>0.0</td>\n",
       "    </tr>\n",
       "    <tr>\n",
       "      <th>1</th>\n",
       "      <td>mean passage</td>\n",
       "      <td>0.0</td>\n",
       "    </tr>\n",
       "    <tr>\n",
       "      <th>2</th>\n",
       "      <td>best_k_pipeline</td>\n",
       "      <td>0.0</td>\n",
       "    </tr>\n",
       "  </tbody>\n",
       "</table>\n",
       "</div>"
      ],
      "text/plain": [
       "              name  ndcg_cut_5\n",
       "0      max passage         0.0\n",
       "1     mean passage         0.0\n",
       "2  best_k_pipeline         0.0"
      ]
     },
     "execution_count": 64,
     "metadata": {},
     "output_type": "execute_result"
    }
   ],
   "source": [
    "pt.Experiment(\n",
    "    [bm25_bo1_pl2_max, bm25_bo1_pl2_mean, bm25_bo1_pl2_best_kmax],\n",
    "    topics,\n",
    "    qrels,\n",
    "    eval_metrics=[\"ndcg_cut_5\"],\n",
    "    names=[\"max passage\", \"mean passage\", \"best_k_pipeline\"],\n",
    ")"
   ]
  },
  {
   "cell_type": "markdown",
   "metadata": {},
   "source": [
    "### Step 4: Persist results."
   ]
  },
  {
   "cell_type": "code",
   "execution_count": 65,
   "metadata": {},
   "outputs": [
    {
     "data": {
      "text/html": [
       "<div>\n",
       "<style scoped>\n",
       "    .dataframe tbody tr th:only-of-type {\n",
       "        vertical-align: middle;\n",
       "    }\n",
       "\n",
       "    .dataframe tbody tr th {\n",
       "        vertical-align: top;\n",
       "    }\n",
       "\n",
       "    .dataframe thead th {\n",
       "        text-align: right;\n",
       "    }\n",
       "</style>\n",
       "<table border=\"1\" class=\"dataframe\">\n",
       "  <thead>\n",
       "    <tr style=\"text-align: right;\">\n",
       "      <th></th>\n",
       "      <th>name</th>\n",
       "      <th>qid</th>\n",
       "      <th>measure</th>\n",
       "      <th>value</th>\n",
       "    </tr>\n",
       "  </thead>\n",
       "  <tbody>\n",
       "    <tr>\n",
       "      <th>10</th>\n",
       "      <td>best kmax pipeline</td>\n",
       "      <td>q072224</td>\n",
       "      <td>ndcg_cut_5</td>\n",
       "      <td>0.0</td>\n",
       "    </tr>\n",
       "    <tr>\n",
       "      <th>11</th>\n",
       "      <td>best kmax pipeline</td>\n",
       "      <td>q072226</td>\n",
       "      <td>ndcg_cut_5</td>\n",
       "      <td>0.0</td>\n",
       "    </tr>\n",
       "    <tr>\n",
       "      <th>12</th>\n",
       "      <td>best kmax pipeline</td>\n",
       "      <td>q072232</td>\n",
       "      <td>ndcg_cut_5</td>\n",
       "      <td>0.0</td>\n",
       "    </tr>\n",
       "    <tr>\n",
       "      <th>13</th>\n",
       "      <td>best kmax pipeline</td>\n",
       "      <td>q072240</td>\n",
       "      <td>ndcg_cut_5</td>\n",
       "      <td>0.0</td>\n",
       "    </tr>\n",
       "    <tr>\n",
       "      <th>14</th>\n",
       "      <td>best kmax pipeline</td>\n",
       "      <td>q072242</td>\n",
       "      <td>ndcg_cut_5</td>\n",
       "      <td>0.0</td>\n",
       "    </tr>\n",
       "    <tr>\n",
       "      <th>0</th>\n",
       "      <td>max passage</td>\n",
       "      <td>q072224</td>\n",
       "      <td>ndcg_cut_5</td>\n",
       "      <td>0.0</td>\n",
       "    </tr>\n",
       "    <tr>\n",
       "      <th>1</th>\n",
       "      <td>max passage</td>\n",
       "      <td>q072226</td>\n",
       "      <td>ndcg_cut_5</td>\n",
       "      <td>0.0</td>\n",
       "    </tr>\n",
       "    <tr>\n",
       "      <th>2</th>\n",
       "      <td>max passage</td>\n",
       "      <td>q072232</td>\n",
       "      <td>ndcg_cut_5</td>\n",
       "      <td>0.0</td>\n",
       "    </tr>\n",
       "    <tr>\n",
       "      <th>3</th>\n",
       "      <td>max passage</td>\n",
       "      <td>q072240</td>\n",
       "      <td>ndcg_cut_5</td>\n",
       "      <td>0.0</td>\n",
       "    </tr>\n",
       "    <tr>\n",
       "      <th>4</th>\n",
       "      <td>max passage</td>\n",
       "      <td>q072242</td>\n",
       "      <td>ndcg_cut_5</td>\n",
       "      <td>0.0</td>\n",
       "    </tr>\n",
       "    <tr>\n",
       "      <th>5</th>\n",
       "      <td>mean passage</td>\n",
       "      <td>q072224</td>\n",
       "      <td>ndcg_cut_5</td>\n",
       "      <td>0.0</td>\n",
       "    </tr>\n",
       "    <tr>\n",
       "      <th>6</th>\n",
       "      <td>mean passage</td>\n",
       "      <td>q072226</td>\n",
       "      <td>ndcg_cut_5</td>\n",
       "      <td>0.0</td>\n",
       "    </tr>\n",
       "    <tr>\n",
       "      <th>7</th>\n",
       "      <td>mean passage</td>\n",
       "      <td>q072232</td>\n",
       "      <td>ndcg_cut_5</td>\n",
       "      <td>0.0</td>\n",
       "    </tr>\n",
       "    <tr>\n",
       "      <th>8</th>\n",
       "      <td>mean passage</td>\n",
       "      <td>q072240</td>\n",
       "      <td>ndcg_cut_5</td>\n",
       "      <td>0.0</td>\n",
       "    </tr>\n",
       "    <tr>\n",
       "      <th>9</th>\n",
       "      <td>mean passage</td>\n",
       "      <td>q072242</td>\n",
       "      <td>ndcg_cut_5</td>\n",
       "      <td>0.0</td>\n",
       "    </tr>\n",
       "  </tbody>\n",
       "</table>\n",
       "</div>"
      ],
      "text/plain": [
       "                  name      qid     measure  value\n",
       "10  best kmax pipeline  q072224  ndcg_cut_5    0.0\n",
       "11  best kmax pipeline  q072226  ndcg_cut_5    0.0\n",
       "12  best kmax pipeline  q072232  ndcg_cut_5    0.0\n",
       "13  best kmax pipeline  q072240  ndcg_cut_5    0.0\n",
       "14  best kmax pipeline  q072242  ndcg_cut_5    0.0\n",
       "0          max passage  q072224  ndcg_cut_5    0.0\n",
       "1          max passage  q072226  ndcg_cut_5    0.0\n",
       "2          max passage  q072232  ndcg_cut_5    0.0\n",
       "3          max passage  q072240  ndcg_cut_5    0.0\n",
       "4          max passage  q072242  ndcg_cut_5    0.0\n",
       "5         mean passage  q072224  ndcg_cut_5    0.0\n",
       "6         mean passage  q072226  ndcg_cut_5    0.0\n",
       "7         mean passage  q072232  ndcg_cut_5    0.0\n",
       "8         mean passage  q072240  ndcg_cut_5    0.0\n",
       "9         mean passage  q072242  ndcg_cut_5    0.0"
      ]
     },
     "execution_count": 65,
     "metadata": {},
     "output_type": "execute_result"
    }
   ],
   "source": [
    "metrics_per_query = pt.Experiment(\n",
    "    [bm25_bo1_pl2_max, bm25_bo1_pl2_mean, bm25_bo1_pl2_best_kmax],\n",
    "    topics,\n",
    "    qrels,\n",
    "    eval_metrics=[\"ndcg_cut_5\"],\n",
    "    names=[\"max passage\", \"mean passage\", \"best kmax pipeline\"],\n",
    "    perquery=True,\n",
    ")\n",
    "metrics_per_query"
   ]
  },
  {
   "cell_type": "code",
   "execution_count": 66,
   "metadata": {},
   "outputs": [],
   "source": [
    "# TODO: Significace tests between the best k-max average pipeline and the two others"
   ]
  },
  {
   "cell_type": "code",
   "execution_count": 67,
   "metadata": {},
   "outputs": [],
   "source": [
    "with open(\"results.txt\", \"wt\") as file:\n",
    "    file.write(\"Results for Hypothesis 1:\\n\")\n",
    "    # ...\n",
    "    file.write(\"Results for Hypothesis 2:\\n\")\n",
    "    # ..."
   ]
  },
  {
   "cell_type": "code",
   "execution_count": null,
   "metadata": {},
   "outputs": [],
   "source": []
  }
 ],
 "metadata": {
  "kernelspec": {
   "display_name": "base",
   "language": "python",
   "name": "python3"
  },
  "language_info": {
   "codemirror_mode": {
    "name": "ipython",
    "version": 3
   },
   "file_extension": ".py",
   "mimetype": "text/x-python",
   "name": "python",
   "nbconvert_exporter": "python",
   "pygments_lexer": "ipython3",
   "version": "3.10.13"
  },
  "orig_nbformat": 4
 },
 "nbformat": 4,
 "nbformat_minor": 2
}
