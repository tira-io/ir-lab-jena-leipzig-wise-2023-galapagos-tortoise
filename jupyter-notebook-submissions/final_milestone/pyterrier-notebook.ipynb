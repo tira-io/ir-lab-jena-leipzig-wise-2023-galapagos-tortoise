{
 "cells": [
  {
   "cell_type": "markdown",
   "metadata": {},
   "source": [
    "# PyTerrier Notebook for Full-Rank Submissions\n",
    "\n",
    "This notebook serves as a baseline full-rank submission for [TIRA](https://tira.io)/[TIREx](https://tira.io/tirex) that builds a PyTerrier index and subsequently creates a run with BM25."
   ]
  },
  {
   "cell_type": "markdown",
   "metadata": {},
   "source": [
    "### Step 1: Ensure Libraries are Imported"
   ]
  },
  {
   "cell_type": "code",
   "execution_count": 1,
   "metadata": {},
   "outputs": [
    {
     "name": "stdout",
     "output_type": "stream",
     "text": [
      "Collecting python-terrier\n",
      "  Downloading python-terrier-0.10.0.tar.gz (107 kB)\n",
      "\u001b[2K     \u001b[90m━━━━━━━━━━━━━━━━━━━━━━━━━━━━━━━━━━━━━━━\u001b[0m \u001b[32m107.6/107.6 kB\u001b[0m \u001b[31m3.0 MB/s\u001b[0m eta \u001b[36m0:00:00\u001b[0m\n",
      "\u001b[?25h  Installing build dependencies ... \u001b[?25ldone\n",
      "\u001b[?25h  Getting requirements to build wheel ... \u001b[?25ldone\n",
      "\u001b[?25h  Preparing metadata (pyproject.toml) ... \u001b[?25ldone\n",
      "\u001b[?25hCollecting tira==0.0.88\n",
      "  Downloading tira-0.0.88-py3-none-any.whl.metadata (4.4 kB)\n",
      "Collecting ir_datasets\n",
      "  Downloading ir_datasets-0.5.5-py3-none-any.whl.metadata (12 kB)\n",
      "Requirement already satisfied: requests==2.*,>=2.26 in /home/codespace/.local/lib/python3.10/site-packages (from tira==0.0.88) (2.31.0)\n",
      "Collecting docker==6.*,>=6.0.0 (from tira==0.0.88)\n",
      "  Downloading docker-6.1.3-py3-none-any.whl.metadata (3.5 kB)\n",
      "Requirement already satisfied: pandas in /home/codespace/.local/lib/python3.10/site-packages (from tira==0.0.88) (2.1.3)\n",
      "Requirement already satisfied: packaging>=14.0 in /home/codespace/.local/lib/python3.10/site-packages (from docker==6.*,>=6.0.0->tira==0.0.88) (23.2)\n",
      "Requirement already satisfied: urllib3>=1.26.0 in /usr/local/python/3.10.13/lib/python3.10/site-packages (from docker==6.*,>=6.0.0->tira==0.0.88) (2.0.7)\n",
      "Requirement already satisfied: websocket-client>=0.32.0 in /home/codespace/.local/lib/python3.10/site-packages (from docker==6.*,>=6.0.0->tira==0.0.88) (1.7.0)\n",
      "Requirement already satisfied: charset-normalizer<4,>=2 in /home/codespace/.local/lib/python3.10/site-packages (from requests==2.*,>=2.26->tira==0.0.88) (3.3.2)\n",
      "Requirement already satisfied: idna<4,>=2.5 in /home/codespace/.local/lib/python3.10/site-packages (from requests==2.*,>=2.26->tira==0.0.88) (3.6)\n",
      "Requirement already satisfied: certifi>=2017.4.17 in /home/codespace/.local/lib/python3.10/site-packages (from requests==2.*,>=2.26->tira==0.0.88) (2023.11.17)\n",
      "Requirement already satisfied: numpy in /home/codespace/.local/lib/python3.10/site-packages (from python-terrier) (1.26.2)\n",
      "Collecting wget (from python-terrier)\n",
      "  Downloading wget-3.2.zip (10 kB)\n",
      "  Installing build dependencies ... \u001b[?25ldone\n",
      "\u001b[?25h  Getting requirements to build wheel ... \u001b[?25ldone\n",
      "\u001b[?25h  Preparing metadata (pyproject.toml) ... \u001b[?25ldone\n",
      "\u001b[?25hCollecting tqdm (from python-terrier)\n",
      "  Downloading tqdm-4.66.1-py3-none-any.whl.metadata (57 kB)\n",
      "\u001b[2K     \u001b[90m━━━━━━━━━━━━━━━━━━━━━━━━━━━━━━━━━━━━━━━━\u001b[0m \u001b[32m57.6/57.6 kB\u001b[0m \u001b[31m1.7 MB/s\u001b[0m eta \u001b[36m0:00:00\u001b[0m\n",
      "\u001b[?25hCollecting pyjnius>=1.4.2 (from python-terrier)\n",
      "  Downloading pyjnius-1.6.1-cp310-cp310-manylinux_2_17_x86_64.manylinux2014_x86_64.whl.metadata (10 kB)\n",
      "Collecting matchpy (from python-terrier)\n",
      "  Downloading matchpy-0.5.5-py3-none-any.whl (69 kB)\n",
      "\u001b[2K     \u001b[90m━━━━━━━━━━━━━━━━━━━━━━━━━━━━━━━━━━━━━━━━\u001b[0m \u001b[32m69.6/69.6 kB\u001b[0m \u001b[31m2.2 MB/s\u001b[0m eta \u001b[36m0:00:00\u001b[0m\n",
      "\u001b[?25hRequirement already satisfied: scikit-learn in /home/codespace/.local/lib/python3.10/site-packages (from python-terrier) (1.3.2)\n",
      "Collecting deprecated (from python-terrier)\n",
      "  Downloading Deprecated-1.2.14-py2.py3-none-any.whl.metadata (5.4 kB)\n",
      "Collecting chest (from python-terrier)\n",
      "  Downloading chest-0.2.3.tar.gz (9.6 kB)\n",
      "  Installing build dependencies ... \u001b[?25ldone\n",
      "\u001b[?25h  Getting requirements to build wheel ... \u001b[?25ldone\n",
      "\u001b[?25h  Preparing metadata (pyproject.toml) ... \u001b[?25ldone\n",
      "\u001b[?25hRequirement already satisfied: scipy in /home/codespace/.local/lib/python3.10/site-packages (from python-terrier) (1.11.4)\n",
      "Requirement already satisfied: joblib in /home/codespace/.local/lib/python3.10/site-packages (from python-terrier) (1.3.2)\n",
      "Collecting nptyping==1.4.4 (from python-terrier)\n",
      "  Downloading nptyping-1.4.4-py3-none-any.whl (31 kB)\n",
      "Collecting more-itertools (from python-terrier)\n",
      "  Downloading more_itertools-10.1.0-py3-none-any.whl.metadata (33 kB)\n",
      "Requirement already satisfied: jinja2 in /home/codespace/.local/lib/python3.10/site-packages (from python-terrier) (3.1.2)\n",
      "Collecting statsmodels (from python-terrier)\n",
      "  Downloading statsmodels-0.14.1-cp310-cp310-manylinux_2_17_x86_64.manylinux2014_x86_64.whl.metadata (9.5 kB)\n",
      "Collecting ir-measures>=0.3.1 (from python-terrier)\n",
      "  Downloading ir_measures-0.3.3.tar.gz (48 kB)\n",
      "\u001b[2K     \u001b[90m━━━━━━━━━━━━━━━━━━━━━━━━━━━━━━━━━━━━━━━━\u001b[0m \u001b[32m48.8/48.8 kB\u001b[0m \u001b[31m1.5 MB/s\u001b[0m eta \u001b[36m0:00:00\u001b[0m\n",
      "\u001b[?25h  Installing build dependencies ... \u001b[?25ldone\n",
      "\u001b[?25h  Getting requirements to build wheel ... \u001b[?25ldone\n",
      "\u001b[?25h  Preparing metadata (pyproject.toml) ... \u001b[?25ldone\n",
      "\u001b[?25hCollecting dill (from python-terrier)\n",
      "  Downloading dill-0.3.7-py3-none-any.whl.metadata (9.9 kB)\n",
      "Collecting pytrec-eval-terrier>=0.5.3 (from python-terrier)\n",
      "  Downloading pytrec_eval_terrier-0.5.6-cp310-cp310-manylinux_2_17_x86_64.manylinux2014_x86_64.whl.metadata (777 bytes)\n",
      "Collecting typish>=1.7.0 (from nptyping==1.4.4->python-terrier)\n",
      "  Downloading typish-1.9.3-py3-none-any.whl (45 kB)\n",
      "\u001b[2K     \u001b[90m━━━━━━━━━━━━━━━━━━━━━━━━━━━━━━━━━━━━━━━━\u001b[0m \u001b[32m45.1/45.1 kB\u001b[0m \u001b[31m1.4 MB/s\u001b[0m eta \u001b[36m0:00:00\u001b[0m\n",
      "\u001b[?25hRequirement already satisfied: beautifulsoup4>=4.4.1 in /home/codespace/.local/lib/python3.10/site-packages (from ir_datasets) (4.12.2)\n",
      "Collecting inscriptis>=2.2.0 (from ir_datasets)\n",
      "  Downloading inscriptis-2.3.2-py3-none-any.whl (41 kB)\n",
      "\u001b[2K     \u001b[90m━━━━━━━━━━━━━━━━━━━━━━━━━━━━━━━━━━━━━━━━\u001b[0m \u001b[32m41.2/41.2 kB\u001b[0m \u001b[31m1.0 MB/s\u001b[0m eta \u001b[36m0:00:00\u001b[0m\n",
      "\u001b[?25hCollecting lxml>=4.5.2 (from ir_datasets)\n",
      "  Downloading lxml-4.9.4-cp310-cp310-manylinux_2_28_x86_64.whl.metadata (3.7 kB)\n",
      "Requirement already satisfied: pyyaml>=5.3.1 in /home/codespace/.local/lib/python3.10/site-packages (from ir_datasets) (6.0.1)\n",
      "Collecting trec-car-tools>=2.5.4 (from ir_datasets)\n",
      "  Downloading trec_car_tools-2.6-py3-none-any.whl (8.4 kB)\n",
      "Collecting lz4>=3.1.10 (from ir_datasets)\n",
      "  Downloading lz4-4.3.2-cp310-cp310-manylinux_2_17_x86_64.manylinux2014_x86_64.whl (1.3 MB)\n",
      "\u001b[2K     \u001b[90m━━━━━━━━━━━━━━━━━━━━━━━━━━━━━━━━━━━━━━━━\u001b[0m \u001b[32m1.3/1.3 MB\u001b[0m \u001b[31m20.7 MB/s\u001b[0m eta \u001b[36m0:00:00\u001b[0m:00:01\u001b[0m\n",
      "\u001b[?25hCollecting warc3-wet>=0.2.3 (from ir_datasets)\n",
      "  Downloading warc3_wet-0.2.3-py3-none-any.whl (13 kB)\n",
      "Collecting warc3-wet-clueweb09>=0.2.5 (from ir_datasets)\n",
      "  Downloading warc3-wet-clueweb09-0.2.5.tar.gz (17 kB)\n",
      "  Installing build dependencies ... \u001b[?25ldone\n",
      "\u001b[?25h  Getting requirements to build wheel ... \u001b[?25ldone\n",
      "\u001b[?25h  Preparing metadata (pyproject.toml) ... \u001b[?25ldone\n",
      "\u001b[?25hCollecting zlib-state>=0.1.3 (from ir_datasets)\n",
      "  Downloading zlib-state-0.1.6.tar.gz (9.5 kB)\n",
      "  Installing build dependencies ... \u001b[?25ldone\n",
      "\u001b[?25h  Getting requirements to build wheel ... \u001b[?25ldone\n",
      "\u001b[?25h  Installing backend dependencies ... \u001b[?25ldone\n",
      "\u001b[?25h  Preparing metadata (pyproject.toml) ... \u001b[?25ldone\n",
      "\u001b[?25hCollecting ijson>=3.1.3 (from ir_datasets)\n",
      "  Downloading ijson-3.2.3-cp310-cp310-manylinux_2_17_x86_64.manylinux2014_x86_64.whl.metadata (20 kB)\n",
      "Collecting pyautocorpus>=0.1.1 (from ir_datasets)\n",
      "  Downloading pyautocorpus-0.1.12-cp310-cp310-manylinux_2_17_x86_64.manylinux2014_x86_64.whl.metadata (1.6 kB)\n",
      "Collecting unlzw3>=0.2.1 (from ir_datasets)\n",
      "  Downloading unlzw3-0.2.2-py3-none-any.whl (6.1 kB)\n",
      "Requirement already satisfied: soupsieve>1.2 in /home/codespace/.local/lib/python3.10/site-packages (from beautifulsoup4>=4.4.1->ir_datasets) (2.5)\n",
      "Collecting cwl-eval>=1.0.10 (from ir-measures>=0.3.1->python-terrier)\n",
      "  Downloading cwl-eval-1.0.12.tar.gz (31 kB)\n",
      "  Installing build dependencies ... \u001b[?25ldone\n",
      "\u001b[?25h  Getting requirements to build wheel ... \u001b[?25ldone\n",
      "\u001b[?25h  Preparing metadata (pyproject.toml) ... \u001b[?25ldone\n",
      "\u001b[?25hCollecting cbor>=1.0.0 (from trec-car-tools>=2.5.4->ir_datasets)\n",
      "  Downloading cbor-1.0.0.tar.gz (20 kB)\n",
      "  Installing build dependencies ... \u001b[?25ldone\n",
      "\u001b[?25h  Getting requirements to build wheel ... \u001b[?25ldone\n",
      "\u001b[?25h  Preparing metadata (pyproject.toml) ... \u001b[?25ldone\n",
      "\u001b[?25hCollecting heapdict (from chest->python-terrier)\n",
      "  Downloading HeapDict-1.0.1-py3-none-any.whl (3.9 kB)\n",
      "Collecting wrapt<2,>=1.10 (from deprecated->python-terrier)\n",
      "  Downloading wrapt-1.16.0-cp310-cp310-manylinux_2_5_x86_64.manylinux1_x86_64.manylinux_2_17_x86_64.manylinux2014_x86_64.whl.metadata (6.6 kB)\n",
      "Requirement already satisfied: MarkupSafe>=2.0 in /home/codespace/.local/lib/python3.10/site-packages (from jinja2->python-terrier) (2.1.3)\n",
      "Collecting multiset<3.0,>=2.0 (from matchpy->python-terrier)\n",
      "  Downloading multiset-2.1.1-py2.py3-none-any.whl (8.8 kB)\n",
      "Requirement already satisfied: python-dateutil>=2.8.2 in /home/codespace/.local/lib/python3.10/site-packages (from pandas->tira==0.0.88) (2.8.2)\n",
      "Requirement already satisfied: pytz>=2020.1 in /home/codespace/.local/lib/python3.10/site-packages (from pandas->tira==0.0.88) (2023.3.post1)\n",
      "Requirement already satisfied: tzdata>=2022.1 in /home/codespace/.local/lib/python3.10/site-packages (from pandas->tira==0.0.88) (2023.3)\n",
      "Requirement already satisfied: threadpoolctl>=2.0.0 in /home/codespace/.local/lib/python3.10/site-packages (from scikit-learn->python-terrier) (3.2.0)\n",
      "Collecting patsy>=0.5.4 (from statsmodels->python-terrier)\n",
      "  Downloading patsy-0.5.4-py2.py3-none-any.whl.metadata (3.4 kB)\n",
      "Requirement already satisfied: six in /home/codespace/.local/lib/python3.10/site-packages (from patsy>=0.5.4->statsmodels->python-terrier) (1.16.0)\n",
      "Downloading tira-0.0.88-py3-none-any.whl (41 kB)\n",
      "\u001b[2K   \u001b[90m━━━━━━━━━━━━━━━━━━━━━━━━━━━━━━━━━━━━━━━━\u001b[0m \u001b[32m41.4/41.4 kB\u001b[0m \u001b[31m1.3 MB/s\u001b[0m eta \u001b[36m0:00:00\u001b[0m\n",
      "\u001b[?25hDownloading docker-6.1.3-py3-none-any.whl (148 kB)\n",
      "\u001b[2K   \u001b[90m━━━━━━━━━━━━━━━━━━━━━━━━━━━━━━━━━━━━━━━━\u001b[0m \u001b[32m148.1/148.1 kB\u001b[0m \u001b[31m4.7 MB/s\u001b[0m eta \u001b[36m0:00:00\u001b[0m\n",
      "\u001b[?25hDownloading ir_datasets-0.5.5-py3-none-any.whl (318 kB)\n",
      "\u001b[2K   \u001b[90m━━━━━━━━━━━━━━━━━━━━━━━━━━━━━━━━━━━━━━━━\u001b[0m \u001b[32m318.0/318.0 kB\u001b[0m \u001b[31m10.5 MB/s\u001b[0m eta \u001b[36m0:00:00\u001b[0m\n",
      "\u001b[?25hDownloading ijson-3.2.3-cp310-cp310-manylinux_2_17_x86_64.manylinux2014_x86_64.whl (111 kB)\n",
      "\u001b[2K   \u001b[90m━━━━━━━━━━━━━━━━━━━━━━━━━━━━━━━━━━━━━━━━\u001b[0m \u001b[32m111.8/111.8 kB\u001b[0m \u001b[31m3.9 MB/s\u001b[0m eta \u001b[36m0:00:00\u001b[0m\n",
      "\u001b[?25hDownloading lxml-4.9.4-cp310-cp310-manylinux_2_28_x86_64.whl (7.9 MB)\n",
      "\u001b[2K   \u001b[90m━━━━━━━━━━━━━━━━━━━━━━━━━━━━━━━━━━━━━━━━\u001b[0m \u001b[32m7.9/7.9 MB\u001b[0m \u001b[31m44.6 MB/s\u001b[0m eta \u001b[36m0:00:00\u001b[0m00:01\u001b[0m:00:01\u001b[0m\n",
      "\u001b[?25hDownloading pyautocorpus-0.1.12-cp310-cp310-manylinux_2_17_x86_64.manylinux2014_x86_64.whl (379 kB)\n",
      "\u001b[2K   \u001b[90m━━━━━━━━━━━━━━━━━━━━━━━━━━━━━━━━━━━━━━━━\u001b[0m \u001b[32m379.9/379.9 kB\u001b[0m \u001b[31m11.9 MB/s\u001b[0m eta \u001b[36m0:00:00\u001b[0m\n",
      "\u001b[?25hDownloading pyjnius-1.6.1-cp310-cp310-manylinux_2_17_x86_64.manylinux2014_x86_64.whl (1.5 MB)\n",
      "\u001b[2K   \u001b[90m━━━━━━━━━━━━━━━━━━━━━━━━━━━━━━━━━━━━━━━━\u001b[0m \u001b[32m1.5/1.5 MB\u001b[0m \u001b[31m26.4 MB/s\u001b[0m eta \u001b[36m0:00:00\u001b[0m:00:01\u001b[0m\n",
      "\u001b[?25hDownloading pytrec_eval_terrier-0.5.6-cp310-cp310-manylinux_2_17_x86_64.manylinux2014_x86_64.whl (287 kB)\n",
      "\u001b[2K   \u001b[90m━━━━━━━━━━━━━━━━━━━━━━━━━━━━━━━━━━━━━━━━\u001b[0m \u001b[32m287.4/287.4 kB\u001b[0m \u001b[31m9.2 MB/s\u001b[0m eta \u001b[36m0:00:00\u001b[0m\n",
      "\u001b[?25hDownloading tqdm-4.66.1-py3-none-any.whl (78 kB)\n",
      "\u001b[2K   \u001b[90m━━━━━━━━━━━━━━━━━━━━━━━━━━━━━━━━━━━━━━━━\u001b[0m \u001b[32m78.3/78.3 kB\u001b[0m \u001b[31m2.8 MB/s\u001b[0m eta \u001b[36m0:00:00\u001b[0m\n",
      "\u001b[?25hDownloading Deprecated-1.2.14-py2.py3-none-any.whl (9.6 kB)\n",
      "Downloading dill-0.3.7-py3-none-any.whl (115 kB)\n",
      "\u001b[2K   \u001b[90m━━━━━━━━━━━━━━━━━━━━━━━━━━━━━━━━━━━━━━━━\u001b[0m \u001b[32m115.3/115.3 kB\u001b[0m \u001b[31m4.2 MB/s\u001b[0m eta \u001b[36m0:00:00\u001b[0m\n",
      "\u001b[?25hDownloading more_itertools-10.1.0-py3-none-any.whl (55 kB)\n",
      "\u001b[2K   \u001b[90m━━━━━━━━━━━━━━━━━━━━━━━━━━━━━━━━━━━━━━━━\u001b[0m \u001b[32m55.8/55.8 kB\u001b[0m \u001b[31m1.7 MB/s\u001b[0m eta \u001b[36m0:00:00\u001b[0m\n",
      "\u001b[?25hDownloading statsmodels-0.14.1-cp310-cp310-manylinux_2_17_x86_64.manylinux2014_x86_64.whl (10.8 MB)\n",
      "\u001b[2K   \u001b[90m━━━━━━━━━━━━━━━━━━━━━━━━━━━━━━━━━━━━━━━━\u001b[0m \u001b[32m10.8/10.8 MB\u001b[0m \u001b[31m50.6 MB/s\u001b[0m eta \u001b[36m0:00:00\u001b[0m:00:01\u001b[0m0:01\u001b[0m\n",
      "\u001b[?25hDownloading patsy-0.5.4-py2.py3-none-any.whl (233 kB)\n",
      "\u001b[2K   \u001b[90m━━━━━━━━━━━━━━━━━━━━━━━━━━━━━━━━━━━━━━━━\u001b[0m \u001b[32m233.9/233.9 kB\u001b[0m \u001b[31m7.9 MB/s\u001b[0m eta \u001b[36m0:00:00\u001b[0m\n",
      "\u001b[?25hDownloading wrapt-1.16.0-cp310-cp310-manylinux_2_5_x86_64.manylinux1_x86_64.manylinux_2_17_x86_64.manylinux2014_x86_64.whl (80 kB)\n",
      "\u001b[2K   \u001b[90m━━━━━━━━━━━━━━━━━━━━━━━━━━━━━━━━━━━━━━━━\u001b[0m \u001b[32m80.3/80.3 kB\u001b[0m \u001b[31m2.8 MB/s\u001b[0m eta \u001b[36m0:00:00\u001b[0m\n",
      "\u001b[?25hBuilding wheels for collected packages: python-terrier, ir-measures, warc3-wet-clueweb09, zlib-state, chest, wget, cbor, cwl-eval\n",
      "  Building wheel for python-terrier (pyproject.toml) ... \u001b[?25ldone\n",
      "\u001b[?25h  Created wheel for python-terrier: filename=python_terrier-0.10.0-py3-none-any.whl size=115532 sha256=14f48724c81b033d490da1efd0cf0c21c760342de26defd4bc04429b47be55d4\n",
      "  Stored in directory: /home/codespace/.cache/pip/wheels/79/7c/8f/679a982895c53af35178eceda648a4bc9a9af6af5542e31a0e\n",
      "  Building wheel for ir-measures (pyproject.toml) ... \u001b[?25ldone\n",
      "\u001b[?25h  Created wheel for ir-measures: filename=ir_measures-0.3.3-py3-none-any.whl size=61182 sha256=1414bd57856e33cd66319c7a7b4f52a87a9e876ec0ea03c89f57a01fa5a4cd3b\n",
      "  Stored in directory: /home/codespace/.cache/pip/wheels/9f/0e/22/718279f23fef1673a4c5e433881c25080a6afaa147e007183e\n",
      "  Building wheel for warc3-wet-clueweb09 (pyproject.toml) ... \u001b[?25ldone\n",
      "\u001b[?25h  Created wheel for warc3-wet-clueweb09: filename=warc3_wet_clueweb09-0.2.5-py3-none-any.whl size=18919 sha256=bd2c2824f616cd917214c643bf4c275c1745c6d24bfc412a13b7c9a5e9af4b04\n",
      "  Stored in directory: /home/codespace/.cache/pip/wheels/1a/d7/91/7ffb991df87e62355d945745035470ba2616aa3d83a250b5f9\n",
      "  Building wheel for zlib-state (pyproject.toml) ... \u001b[?25ldone\n",
      "\u001b[?25h  Created wheel for zlib-state: filename=zlib_state-0.1.6-cp310-cp310-linux_x86_64.whl size=26688 sha256=f1a73b46a0428f9498e8878825ca03e6ee8586dbda12ea72aea01ed541ab6be1\n",
      "  Stored in directory: /home/codespace/.cache/pip/wheels/32/72/7e/aff80f26e926b6e1fb08dfb52aba03c0e058f5e2258deb50a9\n",
      "  Building wheel for chest (pyproject.toml) ... \u001b[?25ldone\n",
      "\u001b[?25h  Created wheel for chest: filename=chest-0.2.3-py3-none-any.whl size=7612 sha256=288f9585a715290248d8c89626e1680a32a7874ef6346b4dc0dbc26a10bf92c1\n",
      "  Stored in directory: /home/codespace/.cache/pip/wheels/88/cf/99/4773b31f855f9ecedc32a0ae400f7a4a3001b37c439b6d1a73\n",
      "  Building wheel for wget (pyproject.toml) ... \u001b[?25ldone\n",
      "\u001b[?25h  Created wheel for wget: filename=wget-3.2-py3-none-any.whl size=9655 sha256=d1071a96689740e4f24d3bddeb2744718e3043b44e6c696a6f74e06236514b69\n",
      "  Stored in directory: /home/codespace/.cache/pip/wheels/8b/f1/7f/5c94f0a7a505ca1c81cd1d9208ae2064675d97582078e6c769\n",
      "  Building wheel for cbor (pyproject.toml) ... \u001b[?25ldone\n",
      "\u001b[?25h  Created wheel for cbor: filename=cbor-1.0.0-cp310-cp310-linux_x86_64.whl size=59435 sha256=b9080a670e19c95c99dcd1f584563b3b397b917a788362b448ce691c1d2f30fb\n",
      "  Stored in directory: /home/codespace/.cache/pip/wheels/85/df/c9/b39e40eccaf76dbd218556639a6dc81562226f4c6a64902c85\n",
      "  Building wheel for cwl-eval (pyproject.toml) ... \u001b[?25ldone\n",
      "\u001b[?25h  Created wheel for cwl-eval: filename=cwl_eval-1.0.12-py3-none-any.whl size=38068 sha256=d4991e355a0b965214c828b5f8b6be8075f78b891ad513cd8f5d0734bfe2e6f1\n",
      "  Stored in directory: /home/codespace/.cache/pip/wheels/3d/c1/94/94a3e5379b1aa8fb7c7f1ad1956305d5edc98ef745b6067d87\n",
      "Successfully built python-terrier ir-measures warc3-wet-clueweb09 zlib-state chest wget cbor cwl-eval\n",
      "Installing collected packages: wget, warc3-wet-clueweb09, warc3-wet, typish, pyjnius, multiset, ijson, heapdict, cbor, zlib-state, wrapt, unlzw3, trec-car-tools, tqdm, pytrec-eval-terrier, pyautocorpus, patsy, nptyping, more-itertools, matchpy, lz4, lxml, dill, cwl-eval, chest, ir-measures, inscriptis, docker, deprecated, tira, statsmodels, ir_datasets, python-terrier\n",
      "Successfully installed cbor-1.0.0 chest-0.2.3 cwl-eval-1.0.12 deprecated-1.2.14 dill-0.3.7 docker-6.1.3 heapdict-1.0.1 ijson-3.2.3 inscriptis-2.3.2 ir-measures-0.3.3 ir_datasets-0.5.5 lxml-4.9.4 lz4-4.3.2 matchpy-0.5.5 more-itertools-10.1.0 multiset-2.1.1 nptyping-1.4.4 patsy-0.5.4 pyautocorpus-0.1.12 pyjnius-1.6.1 python-terrier-0.10.0 pytrec-eval-terrier-0.5.6 statsmodels-0.14.1 tira-0.0.88 tqdm-4.66.1 trec-car-tools-2.6 typish-1.9.3 unlzw3-0.2.2 warc3-wet-0.2.3 warc3-wet-clueweb09-0.2.5 wget-3.2 wrapt-1.16.0 zlib-state-0.1.6\n",
      "\n",
      "\u001b[1m[\u001b[0m\u001b[34;49mnotice\u001b[0m\u001b[1;39;49m]\u001b[0m\u001b[39;49m A new release of pip is available: \u001b[0m\u001b[31;49m23.3.1\u001b[0m\u001b[39;49m -> \u001b[0m\u001b[32;49m23.3.2\u001b[0m\n",
      "\u001b[1m[\u001b[0m\u001b[34;49mnotice\u001b[0m\u001b[1;39;49m]\u001b[0m\u001b[39;49m To update, run: \u001b[0m\u001b[32;49mpython -m pip install --upgrade pip\u001b[0m\n",
      "\n",
      "\u001b[1m[\u001b[0m\u001b[34;49mnotice\u001b[0m\u001b[1;39;49m]\u001b[0m\u001b[39;49m A new release of pip is available: \u001b[0m\u001b[31;49m23.3.1\u001b[0m\u001b[39;49m -> \u001b[0m\u001b[32;49m23.3.2\u001b[0m\n",
      "\u001b[1m[\u001b[0m\u001b[34;49mnotice\u001b[0m\u001b[1;39;49m]\u001b[0m\u001b[39;49m To update, run: \u001b[0m\u001b[32;49mpython -m pip install --upgrade pip\u001b[0m\n",
      "\n",
      "\u001b[1m[\u001b[0m\u001b[34;49mnotice\u001b[0m\u001b[1;39;49m]\u001b[0m\u001b[39;49m A new release of pip is available: \u001b[0m\u001b[31;49m23.3.1\u001b[0m\u001b[39;49m -> \u001b[0m\u001b[32;49m23.3.2\u001b[0m\n",
      "\u001b[1m[\u001b[0m\u001b[34;49mnotice\u001b[0m\u001b[1;39;49m]\u001b[0m\u001b[39;49m To update, run: \u001b[0m\u001b[32;49mpython -m pip install --upgrade pip\u001b[0m\n"
     ]
    },
    {
     "name": "stderr",
     "output_type": "stream",
     "text": [
      "/home/codespace/.python/current/lib/python3.10/site-packages/tqdm/auto.py:21: TqdmWarning: IProgress not found. Please update jupyter and ipywidgets. See https://ipywidgets.readthedocs.io/en/stable/user_install.html\n",
      "  from .autonotebook import tqdm as notebook_tqdm\n"
     ]
    }
   ],
   "source": [
    "import os\n",
    "\n",
    "# Detect if we are in the TIRA sandbox\n",
    "# Install the required dependencies if we are not in the sandbox.\n",
    "if 'TIRA_DATASET_ID' not in os.environ:\n",
    "    !pip3 install  python-terrier tira==0.0.88 ir_datasets\n",
    "    !pip3 install -q python-terrier\n",
    "    !pip3 install -q --upgrade git+https://github.com/terrierteam/pyterrier_t5.git\n",
    "else:\n",
    "    print('We are in the TIRA sandbox.')\n",
    "\n",
    "from tira.third_party_integrations import ensure_pyterrier_is_loaded, persist_and_normalize_run\n",
    "\n",
    "# PyTerrier must be imported after the call to ensure_pyterrier_is_loaded in TIRA.\n",
    "import pyterrier as pt"
   ]
  },
  {
   "cell_type": "markdown",
   "metadata": {},
   "source": [
    "Ensure Pyterrier integration is loaded"
   ]
  },
  {
   "cell_type": "code",
   "execution_count": 2,
   "metadata": {},
   "outputs": [
    {
     "name": "stdout",
     "output_type": "stream",
     "text": [
      "Due to execution in TIRA, I have patched ir_datasets to always return the single input dataset mounted to the sandbox.\n",
      "Start PyTerrier with version=5.7, helper_version=0.0.7, no_download=True\n",
      "terrier-assemblies 5.7 jar-with-dependencies not found, downloading to /home/codespace/.pyterrier...\n",
      "Done\n",
      "terrier-python-helper 0.0.7 jar not found, downloading to /home/codespace/.pyterrier...\n",
      "Done\n",
      "terrier-prf -SNAPSHOT jar not found, downloading to /home/codespace/.pyterrier...\n",
      "Done\n"
     ]
    },
    {
     "name": "stderr",
     "output_type": "stream",
     "text": [
      "PyTerrier 0.10.0 has loaded Terrier 5.7 (built by craigm on 2022-11-10 18:30) and terrier-helper 0.0.7\n",
      "\n",
      "No etc/terrier.properties, using terrier.default.properties for bootstrap configuration.\n"
     ]
    }
   ],
   "source": [
    "ensure_pyterrier_is_loaded()"
   ]
  },
  {
   "cell_type": "markdown",
   "metadata": {},
   "source": [
    "### Step 2: Load data, create index"
   ]
  },
  {
   "cell_type": "code",
   "execution_count": 16,
   "metadata": {},
   "outputs": [
    {
     "name": "stdout",
     "output_type": "stream",
     "text": [
      "No settings given in /home/codespace/.tira/.tira-settings.json. I will use defaults.\n",
      "No settings given in /home/codespace/.tira/.tira-settings.json. I will use defaults.\n"
     ]
    },
    {
     "name": "stderr",
     "output_type": "stream",
     "text": [
      "ir-lab-jena-leipzig-wise-2023/validation-20231104-training documents:   0%|          | 24/61307 [00:00<04:36, 221.65it/s]"
     ]
    },
    {
     "name": "stdout",
     "output_type": "stream",
     "text": [
      "No settings given in /home/codespace/.tira/.tira-settings.json. I will use defaults.\n",
      "No settings given in /home/codespace/.tira/.tira-settings.json. I will use defaults.\n"
     ]
    },
    {
     "name": "stderr",
     "output_type": "stream",
     "text": [
      "ir-lab-jena-leipzig-wise-2023/validation-20231104-training documents: 100%|██████████| 61307/61307 [00:49<00:00, 1248.40it/s]\n"
     ]
    }
   ],
   "source": [
    "dataset = pt.get_dataset('irds:ir-lab-jena-leipzig-wise-2023/validation-20231104-training')\n",
    "qrels = dataset.get_qrels()\n",
    "#for debugging: use only top 5\n",
    "topics = dataset.get_topics(variant=\"title\")#[:5]\n",
    "\n",
    "from pathlib import Path\n",
    "index_loc = \"./index\"\n",
    "if not (Path(index_loc) / \"data.properties\").exists():\n",
    "    indexer = pt.IterDictIndexer(index_loc)\n",
    "    indexref = indexer.index(dataset.get_corpus_iter())\n",
    "else:\n",
    "    indexref = pt.IndexFactory.of(index_loc)"
   ]
  },
  {
   "cell_type": "markdown",
   "metadata": {},
   "source": [
    "### Step 3: Create retrieval pipeline\n",
    "\n",
    "#### We aim for retrieving documents via a linear combination of PL2 and BM25. Firstly, let's focus on PL2."
   ]
  },
  {
   "cell_type": "code",
   "execution_count": 17,
   "metadata": {},
   "outputs": [],
   "source": [
    "pl2 = pt.BatchRetrieve(indexref, wmodel=\"PL2\", verbose=True)"
   ]
  },
  {
   "cell_type": "markdown",
   "metadata": {},
   "source": [
    "#### Next, we perform BM25-retrieval with query expansion."
   ]
  },
  {
   "cell_type": "code",
   "execution_count": 18,
   "metadata": {},
   "outputs": [],
   "source": [
    "bm25 = pt.BatchRetrieve(indexref, wmodel=\"BM25\", verbose=True)\n",
    "\n",
    "bo1_expansion = bm25 >> pt.rewrite.Bo1QueryExpansion(indexref)\n",
    "bm25_bo1 = bo1_expansion >> bm25"
   ]
  },
  {
   "cell_type": "markdown",
   "metadata": {},
   "source": [
    "#### Let's combine the two systems."
   ]
  },
  {
   "cell_type": "code",
   "execution_count": 19,
   "metadata": {},
   "outputs": [],
   "source": [
    "bm25_bo1_pl2 = (2* bm25_bo1 + pl2)"
   ]
  },
  {
   "cell_type": "markdown",
   "metadata": {},
   "source": [
    "#### Test to ensure that renaming of dataframe is needed for reranking."
   ]
  },
  {
   "cell_type": "code",
   "execution_count": 53,
   "metadata": {},
   "outputs": [
    {
     "name": "stderr",
     "output_type": "stream",
     "text": [
      "BR(BM25): 100%|██████████| 5/5 [00:00<00:00, 22.31q/s]\n",
      "BR(BM25):   0%|          | 0/5 [00:00<?, ?q/s]"
     ]
    },
    {
     "name": "stderr",
     "output_type": "stream",
     "text": [
      "BR(BM25): 100%|██████████| 5/5 [00:00<00:00, 19.57q/s]\n",
      "BR(PL2): 100%|██████████| 5/5 [00:00<00:00, 27.19q/s]\n"
     ]
    },
    {
     "data": {
      "text/html": [
       "<div>\n",
       "<style scoped>\n",
       "    .dataframe tbody tr th:only-of-type {\n",
       "        vertical-align: middle;\n",
       "    }\n",
       "\n",
       "    .dataframe tbody tr th {\n",
       "        vertical-align: top;\n",
       "    }\n",
       "\n",
       "    .dataframe thead th {\n",
       "        text-align: right;\n",
       "    }\n",
       "</style>\n",
       "<table border=\"1\" class=\"dataframe\">\n",
       "  <thead>\n",
       "    <tr style=\"text-align: right;\">\n",
       "      <th></th>\n",
       "      <th>qid</th>\n",
       "      <th>docid</th>\n",
       "      <th>docno</th>\n",
       "      <th>score</th>\n",
       "      <th>query</th>\n",
       "      <th>query_0</th>\n",
       "      <th>rank</th>\n",
       "    </tr>\n",
       "  </thead>\n",
       "  <tbody>\n",
       "    <tr>\n",
       "      <th>0</th>\n",
       "      <td>q072224</td>\n",
       "      <td>59628.0</td>\n",
       "      <td>doc072202002905</td>\n",
       "      <td>36.642224</td>\n",
       "      <td>purchase money</td>\n",
       "      <td>applypipeline:off purchas^1.124916191 monei^1....</td>\n",
       "      <td>0</td>\n",
       "    </tr>\n",
       "    <tr>\n",
       "      <th>1</th>\n",
       "      <td>q072224</td>\n",
       "      <td>27801.0</td>\n",
       "      <td>doc072211705166</td>\n",
       "      <td>32.470182</td>\n",
       "      <td>purchase money</td>\n",
       "      <td>applypipeline:off purchas^1.124916191 monei^1....</td>\n",
       "      <td>2</td>\n",
       "    </tr>\n",
       "    <tr>\n",
       "      <th>2</th>\n",
       "      <td>q072224</td>\n",
       "      <td>16790.0</td>\n",
       "      <td>doc072215502070</td>\n",
       "      <td>32.121412</td>\n",
       "      <td>purchase money</td>\n",
       "      <td>applypipeline:off purchas^1.124916191 monei^1....</td>\n",
       "      <td>3</td>\n",
       "    </tr>\n",
       "    <tr>\n",
       "      <th>3</th>\n",
       "      <td>q072224</td>\n",
       "      <td>19718.0</td>\n",
       "      <td>doc072211305429</td>\n",
       "      <td>32.121412</td>\n",
       "      <td>purchase money</td>\n",
       "      <td>applypipeline:off purchas^1.124916191 monei^1....</td>\n",
       "      <td>4</td>\n",
       "    </tr>\n",
       "    <tr>\n",
       "      <th>4</th>\n",
       "      <td>q072224</td>\n",
       "      <td>40315.0</td>\n",
       "      <td>doc072203203007</td>\n",
       "      <td>32.121412</td>\n",
       "      <td>purchase money</td>\n",
       "      <td>applypipeline:off purchas^1.124916191 monei^1....</td>\n",
       "      <td>5</td>\n",
       "    </tr>\n",
       "    <tr>\n",
       "      <th>...</th>\n",
       "      <td>...</td>\n",
       "      <td>...</td>\n",
       "      <td>...</td>\n",
       "      <td>...</td>\n",
       "      <td>...</td>\n",
       "      <td>...</td>\n",
       "      <td>...</td>\n",
       "    </tr>\n",
       "    <tr>\n",
       "      <th>6515</th>\n",
       "      <td>q072242</td>\n",
       "      <td>NaN</td>\n",
       "      <td>doc072201001557</td>\n",
       "      <td>2.758636</td>\n",
       "      <td>NaN</td>\n",
       "      <td>NaN</td>\n",
       "      <td>1527</td>\n",
       "    </tr>\n",
       "    <tr>\n",
       "      <th>6516</th>\n",
       "      <td>q072242</td>\n",
       "      <td>NaN</td>\n",
       "      <td>doc072203205122</td>\n",
       "      <td>2.757709</td>\n",
       "      <td>NaN</td>\n",
       "      <td>NaN</td>\n",
       "      <td>1528</td>\n",
       "    </tr>\n",
       "    <tr>\n",
       "      <th>6517</th>\n",
       "      <td>q072242</td>\n",
       "      <td>NaN</td>\n",
       "      <td>doc072200401101</td>\n",
       "      <td>2.756787</td>\n",
       "      <td>NaN</td>\n",
       "      <td>NaN</td>\n",
       "      <td>1529</td>\n",
       "    </tr>\n",
       "    <tr>\n",
       "      <th>6518</th>\n",
       "      <td>q072242</td>\n",
       "      <td>NaN</td>\n",
       "      <td>doc072208905974</td>\n",
       "      <td>2.755216</td>\n",
       "      <td>NaN</td>\n",
       "      <td>NaN</td>\n",
       "      <td>1530</td>\n",
       "    </tr>\n",
       "    <tr>\n",
       "      <th>6519</th>\n",
       "      <td>q072242</td>\n",
       "      <td>NaN</td>\n",
       "      <td>doc072215104150</td>\n",
       "      <td>2.749386</td>\n",
       "      <td>NaN</td>\n",
       "      <td>NaN</td>\n",
       "      <td>1531</td>\n",
       "    </tr>\n",
       "  </tbody>\n",
       "</table>\n",
       "<p>6520 rows × 7 columns</p>\n",
       "</div>"
      ],
      "text/plain": [
       "          qid    docid            docno      score           query  \\\n",
       "0     q072224  59628.0  doc072202002905  36.642224  purchase money   \n",
       "1     q072224  27801.0  doc072211705166  32.470182  purchase money   \n",
       "2     q072224  16790.0  doc072215502070  32.121412  purchase money   \n",
       "3     q072224  19718.0  doc072211305429  32.121412  purchase money   \n",
       "4     q072224  40315.0  doc072203203007  32.121412  purchase money   \n",
       "...       ...      ...              ...        ...             ...   \n",
       "6515  q072242      NaN  doc072201001557   2.758636             NaN   \n",
       "6516  q072242      NaN  doc072203205122   2.757709             NaN   \n",
       "6517  q072242      NaN  doc072200401101   2.756787             NaN   \n",
       "6518  q072242      NaN  doc072208905974   2.755216             NaN   \n",
       "6519  q072242      NaN  doc072215104150   2.749386             NaN   \n",
       "\n",
       "                                                query_0  rank  \n",
       "0     applypipeline:off purchas^1.124916191 monei^1....     0  \n",
       "1     applypipeline:off purchas^1.124916191 monei^1....     2  \n",
       "2     applypipeline:off purchas^1.124916191 monei^1....     3  \n",
       "3     applypipeline:off purchas^1.124916191 monei^1....     4  \n",
       "4     applypipeline:off purchas^1.124916191 monei^1....     5  \n",
       "...                                                 ...   ...  \n",
       "6515                                                NaN  1527  \n",
       "6516                                                NaN  1528  \n",
       "6517                                                NaN  1529  \n",
       "6518                                                NaN  1530  \n",
       "6519                                                NaN  1531  \n",
       "\n",
       "[6520 rows x 7 columns]"
      ]
     },
     "execution_count": 53,
     "metadata": {},
     "output_type": "execute_result"
    }
   ],
   "source": [
    "run = bm25_bo1_pl2(topics)\n",
    "run.rename(columns= {\"query\": \"query_0\", \"query_0\": \"query\"})"
   ]
  },
  {
   "cell_type": "markdown",
   "metadata": {},
   "source": [
    "### Next, we want to rerank the output with a transformer.\n",
    "(after loading the document text and resetting the expanded query)"
   ]
  },
  {
   "cell_type": "code",
   "execution_count": 20,
   "metadata": {},
   "outputs": [
    {
     "name": "stdout",
     "output_type": "stream",
     "text": [
      "No settings given in /home/codespace/.tira/.tira-settings.json. I will use defaults.\n",
      "No settings given in /home/codespace/.tira/.tira-settings.json. I will use defaults.\n"
     ]
    },
    {
     "name": "stderr",
     "output_type": "stream",
     "text": [
      "ir-lab-jena-leipzig-wise-2023/validation-20231104-training documents:   2%|▏         | 1402/61307 [00:00<00:04, 14006.82it/s]"
     ]
    },
    {
     "name": "stdout",
     "output_type": "stream",
     "text": [
      "No settings given in /home/codespace/.tira/.tira-settings.json. I will use defaults.\n",
      "No settings given in /home/codespace/.tira/.tira-settings.json. I will use defaults.\n"
     ]
    },
    {
     "name": "stderr",
     "output_type": "stream",
     "text": [
      "ir-lab-jena-leipzig-wise-2023/validation-20231104-training documents: 100%|██████████| 61307/61307 [00:04<00:00, 14706.38it/s]\n"
     ]
    }
   ],
   "source": [
    "import pandas as pd\n",
    "\n",
    "corpus = pd.DataFrame(dataset.get_corpus_iter())\n",
    "\n",
    "\n",
    "class GetText(pt.Transformer):\n",
    "    def transform(self, topics_or_res: pd.DataFrame) -> pd.DataFrame:\n",
    "        return pd.merge(topics_or_res, corpus, on=\"docno\")\n",
    "\n",
    "    \n",
    "class ResetQueryColumn(pt.Transformer):\n",
    "    def transform(self, topics_or_res: pd.DataFrame) -> pd.DataFrame:\n",
    "        return topics_or_res.rename(columns= {\"query\": \"query_0\", \"query_0\": \"query\"})\n"
   ]
  },
  {
   "cell_type": "code",
   "execution_count": 21,
   "metadata": {},
   "outputs": [],
   "source": [
    "# from pyterrier_t5 import MonoT5ReRanker\n",
    "# monoT5 = MonoT5ReRanker(verbose=True, batch_size=1)\n",
    "\n",
    "# For debugging (GitHub Codespaces seem to not have enough RAM to run monoT5):\n",
    "monoT5 = pt.text.scorer(body_attr=\"text\", wmodel=\"BM25\")"
   ]
  },
  {
   "cell_type": "code",
   "execution_count": 22,
   "metadata": {},
   "outputs": [],
   "source": [
    "bm25_bo1_pl2_mono = (\n",
    "    bm25_bo1_pl2 % 10 >> \n",
    "    GetText() >> \n",
    "    ResetQueryColumn() >> \n",
    "    pt.text.sliding(length=400, stride=64, prepend_attr=None, text_attr=\"text\") % 5 >> \n",
    "    monoT5)"
   ]
  },
  {
   "cell_type": "markdown",
   "metadata": {},
   "source": [
    "#### Cache the pipeline."
   ]
  },
  {
   "cell_type": "code",
   "execution_count": 23,
   "metadata": {},
   "outputs": [],
   "source": [
    "import pandas as pd\n",
    "from dataclasses import dataclass\n",
    "\n",
    "\n",
    "@dataclass(frozen=True)\n",
    "class NamedTransformer(pt.Transformer):\n",
    "    nametrans: str\n",
    "    wrapped: pt.Transformer\n",
    "\n",
    "    def __repr__(self) -> str:\n",
    "        return self.nametrans\n",
    "\n",
    "    def transform(self, df: pd.DataFrame) -> pd.DataFrame:\n",
    "        return self.wrapped.transform(df)\n"
   ]
  },
  {
   "cell_type": "code",
   "execution_count": 24,
   "metadata": {},
   "outputs": [
    {
     "data": {
      "text/plain": [
       "'Cache(bm25_bo1_pl2_mono_cache_bust_6)'"
      ]
     },
     "execution_count": 24,
     "metadata": {},
     "output_type": "execute_result"
    }
   ],
   "source": [
    "bm25_bo1_pl2_mono_cached = ~NamedTransformer(\"bm25_bo1_pl2_mono_cache_bust_6\", bm25_bo1_pl2_mono)\n",
    "repr(bm25_bo1_pl2_mono_cached)"
   ]
  },
  {
   "cell_type": "markdown",
   "metadata": {},
   "source": [
    "### Hypothesis 1: There is a significant ($\\alpha < 0.05$) difference w.r.t. nDCG between aggregating with max passage and mean passage.\n",
    "\n",
    "#### Firstly, rerank with max passage aggregation."
   ]
  },
  {
   "cell_type": "code",
   "execution_count": 25,
   "metadata": {},
   "outputs": [
    {
     "name": "stderr",
     "output_type": "stream",
     "text": [
      "BR(BM25): 100%|██████████| 877/877 [00:19<00:00, 44.80q/s]\n",
      "BR(BM25): 100%|██████████| 873/873 [00:23<00:00, 36.91q/s]\n",
      "BR(PL2): 100%|██████████| 877/877 [00:18<00:00, 46.67q/s]\n"
     ]
    },
    {
     "name": "stdout",
     "output_type": "stream",
     "text": [
      "calling sliding on df of 8730 rows\n"
     ]
    },
    {
     "name": "stderr",
     "output_type": "stream",
     "text": [
      "                                                                \r"
     ]
    },
    {
     "name": "stdout",
     "output_type": "stream",
     "text": [
      "19:27:44.120 [main] WARN org.terrier.querying.ApplyTermPipeline - The index has no termpipelines configuration, and no control configuration is found. Defaulting to global termpipelines configuration of 'Stopwords,PorterStemmer'. Set a termpipelines control to remove this warning.\n"
     ]
    },
    {
     "data": {
      "text/html": [
       "<div>\n",
       "<style scoped>\n",
       "    .dataframe tbody tr th:only-of-type {\n",
       "        vertical-align: middle;\n",
       "    }\n",
       "\n",
       "    .dataframe tbody tr th {\n",
       "        vertical-align: top;\n",
       "    }\n",
       "\n",
       "    .dataframe thead th {\n",
       "        text-align: right;\n",
       "    }\n",
       "</style>\n",
       "<table border=\"1\" class=\"dataframe\">\n",
       "  <thead>\n",
       "    <tr style=\"text-align: right;\">\n",
       "      <th></th>\n",
       "      <th>qid</th>\n",
       "      <th>query_0</th>\n",
       "      <th>text</th>\n",
       "      <th>score</th>\n",
       "      <th>query</th>\n",
       "      <th>docno</th>\n",
       "      <th>rank</th>\n",
       "    </tr>\n",
       "  </thead>\n",
       "  <tbody>\n",
       "    <tr>\n",
       "      <th>29</th>\n",
       "      <td>q072224</td>\n",
       "      <td>applypipeline:off purchas^1.124916191 monei^1....</td>\n",
       "      <td>to stay, making inflation even more difficult ...</td>\n",
       "      <td>0.788480</td>\n",
       "      <td>purchase money</td>\n",
       "      <td>doc072215502070</td>\n",
       "      <td>7</td>\n",
       "    </tr>\n",
       "    <tr>\n",
       "      <th>29</th>\n",
       "      <td>q072210025</td>\n",
       "      <td>applypipeline:off recip^1.053565089 spring^1.3...</td>\n",
       "      <td>Recipe Peanut Sauce for Spring Rolls Peanut S...</td>\n",
       "      <td>26.489269</td>\n",
       "      <td>recipe spring roll</td>\n",
       "      <td>doc072201202671</td>\n",
       "      <td>5</td>\n",
       "    </tr>\n",
       "    <tr>\n",
       "      <th>30</th>\n",
       "      <td>q072224</td>\n",
       "      <td>applypipeline:off purchas^1.124916191 monei^1....</td>\n",
       "      <td>doc072211305429 Aztec Group Inc Florida Singa...</td>\n",
       "      <td>1.111982</td>\n",
       "      <td>purchase money</td>\n",
       "      <td>doc072211305429</td>\n",
       "      <td>6</td>\n",
       "    </tr>\n",
       "    <tr>\n",
       "      <th>30</th>\n",
       "      <td>q072210025</td>\n",
       "      <td>applypipeline:off recip^1.053565089 spring^1.3...</td>\n",
       "      <td>Spring Rolls Recipe | Pratique.fr Spring roll...</td>\n",
       "      <td>26.640448</td>\n",
       "      <td>recipe spring roll</td>\n",
       "      <td>doc072204307357</td>\n",
       "      <td>4</td>\n",
       "    </tr>\n",
       "    <tr>\n",
       "      <th>0</th>\n",
       "      <td>q072224</td>\n",
       "      <td>applypipeline:off purchas^1.124916191 monei^1....</td>\n",
       "      <td>Real Estate Offer Form | Gorvamur Real Estate...</td>\n",
       "      <td>0.470985</td>\n",
       "      <td>purchase money</td>\n",
       "      <td>doc072202002905</td>\n",
       "      <td>11</td>\n",
       "    </tr>\n",
       "  </tbody>\n",
       "</table>\n",
       "</div>"
      ],
      "text/plain": [
       "           qid                                            query_0  \\\n",
       "29     q072224  applypipeline:off purchas^1.124916191 monei^1....   \n",
       "29  q072210025  applypipeline:off recip^1.053565089 spring^1.3...   \n",
       "30     q072224  applypipeline:off purchas^1.124916191 monei^1....   \n",
       "30  q072210025  applypipeline:off recip^1.053565089 spring^1.3...   \n",
       "0      q072224  applypipeline:off purchas^1.124916191 monei^1....   \n",
       "\n",
       "                                                 text      score  \\\n",
       "29  to stay, making inflation even more difficult ...   0.788480   \n",
       "29   Recipe Peanut Sauce for Spring Rolls Peanut S...  26.489269   \n",
       "30   doc072211305429 Aztec Group Inc Florida Singa...   1.111982   \n",
       "30   Spring Rolls Recipe | Pratique.fr Spring roll...  26.640448   \n",
       "0    Real Estate Offer Form | Gorvamur Real Estate...   0.470985   \n",
       "\n",
       "                 query            docno  rank  \n",
       "29      purchase money  doc072215502070     7  \n",
       "29  recipe spring roll  doc072201202671     5  \n",
       "30      purchase money  doc072211305429     6  \n",
       "30  recipe spring roll  doc072204307357     4  \n",
       "0       purchase money  doc072202002905    11  "
      ]
     },
     "execution_count": 25,
     "metadata": {},
     "output_type": "execute_result"
    }
   ],
   "source": [
    "bm25_bo1_pl2_max = bm25_bo1_pl2_mono_cached >> pt.text.max_passage()\n",
    "bm25_bo1_pl2_max.transform(topics).head()"
   ]
  },
  {
   "cell_type": "markdown",
   "metadata": {},
   "source": [
    "#### Secondly, rerank with mean passage aggregation."
   ]
  },
  {
   "cell_type": "code",
   "execution_count": 26,
   "metadata": {},
   "outputs": [
    {
     "data": {
      "text/html": [
       "<div>\n",
       "<style scoped>\n",
       "    .dataframe tbody tr th:only-of-type {\n",
       "        vertical-align: middle;\n",
       "    }\n",
       "\n",
       "    .dataframe tbody tr th {\n",
       "        vertical-align: top;\n",
       "    }\n",
       "\n",
       "    .dataframe thead th {\n",
       "        text-align: right;\n",
       "    }\n",
       "</style>\n",
       "<table border=\"1\" class=\"dataframe\">\n",
       "  <thead>\n",
       "    <tr style=\"text-align: right;\">\n",
       "      <th></th>\n",
       "      <th>qid</th>\n",
       "      <th>docno</th>\n",
       "      <th>score</th>\n",
       "      <th>query</th>\n",
       "      <th>query_0</th>\n",
       "      <th>rank</th>\n",
       "    </tr>\n",
       "  </thead>\n",
       "  <tbody>\n",
       "    <tr>\n",
       "      <th>0</th>\n",
       "      <td>q072210025</td>\n",
       "      <td>doc072201202671</td>\n",
       "      <td>26.489269</td>\n",
       "      <td>recipe spring roll</td>\n",
       "      <td>applypipeline:off recip^1.053565089 spring^1.3...</td>\n",
       "      <td>2</td>\n",
       "    </tr>\n",
       "    <tr>\n",
       "      <th>1</th>\n",
       "      <td>q072210025</td>\n",
       "      <td>doc072204307357</td>\n",
       "      <td>26.640448</td>\n",
       "      <td>recipe spring roll</td>\n",
       "      <td>applypipeline:off recip^1.053565089 spring^1.3...</td>\n",
       "      <td>1</td>\n",
       "    </tr>\n",
       "    <tr>\n",
       "      <th>2</th>\n",
       "      <td>q072210025</td>\n",
       "      <td>doc072207501000</td>\n",
       "      <td>25.446916</td>\n",
       "      <td>recipe spring roll</td>\n",
       "      <td>applypipeline:off recip^1.053565089 spring^1.3...</td>\n",
       "      <td>3</td>\n",
       "    </tr>\n",
       "    <tr>\n",
       "      <th>3</th>\n",
       "      <td>q072210025</td>\n",
       "      <td>doc072207504499</td>\n",
       "      <td>28.091892</td>\n",
       "      <td>recipe spring roll</td>\n",
       "      <td>applypipeline:off recip^1.053565089 spring^1.3...</td>\n",
       "      <td>0</td>\n",
       "    </tr>\n",
       "    <tr>\n",
       "      <th>4</th>\n",
       "      <td>q072210025</td>\n",
       "      <td>doc072212607743</td>\n",
       "      <td>21.485242</td>\n",
       "      <td>recipe spring roll</td>\n",
       "      <td>applypipeline:off recip^1.053565089 spring^1.3...</td>\n",
       "      <td>4</td>\n",
       "    </tr>\n",
       "  </tbody>\n",
       "</table>\n",
       "</div>"
      ],
      "text/plain": [
       "          qid            docno      score               query  \\\n",
       "0  q072210025  doc072201202671  26.489269  recipe spring roll   \n",
       "1  q072210025  doc072204307357  26.640448  recipe spring roll   \n",
       "2  q072210025  doc072207501000  25.446916  recipe spring roll   \n",
       "3  q072210025  doc072207504499  28.091892  recipe spring roll   \n",
       "4  q072210025  doc072212607743  21.485242  recipe spring roll   \n",
       "\n",
       "                                             query_0  rank  \n",
       "0  applypipeline:off recip^1.053565089 spring^1.3...     2  \n",
       "1  applypipeline:off recip^1.053565089 spring^1.3...     1  \n",
       "2  applypipeline:off recip^1.053565089 spring^1.3...     3  \n",
       "3  applypipeline:off recip^1.053565089 spring^1.3...     0  \n",
       "4  applypipeline:off recip^1.053565089 spring^1.3...     4  "
      ]
     },
     "execution_count": 26,
     "metadata": {},
     "output_type": "execute_result"
    }
   ],
   "source": [
    "bm25_bo1_pl2_mean = bm25_bo1_pl2_mono_cached  >> pt.text.mean_passage()\n",
    "bm25_bo1_pl2_mean.transform(topics).head()"
   ]
  },
  {
   "cell_type": "markdown",
   "metadata": {},
   "source": [
    "#### Let's compare both systems."
   ]
  },
  {
   "cell_type": "code",
   "execution_count": 29,
   "metadata": {},
   "outputs": [
    {
     "data": {
      "text/html": [
       "<div>\n",
       "<style scoped>\n",
       "    .dataframe tbody tr th:only-of-type {\n",
       "        vertical-align: middle;\n",
       "    }\n",
       "\n",
       "    .dataframe tbody tr th {\n",
       "        vertical-align: top;\n",
       "    }\n",
       "\n",
       "    .dataframe thead th {\n",
       "        text-align: right;\n",
       "    }\n",
       "</style>\n",
       "<table border=\"1\" class=\"dataframe\">\n",
       "  <thead>\n",
       "    <tr style=\"text-align: right;\">\n",
       "      <th></th>\n",
       "      <th>name</th>\n",
       "      <th>ndcg_cut_5</th>\n",
       "      <th>ndcg</th>\n",
       "    </tr>\n",
       "  </thead>\n",
       "  <tbody>\n",
       "    <tr>\n",
       "      <th>0</th>\n",
       "      <td>max passage</td>\n",
       "      <td>0.142422</td>\n",
       "      <td>0.137406</td>\n",
       "    </tr>\n",
       "    <tr>\n",
       "      <th>1</th>\n",
       "      <td>mean passage</td>\n",
       "      <td>0.141060</td>\n",
       "      <td>0.136222</td>\n",
       "    </tr>\n",
       "  </tbody>\n",
       "</table>\n",
       "</div>"
      ],
      "text/plain": [
       "           name  ndcg_cut_5      ndcg\n",
       "0   max passage    0.142422  0.137406\n",
       "1  mean passage    0.141060  0.136222"
      ]
     },
     "execution_count": 29,
     "metadata": {},
     "output_type": "execute_result"
    }
   ],
   "source": [
    "pt.Experiment(\n",
    "    [bm25_bo1_pl2_max, bm25_bo1_pl2_mean],\n",
    "    topics,\n",
    "    qrels,\n",
    "    eval_metrics=[\"ndcg_cut_5\", \"ndcg\"],\n",
    "    names=[\"max passage\", \"mean passage\"],\n",
    ")"
   ]
  },
  {
   "cell_type": "code",
   "execution_count": 32,
   "metadata": {},
   "outputs": [
    {
     "data": {
      "text/html": [
       "<div>\n",
       "<style scoped>\n",
       "    .dataframe tbody tr th:only-of-type {\n",
       "        vertical-align: middle;\n",
       "    }\n",
       "\n",
       "    .dataframe tbody tr th {\n",
       "        vertical-align: top;\n",
       "    }\n",
       "\n",
       "    .dataframe thead th {\n",
       "        text-align: right;\n",
       "    }\n",
       "</style>\n",
       "<table border=\"1\" class=\"dataframe\">\n",
       "  <thead>\n",
       "    <tr style=\"text-align: right;\">\n",
       "      <th></th>\n",
       "      <th>name</th>\n",
       "      <th>qid</th>\n",
       "      <th>measure</th>\n",
       "      <th>value</th>\n",
       "    </tr>\n",
       "  </thead>\n",
       "  <tbody>\n",
       "    <tr>\n",
       "      <th>1</th>\n",
       "      <td>max passage</td>\n",
       "      <td>q072210025</td>\n",
       "      <td>ndcg_cut_5</td>\n",
       "      <td>0.00000</td>\n",
       "    </tr>\n",
       "    <tr>\n",
       "      <th>3</th>\n",
       "      <td>max passage</td>\n",
       "      <td>q072210054</td>\n",
       "      <td>ndcg_cut_5</td>\n",
       "      <td>0.00000</td>\n",
       "    </tr>\n",
       "    <tr>\n",
       "      <th>6</th>\n",
       "      <td>max passage</td>\n",
       "      <td>q072210114</td>\n",
       "      <td>ndcg_cut_5</td>\n",
       "      <td>0.00000</td>\n",
       "    </tr>\n",
       "    <tr>\n",
       "      <th>8</th>\n",
       "      <td>max passage</td>\n",
       "      <td>q07221016</td>\n",
       "      <td>ndcg_cut_5</td>\n",
       "      <td>0.00000</td>\n",
       "    </tr>\n",
       "    <tr>\n",
       "      <th>9</th>\n",
       "      <td>max passage</td>\n",
       "      <td>q072210178</td>\n",
       "      <td>ndcg_cut_5</td>\n",
       "      <td>0.00000</td>\n",
       "    </tr>\n",
       "    <tr>\n",
       "      <th>...</th>\n",
       "      <td>...</td>\n",
       "      <td>...</td>\n",
       "      <td>...</td>\n",
       "      <td>...</td>\n",
       "    </tr>\n",
       "    <tr>\n",
       "      <th>1755</th>\n",
       "      <td>mean passage</td>\n",
       "      <td>q07229744</td>\n",
       "      <td>ndcg_cut_5</td>\n",
       "      <td>0.00000</td>\n",
       "    </tr>\n",
       "    <tr>\n",
       "      <th>1756</th>\n",
       "      <td>mean passage</td>\n",
       "      <td>q07229758</td>\n",
       "      <td>ndcg_cut_5</td>\n",
       "      <td>0.00000</td>\n",
       "    </tr>\n",
       "    <tr>\n",
       "      <th>1757</th>\n",
       "      <td>mean passage</td>\n",
       "      <td>q07229782</td>\n",
       "      <td>ndcg_cut_5</td>\n",
       "      <td>0.00000</td>\n",
       "    </tr>\n",
       "    <tr>\n",
       "      <th>1758</th>\n",
       "      <td>mean passage</td>\n",
       "      <td>q07229809</td>\n",
       "      <td>ndcg_cut_5</td>\n",
       "      <td>0.38223</td>\n",
       "    </tr>\n",
       "    <tr>\n",
       "      <th>1759</th>\n",
       "      <td>mean passage</td>\n",
       "      <td>q072299</td>\n",
       "      <td>ndcg_cut_5</td>\n",
       "      <td>0.00000</td>\n",
       "    </tr>\n",
       "  </tbody>\n",
       "</table>\n",
       "<p>1764 rows × 4 columns</p>\n",
       "</div>"
      ],
      "text/plain": [
       "              name         qid     measure    value\n",
       "1      max passage  q072210025  ndcg_cut_5  0.00000\n",
       "3      max passage  q072210054  ndcg_cut_5  0.00000\n",
       "6      max passage  q072210114  ndcg_cut_5  0.00000\n",
       "8      max passage   q07221016  ndcg_cut_5  0.00000\n",
       "9      max passage  q072210178  ndcg_cut_5  0.00000\n",
       "...            ...         ...         ...      ...\n",
       "1755  mean passage   q07229744  ndcg_cut_5  0.00000\n",
       "1756  mean passage   q07229758  ndcg_cut_5  0.00000\n",
       "1757  mean passage   q07229782  ndcg_cut_5  0.00000\n",
       "1758  mean passage   q07229809  ndcg_cut_5  0.38223\n",
       "1759  mean passage     q072299  ndcg_cut_5  0.00000\n",
       "\n",
       "[1764 rows x 4 columns]"
      ]
     },
     "execution_count": 32,
     "metadata": {},
     "output_type": "execute_result"
    }
   ],
   "source": [
    "metrics_per_query = pt.Experiment(\n",
    "    [bm25_bo1_pl2_max, bm25_bo1_pl2_mean],\n",
    "    topics,\n",
    "    qrels,\n",
    "    eval_metrics=[\"ndcg_cut_5\"],\n",
    "    names=[\"max passage\", \"mean passage\"],\n",
    "    perquery=True,\n",
    ")\n",
    "metrics_per_query"
   ]
  },
  {
   "cell_type": "markdown",
   "metadata": {},
   "source": [
    "### Significance Test between both systems."
   ]
  },
  {
   "cell_type": "code",
   "execution_count": 35,
   "metadata": {},
   "outputs": [
    {
     "data": {
      "text/html": [
       "<div>\n",
       "<style scoped>\n",
       "    .dataframe tbody tr th:only-of-type {\n",
       "        vertical-align: middle;\n",
       "    }\n",
       "\n",
       "    .dataframe tbody tr th {\n",
       "        vertical-align: top;\n",
       "    }\n",
       "\n",
       "    .dataframe thead th {\n",
       "        text-align: right;\n",
       "    }\n",
       "</style>\n",
       "<table border=\"1\" class=\"dataframe\">\n",
       "  <thead>\n",
       "    <tr style=\"text-align: right;\">\n",
       "      <th></th>\n",
       "      <th>name</th>\n",
       "      <th>ndcg</th>\n",
       "      <th>ndcg_cut_5</th>\n",
       "      <th>ndcg +</th>\n",
       "      <th>ndcg -</th>\n",
       "      <th>ndcg p-value</th>\n",
       "      <th>ndcg_cut_5 +</th>\n",
       "      <th>ndcg_cut_5 -</th>\n",
       "      <th>ndcg_cut_5 p-value</th>\n",
       "    </tr>\n",
       "  </thead>\n",
       "  <tbody>\n",
       "    <tr>\n",
       "      <th>0</th>\n",
       "      <td>max passage</td>\n",
       "      <td>0.137406</td>\n",
       "      <td>0.142422</td>\n",
       "      <td>NaN</td>\n",
       "      <td>NaN</td>\n",
       "      <td>NaN</td>\n",
       "      <td>NaN</td>\n",
       "      <td>NaN</td>\n",
       "      <td>NaN</td>\n",
       "    </tr>\n",
       "    <tr>\n",
       "      <th>1</th>\n",
       "      <td>mean passage</td>\n",
       "      <td>0.136222</td>\n",
       "      <td>0.141060</td>\n",
       "      <td>103.0</td>\n",
       "      <td>104.0</td>\n",
       "      <td>0.559196</td>\n",
       "      <td>103.0</td>\n",
       "      <td>104.0</td>\n",
       "      <td>0.510276</td>\n",
       "    </tr>\n",
       "  </tbody>\n",
       "</table>\n",
       "</div>"
      ],
      "text/plain": [
       "           name      ndcg  ndcg_cut_5  ndcg +  ndcg -  ndcg p-value  \\\n",
       "0   max passage  0.137406    0.142422     NaN     NaN           NaN   \n",
       "1  mean passage  0.136222    0.141060   103.0   104.0      0.559196   \n",
       "\n",
       "   ndcg_cut_5 +  ndcg_cut_5 -  ndcg_cut_5 p-value  \n",
       "0           NaN           NaN                 NaN  \n",
       "1         103.0         104.0            0.510276  "
      ]
     },
     "execution_count": 35,
     "metadata": {},
     "output_type": "execute_result"
    }
   ],
   "source": [
    "\n",
    "pt.Experiment(\n",
    "    [bm25_bo1_pl2_max, bm25_bo1_pl2_mean],\n",
    "    topics,\n",
    "    qrels,\n",
    "    eval_metrics=[\"ndcg_cut_5\", \"ndcg\"],\n",
    "    names=[\"max passage\", \"mean passage\"],\n",
    "    baseline = 0\n",
    ")\n"
   ]
  },
  {
   "cell_type": "markdown",
   "metadata": {},
   "source": [
    "### Hypothesis 2: Choosing $k \\in \\{5\\cdot i \\mid i \\in [1, 10]\\}$ such that the nDCG-score of $k$-max average aggregation is maximized, yields a significantly ($\\alpha < 0.05$)  better nDCG-score than using max passage or mean passage aggregation."
   ]
  },
  {
   "cell_type": "code",
   "execution_count": null,
   "metadata": {},
   "outputs": [],
   "source": [
    "from pyterrier.text import KMaxAvgPassage\n",
    "\n",
    "@dataclass(unsafe_hash=True)\n",
    "class TuneableKMaxAvgPassage(KMaxAvgPassage):\n",
    "    pipeline: pt.Transformer\n",
    "    k: int\n",
    "\n",
    "    def transform(self, topics_or_res: pd.DataFrame) -> pd.DataFrame:\n",
    "        pipeline = self.pipeline >> pt.text.kmaxavg_passage(k=self.k)\n",
    "        return pipeline.transform(topics_or_res)\n"
   ]
  },
  {
   "cell_type": "code",
   "execution_count": null,
   "metadata": {},
   "outputs": [],
   "source": [
    "bm25_bo1_pl2_kmax = TuneableKMaxAvgPassage(bm25_bo1_pl2_mono_cached, k=5)"
   ]
  },
  {
   "cell_type": "markdown",
   "metadata": {},
   "source": [
    "#### Find $k$ such that nDCG of reranking with $k$-max average passage is maximized."
   ]
  },
  {
   "cell_type": "code",
   "execution_count": null,
   "metadata": {},
   "outputs": [
    {
     "name": "stderr",
     "output_type": "stream",
     "text": [
      "GridScan: 100%|██████████| 10/10 [00:00<00:00, 17.61it/s]"
     ]
    },
    {
     "name": "stdout",
     "output_type": "stream",
     "text": [
      "Best ndcg is 0.000000\n",
      "Best setting is ['TuneableKMaxAvgPassage(pipeline=Cache(bm25_bo1_pl2_mono_cache_bust_3), k=50) k=5']\n"
     ]
    },
    {
     "name": "stderr",
     "output_type": "stream",
     "text": [
      "\n"
     ]
    }
   ],
   "source": [
    "bm25_bo1_pl2_best_kmax = pt.GridSearch(\n",
    "    bm25_bo1_pl2_kmax,\n",
    "    {bm25_bo1_pl2_kmax :  {'k' : [5, 10, 15, 20, 25, 30, 35, 40, 45, 50]}},\n",
    "    topics,\n",
    "    qrels,\n",
    "    'ndcg',\n",
    "    verbose=True\n",
    ")"
   ]
  },
  {
   "cell_type": "code",
   "execution_count": 64,
   "metadata": {},
   "outputs": [
    {
     "data": {
      "text/html": [
       "<div>\n",
       "<style scoped>\n",
       "    .dataframe tbody tr th:only-of-type {\n",
       "        vertical-align: middle;\n",
       "    }\n",
       "\n",
       "    .dataframe tbody tr th {\n",
       "        vertical-align: top;\n",
       "    }\n",
       "\n",
       "    .dataframe thead th {\n",
       "        text-align: right;\n",
       "    }\n",
       "</style>\n",
       "<table border=\"1\" class=\"dataframe\">\n",
       "  <thead>\n",
       "    <tr style=\"text-align: right;\">\n",
       "      <th></th>\n",
       "      <th>name</th>\n",
       "      <th>ndcg_cut_5</th>\n",
       "    </tr>\n",
       "  </thead>\n",
       "  <tbody>\n",
       "    <tr>\n",
       "      <th>0</th>\n",
       "      <td>max passage</td>\n",
       "      <td>0.0</td>\n",
       "    </tr>\n",
       "    <tr>\n",
       "      <th>1</th>\n",
       "      <td>mean passage</td>\n",
       "      <td>0.0</td>\n",
       "    </tr>\n",
       "    <tr>\n",
       "      <th>2</th>\n",
       "      <td>best_k_pipeline</td>\n",
       "      <td>0.0</td>\n",
       "    </tr>\n",
       "  </tbody>\n",
       "</table>\n",
       "</div>"
      ],
      "text/plain": [
       "              name  ndcg_cut_5\n",
       "0      max passage         0.0\n",
       "1     mean passage         0.0\n",
       "2  best_k_pipeline         0.0"
      ]
     },
     "execution_count": 64,
     "metadata": {},
     "output_type": "execute_result"
    }
   ],
   "source": [
    "pt.Experiment(\n",
    "    [bm25_bo1_pl2_max, bm25_bo1_pl2_mean, bm25_bo1_pl2_best_kmax],\n",
    "    topics,\n",
    "    qrels,\n",
    "    eval_metrics=[\"ndcg_cut_5\"],\n",
    "    names=[\"max passage\", \"mean passage\", \"best_k_pipeline\"],\n",
    ")"
   ]
  },
  {
   "cell_type": "markdown",
   "metadata": {},
   "source": [
    "### Step 4: Persist results."
   ]
  },
  {
   "cell_type": "code",
   "execution_count": 65,
   "metadata": {},
   "outputs": [
    {
     "data": {
      "text/html": [
       "<div>\n",
       "<style scoped>\n",
       "    .dataframe tbody tr th:only-of-type {\n",
       "        vertical-align: middle;\n",
       "    }\n",
       "\n",
       "    .dataframe tbody tr th {\n",
       "        vertical-align: top;\n",
       "    }\n",
       "\n",
       "    .dataframe thead th {\n",
       "        text-align: right;\n",
       "    }\n",
       "</style>\n",
       "<table border=\"1\" class=\"dataframe\">\n",
       "  <thead>\n",
       "    <tr style=\"text-align: right;\">\n",
       "      <th></th>\n",
       "      <th>name</th>\n",
       "      <th>qid</th>\n",
       "      <th>measure</th>\n",
       "      <th>value</th>\n",
       "    </tr>\n",
       "  </thead>\n",
       "  <tbody>\n",
       "    <tr>\n",
       "      <th>10</th>\n",
       "      <td>best kmax pipeline</td>\n",
       "      <td>q072224</td>\n",
       "      <td>ndcg_cut_5</td>\n",
       "      <td>0.0</td>\n",
       "    </tr>\n",
       "    <tr>\n",
       "      <th>11</th>\n",
       "      <td>best kmax pipeline</td>\n",
       "      <td>q072226</td>\n",
       "      <td>ndcg_cut_5</td>\n",
       "      <td>0.0</td>\n",
       "    </tr>\n",
       "    <tr>\n",
       "      <th>12</th>\n",
       "      <td>best kmax pipeline</td>\n",
       "      <td>q072232</td>\n",
       "      <td>ndcg_cut_5</td>\n",
       "      <td>0.0</td>\n",
       "    </tr>\n",
       "    <tr>\n",
       "      <th>13</th>\n",
       "      <td>best kmax pipeline</td>\n",
       "      <td>q072240</td>\n",
       "      <td>ndcg_cut_5</td>\n",
       "      <td>0.0</td>\n",
       "    </tr>\n",
       "    <tr>\n",
       "      <th>14</th>\n",
       "      <td>best kmax pipeline</td>\n",
       "      <td>q072242</td>\n",
       "      <td>ndcg_cut_5</td>\n",
       "      <td>0.0</td>\n",
       "    </tr>\n",
       "    <tr>\n",
       "      <th>0</th>\n",
       "      <td>max passage</td>\n",
       "      <td>q072224</td>\n",
       "      <td>ndcg_cut_5</td>\n",
       "      <td>0.0</td>\n",
       "    </tr>\n",
       "    <tr>\n",
       "      <th>1</th>\n",
       "      <td>max passage</td>\n",
       "      <td>q072226</td>\n",
       "      <td>ndcg_cut_5</td>\n",
       "      <td>0.0</td>\n",
       "    </tr>\n",
       "    <tr>\n",
       "      <th>2</th>\n",
       "      <td>max passage</td>\n",
       "      <td>q072232</td>\n",
       "      <td>ndcg_cut_5</td>\n",
       "      <td>0.0</td>\n",
       "    </tr>\n",
       "    <tr>\n",
       "      <th>3</th>\n",
       "      <td>max passage</td>\n",
       "      <td>q072240</td>\n",
       "      <td>ndcg_cut_5</td>\n",
       "      <td>0.0</td>\n",
       "    </tr>\n",
       "    <tr>\n",
       "      <th>4</th>\n",
       "      <td>max passage</td>\n",
       "      <td>q072242</td>\n",
       "      <td>ndcg_cut_5</td>\n",
       "      <td>0.0</td>\n",
       "    </tr>\n",
       "    <tr>\n",
       "      <th>5</th>\n",
       "      <td>mean passage</td>\n",
       "      <td>q072224</td>\n",
       "      <td>ndcg_cut_5</td>\n",
       "      <td>0.0</td>\n",
       "    </tr>\n",
       "    <tr>\n",
       "      <th>6</th>\n",
       "      <td>mean passage</td>\n",
       "      <td>q072226</td>\n",
       "      <td>ndcg_cut_5</td>\n",
       "      <td>0.0</td>\n",
       "    </tr>\n",
       "    <tr>\n",
       "      <th>7</th>\n",
       "      <td>mean passage</td>\n",
       "      <td>q072232</td>\n",
       "      <td>ndcg_cut_5</td>\n",
       "      <td>0.0</td>\n",
       "    </tr>\n",
       "    <tr>\n",
       "      <th>8</th>\n",
       "      <td>mean passage</td>\n",
       "      <td>q072240</td>\n",
       "      <td>ndcg_cut_5</td>\n",
       "      <td>0.0</td>\n",
       "    </tr>\n",
       "    <tr>\n",
       "      <th>9</th>\n",
       "      <td>mean passage</td>\n",
       "      <td>q072242</td>\n",
       "      <td>ndcg_cut_5</td>\n",
       "      <td>0.0</td>\n",
       "    </tr>\n",
       "  </tbody>\n",
       "</table>\n",
       "</div>"
      ],
      "text/plain": [
       "                  name      qid     measure  value\n",
       "10  best kmax pipeline  q072224  ndcg_cut_5    0.0\n",
       "11  best kmax pipeline  q072226  ndcg_cut_5    0.0\n",
       "12  best kmax pipeline  q072232  ndcg_cut_5    0.0\n",
       "13  best kmax pipeline  q072240  ndcg_cut_5    0.0\n",
       "14  best kmax pipeline  q072242  ndcg_cut_5    0.0\n",
       "0          max passage  q072224  ndcg_cut_5    0.0\n",
       "1          max passage  q072226  ndcg_cut_5    0.0\n",
       "2          max passage  q072232  ndcg_cut_5    0.0\n",
       "3          max passage  q072240  ndcg_cut_5    0.0\n",
       "4          max passage  q072242  ndcg_cut_5    0.0\n",
       "5         mean passage  q072224  ndcg_cut_5    0.0\n",
       "6         mean passage  q072226  ndcg_cut_5    0.0\n",
       "7         mean passage  q072232  ndcg_cut_5    0.0\n",
       "8         mean passage  q072240  ndcg_cut_5    0.0\n",
       "9         mean passage  q072242  ndcg_cut_5    0.0"
      ]
     },
     "execution_count": 65,
     "metadata": {},
     "output_type": "execute_result"
    }
   ],
   "source": [
    "metrics_per_query = pt.Experiment(\n",
    "    [bm25_bo1_pl2_max, bm25_bo1_pl2_mean, bm25_bo1_pl2_best_kmax],\n",
    "    topics,\n",
    "    qrels,\n",
    "    eval_metrics=[\"ndcg_cut_5\"],\n",
    "    names=[\"max passage\", \"mean passage\", \"best kmax pipeline\"],\n",
    "    perquery=True,\n",
    ")\n",
    "metrics_per_query"
   ]
  },
  {
   "cell_type": "code",
   "execution_count": 66,
   "metadata": {},
   "outputs": [],
   "source": [
    "# TODO: Significace tests between the best k-max average pipeline and the two others"
   ]
  },
  {
   "cell_type": "code",
   "execution_count": 67,
   "metadata": {},
   "outputs": [],
   "source": [
    "with open(\"results.txt\", \"wt\") as file:\n",
    "    file.write(\"Results for Hypothesis 1:\\n\")\n",
    "    # ...\n",
    "    file.write(\"Results for Hypothesis 2:\\n\")\n",
    "    # ..."
   ]
  },
  {
   "cell_type": "code",
   "execution_count": null,
   "metadata": {},
   "outputs": [],
   "source": []
  }
 ],
 "metadata": {
  "kernelspec": {
   "display_name": "base",
   "language": "python",
   "name": "python3"
  },
  "language_info": {
   "codemirror_mode": {
    "name": "ipython",
    "version": 3
   },
   "file_extension": ".py",
   "mimetype": "text/x-python",
   "name": "python",
   "nbconvert_exporter": "python",
   "pygments_lexer": "ipython3",
   "version": "3.10.13"
  },
  "orig_nbformat": 4
 },
 "nbformat": 4,
 "nbformat_minor": 2
}
