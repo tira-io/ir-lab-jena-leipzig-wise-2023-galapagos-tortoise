{
 "cells": [
  {
   "cell_type": "markdown",
   "id": "8c3da078-f7fc-4d37-904c-532bb26d4321",
   "metadata": {},
   "source": [
    "# BM25 retrieval with PyTerrier"
   ]
  },
  {
   "cell_type": "code",
   "execution_count": 1,
   "id": "95548698169a739",
   "metadata": {
    "ExecuteTime": {
     "end_time": "2023-11-13T16:52:08.202134249Z",
     "start_time": "2023-11-13T16:52:07.908900829Z"
    },
    "collapsed": false
   },
   "outputs": [
    {
     "name": "stdout",
     "output_type": "stream",
     "text": [
      "Requirement already satisfied: ir-datasets~=0.5.5 in /usr/local/python/3.10.8/lib/python3.10/site-packages (0.5.5)\n",
      "Requirement already satisfied: ir-measures~=0.3.3 in /usr/local/python/3.10.8/lib/python3.10/site-packages (0.3.3)\n",
      "Requirement already satisfied: python-terrier~=0.10.0 in /usr/local/python/3.10.8/lib/python3.10/site-packages (0.10.0)\n",
      "Requirement already satisfied: tira~=0.0.83 in /usr/local/python/3.10.8/lib/python3.10/site-packages (0.0.83)\n",
      "Requirement already satisfied: tqdm~=4.66 in /usr/local/python/3.10.8/lib/python3.10/site-packages (4.66.1)\n",
      "Requirement already satisfied: matplot in /usr/local/python/3.10.8/lib/python3.10/site-packages (0.1.9)\n",
      "Requirement already satisfied: beautifulsoup4>=4.4.1 in /home/codespace/.local/lib/python3.10/site-packages (from ir-datasets~=0.5.5) (4.12.2)\n",
      "Requirement already satisfied: inscriptis>=2.2.0 in /usr/local/python/3.10.8/lib/python3.10/site-packages (from ir-datasets~=0.5.5) (2.3.2)\n",
      "Requirement already satisfied: lxml>=4.5.2 in /usr/local/python/3.10.8/lib/python3.10/site-packages (from ir-datasets~=0.5.5) (4.9.3)\n",
      "Requirement already satisfied: numpy>=1.18.1 in /home/codespace/.local/lib/python3.10/site-packages (from ir-datasets~=0.5.5) (1.26.1)\n",
      "Requirement already satisfied: pyyaml>=5.3.1 in /home/codespace/.local/lib/python3.10/site-packages (from ir-datasets~=0.5.5) (6.0.1)\n",
      "Requirement already satisfied: requests>=2.22.0 in /home/codespace/.local/lib/python3.10/site-packages (from ir-datasets~=0.5.5) (2.31.0)\n",
      "Requirement already satisfied: trec-car-tools>=2.5.4 in /usr/local/python/3.10.8/lib/python3.10/site-packages (from ir-datasets~=0.5.5) (2.6)\n",
      "Requirement already satisfied: lz4>=3.1.10 in /usr/local/python/3.10.8/lib/python3.10/site-packages (from ir-datasets~=0.5.5) (4.3.2)\n",
      "Requirement already satisfied: warc3-wet>=0.2.3 in /usr/local/python/3.10.8/lib/python3.10/site-packages (from ir-datasets~=0.5.5) (0.2.3)\n",
      "Requirement already satisfied: warc3-wet-clueweb09>=0.2.5 in /usr/local/python/3.10.8/lib/python3.10/site-packages (from ir-datasets~=0.5.5) (0.2.5)\n",
      "Requirement already satisfied: zlib-state>=0.1.3 in /usr/local/python/3.10.8/lib/python3.10/site-packages (from ir-datasets~=0.5.5) (0.1.6)\n",
      "Requirement already satisfied: ijson>=3.1.3 in /usr/local/python/3.10.8/lib/python3.10/site-packages (from ir-datasets~=0.5.5) (3.2.3)\n",
      "Requirement already satisfied: pyautocorpus>=0.1.1 in /usr/local/python/3.10.8/lib/python3.10/site-packages (from ir-datasets~=0.5.5) (0.1.12)\n",
      "Requirement already satisfied: unlzw3>=0.2.1 in /usr/local/python/3.10.8/lib/python3.10/site-packages (from ir-datasets~=0.5.5) (0.2.2)\n",
      "Requirement already satisfied: pytrec-eval-terrier>=0.5.5 in /usr/local/python/3.10.8/lib/python3.10/site-packages (from ir-measures~=0.3.3) (0.5.6)\n",
      "Requirement already satisfied: cwl-eval>=1.0.10 in /usr/local/python/3.10.8/lib/python3.10/site-packages (from ir-measures~=0.3.3) (1.0.12)\n",
      "Requirement already satisfied: pandas in /home/codespace/.local/lib/python3.10/site-packages (from python-terrier~=0.10.0) (2.1.1)\n",
      "Requirement already satisfied: wget in /usr/local/python/3.10.8/lib/python3.10/site-packages (from python-terrier~=0.10.0) (3.2)\n",
      "Requirement already satisfied: pyjnius>=1.4.2 in /usr/local/python/3.10.8/lib/python3.10/site-packages (from python-terrier~=0.10.0) (1.6.1)\n",
      "Requirement already satisfied: matchpy in /usr/local/python/3.10.8/lib/python3.10/site-packages (from python-terrier~=0.10.0) (0.5.5)\n",
      "Requirement already satisfied: scikit-learn in /home/codespace/.local/lib/python3.10/site-packages (from python-terrier~=0.10.0) (1.3.1)\n",
      "Requirement already satisfied: deprecated in /usr/local/python/3.10.8/lib/python3.10/site-packages (from python-terrier~=0.10.0) (1.2.14)\n",
      "Requirement already satisfied: chest in /usr/local/python/3.10.8/lib/python3.10/site-packages (from python-terrier~=0.10.0) (0.2.3)\n",
      "Requirement already satisfied: scipy in /home/codespace/.local/lib/python3.10/site-packages (from python-terrier~=0.10.0) (1.11.3)\n",
      "Requirement already satisfied: joblib in /home/codespace/.local/lib/python3.10/site-packages (from python-terrier~=0.10.0) (1.3.2)\n",
      "Requirement already satisfied: nptyping==1.4.4 in /usr/local/python/3.10.8/lib/python3.10/site-packages (from python-terrier~=0.10.0) (1.4.4)\n",
      "Requirement already satisfied: more-itertools in /usr/local/python/3.10.8/lib/python3.10/site-packages (from python-terrier~=0.10.0) (10.1.0)\n",
      "Requirement already satisfied: jinja2 in /home/codespace/.local/lib/python3.10/site-packages (from python-terrier~=0.10.0) (3.1.2)\n",
      "Requirement already satisfied: statsmodels in /usr/local/python/3.10.8/lib/python3.10/site-packages (from python-terrier~=0.10.0) (0.14.0)\n",
      "Requirement already satisfied: dill in /usr/local/python/3.10.8/lib/python3.10/site-packages (from python-terrier~=0.10.0) (0.3.7)\n",
      "Requirement already satisfied: typish>=1.7.0 in /usr/local/python/3.10.8/lib/python3.10/site-packages (from nptyping==1.4.4->python-terrier~=0.10.0) (1.9.3)\n",
      "Requirement already satisfied: docker==6.*,>=6.0.0 in /usr/local/python/3.10.8/lib/python3.10/site-packages (from tira~=0.0.83) (6.1.3)\n",
      "Requirement already satisfied: packaging>=14.0 in /home/codespace/.local/lib/python3.10/site-packages (from docker==6.*,>=6.0.0->tira~=0.0.83) (23.2)\n",
      "Requirement already satisfied: urllib3>=1.26.0 in /home/codespace/.local/lib/python3.10/site-packages (from docker==6.*,>=6.0.0->tira~=0.0.83) (2.0.7)\n",
      "Requirement already satisfied: websocket-client>=0.32.0 in /home/codespace/.local/lib/python3.10/site-packages (from docker==6.*,>=6.0.0->tira~=0.0.83) (1.6.4)\n",
      "Requirement already satisfied: charset-normalizer<4,>=2 in /home/codespace/.local/lib/python3.10/site-packages (from requests>=2.22.0->ir-datasets~=0.5.5) (3.3.0)\n",
      "Requirement already satisfied: idna<4,>=2.5 in /home/codespace/.local/lib/python3.10/site-packages (from requests>=2.22.0->ir-datasets~=0.5.5) (3.4)\n",
      "Requirement already satisfied: certifi>=2017.4.17 in /home/codespace/.local/lib/python3.10/site-packages (from requests>=2.22.0->ir-datasets~=0.5.5) (2023.7.22)\n",
      "Requirement already satisfied: pyloco>=0.0.134 in /usr/local/python/3.10.8/lib/python3.10/site-packages (from matplot) (0.0.139)\n",
      "Requirement already satisfied: matplotlib>=3.1.1 in /home/codespace/.local/lib/python3.10/site-packages (from matplot) (3.8.0)\n",
      "Requirement already satisfied: soupsieve>1.2 in /home/codespace/.local/lib/python3.10/site-packages (from beautifulsoup4>=4.4.1->ir-datasets~=0.5.5) (2.5)\n",
      "Requirement already satisfied: contourpy>=1.0.1 in /home/codespace/.local/lib/python3.10/site-packages (from matplotlib>=3.1.1->matplot) (1.1.1)\n",
      "Requirement already satisfied: cycler>=0.10 in /home/codespace/.local/lib/python3.10/site-packages (from matplotlib>=3.1.1->matplot) (0.12.1)\n",
      "Requirement already satisfied: fonttools>=4.22.0 in /home/codespace/.local/lib/python3.10/site-packages (from matplotlib>=3.1.1->matplot) (4.43.1)\n",
      "Requirement already satisfied: kiwisolver>=1.0.1 in /home/codespace/.local/lib/python3.10/site-packages (from matplotlib>=3.1.1->matplot) (1.4.5)\n",
      "Requirement already satisfied: pillow>=6.2.0 in /home/codespace/.local/lib/python3.10/site-packages (from matplotlib>=3.1.1->matplot) (10.1.0)\n",
      "Requirement already satisfied: pyparsing>=2.3.1 in /home/codespace/.local/lib/python3.10/site-packages (from matplotlib>=3.1.1->matplot) (3.1.1)\n",
      "Requirement already satisfied: python-dateutil>=2.7 in /home/codespace/.local/lib/python3.10/site-packages (from matplotlib>=3.1.1->matplot) (2.8.2)\n",
      "Requirement already satisfied: ushlex in /usr/local/python/3.10.8/lib/python3.10/site-packages (from pyloco>=0.0.134->matplot) (0.99.1)\n",
      "Requirement already satisfied: twine in /usr/local/python/3.10.8/lib/python3.10/site-packages (from pyloco>=0.0.134->matplot) (4.0.2)\n",
      "Requirement already satisfied: typing in /usr/local/python/3.10.8/lib/python3.10/site-packages (from pyloco>=0.0.134->matplot) (3.7.4.3)\n",
      "Requirement already satisfied: SimpleWebSocketServer in /usr/local/python/3.10.8/lib/python3.10/site-packages (from pyloco>=0.0.134->matplot) (0.1.2)\n",
      "Requirement already satisfied: cbor>=1.0.0 in /usr/local/python/3.10.8/lib/python3.10/site-packages (from trec-car-tools>=2.5.4->ir-datasets~=0.5.5) (1.0.0)\n",
      "Requirement already satisfied: heapdict in /usr/local/python/3.10.8/lib/python3.10/site-packages (from chest->python-terrier~=0.10.0) (1.0.1)\n",
      "Requirement already satisfied: wrapt<2,>=1.10 in /usr/local/python/3.10.8/lib/python3.10/site-packages (from deprecated->python-terrier~=0.10.0) (1.16.0)\n",
      "Requirement already satisfied: MarkupSafe>=2.0 in /home/codespace/.local/lib/python3.10/site-packages (from jinja2->python-terrier~=0.10.0) (2.1.3)\n",
      "Requirement already satisfied: multiset<3.0,>=2.0 in /usr/local/python/3.10.8/lib/python3.10/site-packages (from matchpy->python-terrier~=0.10.0) (2.1.1)\n",
      "Requirement already satisfied: pytz>=2020.1 in /home/codespace/.local/lib/python3.10/site-packages (from pandas->python-terrier~=0.10.0) (2023.3.post1)\n",
      "Requirement already satisfied: tzdata>=2022.1 in /home/codespace/.local/lib/python3.10/site-packages (from pandas->python-terrier~=0.10.0) (2023.3)\n",
      "Requirement already satisfied: threadpoolctl>=2.0.0 in /home/codespace/.local/lib/python3.10/site-packages (from scikit-learn->python-terrier~=0.10.0) (3.2.0)\n",
      "Requirement already satisfied: patsy>=0.5.2 in /usr/local/python/3.10.8/lib/python3.10/site-packages (from statsmodels->python-terrier~=0.10.0) (0.5.3)\n",
      "Requirement already satisfied: six in /home/codespace/.local/lib/python3.10/site-packages (from patsy>=0.5.2->statsmodels->python-terrier~=0.10.0) (1.16.0)\n",
      "Requirement already satisfied: pkginfo>=1.8.1 in /usr/local/python/3.10.8/lib/python3.10/site-packages (from twine->pyloco>=0.0.134->matplot) (1.9.6)\n",
      "Requirement already satisfied: readme-renderer>=35.0 in /usr/local/python/3.10.8/lib/python3.10/site-packages (from twine->pyloco>=0.0.134->matplot) (42.0)\n",
      "Requirement already satisfied: requests-toolbelt!=0.9.0,>=0.8.0 in /usr/local/python/3.10.8/lib/python3.10/site-packages (from twine->pyloco>=0.0.134->matplot) (1.0.0)\n",
      "Requirement already satisfied: importlib-metadata>=3.6 in /usr/local/python/3.10.8/lib/python3.10/site-packages (from twine->pyloco>=0.0.134->matplot) (6.8.0)\n",
      "Requirement already satisfied: keyring>=15.1 in /usr/local/python/3.10.8/lib/python3.10/site-packages (from twine->pyloco>=0.0.134->matplot) (24.3.0)\n",
      "Requirement already satisfied: rfc3986>=1.4.0 in /usr/local/python/3.10.8/lib/python3.10/site-packages (from twine->pyloco>=0.0.134->matplot) (2.0.0)\n",
      "Requirement already satisfied: rich>=12.0.0 in /usr/local/python/3.10.8/lib/python3.10/site-packages (from twine->pyloco>=0.0.134->matplot) (13.7.0)\n",
      "Requirement already satisfied: zipp>=0.5 in /usr/local/python/3.10.8/lib/python3.10/site-packages (from importlib-metadata>=3.6->twine->pyloco>=0.0.134->matplot) (3.17.0)\n",
      "Requirement already satisfied: jaraco.classes in /usr/local/python/3.10.8/lib/python3.10/site-packages (from keyring>=15.1->twine->pyloco>=0.0.134->matplot) (3.3.0)\n",
      "Requirement already satisfied: SecretStorage>=3.2 in /usr/local/python/3.10.8/lib/python3.10/site-packages (from keyring>=15.1->twine->pyloco>=0.0.134->matplot) (3.3.3)\n",
      "Requirement already satisfied: jeepney>=0.4.2 in /usr/local/python/3.10.8/lib/python3.10/site-packages (from keyring>=15.1->twine->pyloco>=0.0.134->matplot) (0.8.0)\n",
      "Requirement already satisfied: nh3>=0.2.14 in /usr/local/python/3.10.8/lib/python3.10/site-packages (from readme-renderer>=35.0->twine->pyloco>=0.0.134->matplot) (0.2.14)\n",
      "Requirement already satisfied: docutils>=0.13.1 in /usr/local/python/3.10.8/lib/python3.10/site-packages (from readme-renderer>=35.0->twine->pyloco>=0.0.134->matplot) (0.20.1)\n",
      "Requirement already satisfied: Pygments>=2.5.1 in /home/codespace/.local/lib/python3.10/site-packages (from readme-renderer>=35.0->twine->pyloco>=0.0.134->matplot) (2.16.1)\n",
      "Requirement already satisfied: markdown-it-py>=2.2.0 in /usr/local/python/3.10.8/lib/python3.10/site-packages (from rich>=12.0.0->twine->pyloco>=0.0.134->matplot) (3.0.0)\n",
      "Requirement already satisfied: mdurl~=0.1 in /usr/local/python/3.10.8/lib/python3.10/site-packages (from markdown-it-py>=2.2.0->rich>=12.0.0->twine->pyloco>=0.0.134->matplot) (0.1.2)\n",
      "Requirement already satisfied: cryptography>=2.0 in /usr/local/python/3.10.8/lib/python3.10/site-packages (from SecretStorage>=3.2->keyring>=15.1->twine->pyloco>=0.0.134->matplot) (41.0.5)\n",
      "Requirement already satisfied: cffi>=1.12 in /home/codespace/.local/lib/python3.10/site-packages (from cryptography>=2.0->SecretStorage>=3.2->keyring>=15.1->twine->pyloco>=0.0.134->matplot) (1.16.0)\n",
      "Requirement already satisfied: pycparser in /home/codespace/.local/lib/python3.10/site-packages (from cffi>=1.12->cryptography>=2.0->SecretStorage>=3.2->keyring>=15.1->twine->pyloco>=0.0.134->matplot) (2.21)\n",
      "\n",
      "\u001b[1m[\u001b[0m\u001b[34;49mnotice\u001b[0m\u001b[1;39;49m]\u001b[0m\u001b[39;49m A new release of pip is available: \u001b[0m\u001b[31;49m23.3\u001b[0m\u001b[39;49m -> \u001b[0m\u001b[32;49m23.3.1\u001b[0m\n",
      "\u001b[1m[\u001b[0m\u001b[34;49mnotice\u001b[0m\u001b[1;39;49m]\u001b[0m\u001b[39;49m To update, run: \u001b[0m\u001b[32;49mpip install --upgrade pip\u001b[0m\n",
      "Note: you may need to restart the kernel to use updated packages.\n"
     ]
    }
   ],
   "source": [
    "from sys import modules\n",
    "\n",
    "#%pip install tira ir-datasets python-terrier ir-measures\n",
    "#if \"google.colab\" in modules:\n",
    "    # This is only needed in Google Colab.\n",
    "%pip install ir-datasets~=0.5.5 ir-measures~=0.3.3 python-terrier~=0.10.0 tira~=0.0.83 tqdm~=4.66 matplot"
   ]
  },
  {
   "cell_type": "markdown",
   "id": "66fd2911-c97a-4f91-af28-8c7e381573b6",
   "metadata": {},
   "source": [
    "### Step 1: Import libraries and load variables"
   ]
  },
  {
   "cell_type": "code",
   "execution_count": 2,
   "id": "7ae3c54f-aba1-45bf-b074-e78a99f6405f",
   "metadata": {
    "ExecuteTime": {
     "end_time": "2023-11-13T16:52:08.681366578Z",
     "start_time": "2023-11-13T16:52:07.914297940Z"
    }
   },
   "outputs": [],
   "source": [
    "\n",
    "from pathlib import Path\n",
    "\n",
    "from tira.third_party_integrations import ensure_pyterrier_is_loaded, persist_and_normalize_run, ir_datasets"
   ]
  },
  {
   "cell_type": "markdown",
   "id": "babd39f2c41b73b6",
   "metadata": {
    "collapsed": false
   },
   "source": [
    "Ensure that the PyTerrier integration is loaded:"
   ]
  },
  {
   "cell_type": "code",
   "execution_count": 3,
   "id": "c75e668771467ef6",
   "metadata": {
    "ExecuteTime": {
     "end_time": "2023-11-13T16:52:10.330702548Z",
     "start_time": "2023-11-13T16:52:08.725407319Z"
    },
    "collapsed": false
   },
   "outputs": [
    {
     "name": "stderr",
     "output_type": "stream",
     "text": [
      "/home/codespace/.python/current/lib/python3.10/site-packages/tqdm/auto.py:21: TqdmWarning: IProgress not found. Please update jupyter and ipywidgets. See https://ipywidgets.readthedocs.io/en/stable/user_install.html\n",
      "  from .autonotebook import tqdm as notebook_tqdm\n"
     ]
    },
    {
     "name": "stdout",
     "output_type": "stream",
     "text": [
      "Due to execution in TIRA, I have patched ir_datasets to always return the single input dataset mounted to the sandbox.\n",
      "Start PyTerrier with version=5.7, helper_version=0.0.7, no_download=True\n"
     ]
    },
    {
     "name": "stderr",
     "output_type": "stream",
     "text": [
      "PyTerrier 0.10.0 has loaded Terrier 5.7 (built by craigm on 2022-11-10 18:30) and terrier-helper 0.0.7\n",
      "\n",
      "No etc/terrier.properties, using terrier.default.properties for bootstrap configuration.\n"
     ]
    }
   ],
   "source": [
    "ensure_pyterrier_is_loaded()"
   ]
  },
  {
   "cell_type": "code",
   "execution_count": 4,
   "id": "ed71bc4a5376b3b5",
   "metadata": {
    "ExecuteTime": {
     "end_time": "2023-11-13T16:52:10.385311518Z",
     "start_time": "2023-11-13T16:52:10.341236305Z"
    },
    "collapsed": false
   },
   "outputs": [],
   "source": [
    "from pyterrier.batchretrieve import BatchRetrieve\n",
    "from pyterrier.bootstrap import IndexFactory\n",
    "from pyterrier.datasets import get_dataset\n",
    "from pyterrier.index import IterDictIndexer\n",
    "from pyterrier import Experiment, rewrite, GridScan\n",
    "import matplotlib.pyplot as plt\n",
    "\n"
   ]
  },
  {
   "cell_type": "markdown",
   "id": "3d6dc6886aa032fd",
   "metadata": {
    "collapsed": false
   },
   "source": [
    "Specify output directory for the run files:"
   ]
  },
  {
   "cell_type": "code",
   "execution_count": 5,
   "id": "a569e9102a9b6b45",
   "metadata": {
    "ExecuteTime": {
     "end_time": "2023-11-13T16:52:10.387317652Z",
     "start_time": "2023-11-13T16:52:10.357884521Z"
    },
    "collapsed": false
   },
   "outputs": [],
   "source": [
    "output_directory = \"./output\"\n",
    "index_directory = \"./index\""
   ]
  },
  {
   "cell_type": "markdown",
   "id": "8c563b0e-97ac-44a2-ba2f-18858f1506bb",
   "metadata": {
    "collapsed": false
   },
   "source": [
    "### Step 2: Load the data"
   ]
  },
  {
   "cell_type": "code",
   "execution_count": 6,
   "id": "53917a0c863699e7",
   "metadata": {
    "ExecuteTime": {
     "end_time": "2023-11-13T16:52:10.573483136Z",
     "start_time": "2023-11-13T16:52:10.437909701Z"
    },
    "collapsed": false
   },
   "outputs": [
    {
     "name": "stdout",
     "output_type": "stream",
     "text": [
      "Load ir_dataset \"ir-lab-jena-leipzig-wise-2023/training-20231104-training\" from tira.\n",
      "Load ir_dataset \"ir-lab-jena-leipzig-wise-2023/validation-20231104-training\" from tira.\n",
      "No settings given in /home/codespace/.tira/.tira-settings.json. I will use defaults.\n",
      "No settings given in /home/codespace/.tira/.tira-settings.json. I will use defaults.\n"
     ]
    },
    {
     "data": {
      "text/html": [
       "<div>\n",
       "<style scoped>\n",
       "    .dataframe tbody tr th:only-of-type {\n",
       "        vertical-align: middle;\n",
       "    }\n",
       "\n",
       "    .dataframe tbody tr th {\n",
       "        vertical-align: top;\n",
       "    }\n",
       "\n",
       "    .dataframe thead th {\n",
       "        text-align: right;\n",
       "    }\n",
       "</style>\n",
       "<table border=\"1\" class=\"dataframe\">\n",
       "  <thead>\n",
       "    <tr style=\"text-align: right;\">\n",
       "      <th></th>\n",
       "      <th>qid</th>\n",
       "      <th>docno</th>\n",
       "      <th>label</th>\n",
       "      <th>iteration</th>\n",
       "    </tr>\n",
       "  </thead>\n",
       "  <tbody>\n",
       "    <tr>\n",
       "      <th>0</th>\n",
       "      <td>q06223196</td>\n",
       "      <td>doc062200112743</td>\n",
       "      <td>0</td>\n",
       "      <td>0</td>\n",
       "    </tr>\n",
       "    <tr>\n",
       "      <th>1</th>\n",
       "      <td>q06223196</td>\n",
       "      <td>doc062200205250</td>\n",
       "      <td>0</td>\n",
       "      <td>0</td>\n",
       "    </tr>\n",
       "    <tr>\n",
       "      <th>2</th>\n",
       "      <td>q06223196</td>\n",
       "      <td>doc062200101983</td>\n",
       "      <td>0</td>\n",
       "      <td>0</td>\n",
       "    </tr>\n",
       "    <tr>\n",
       "      <th>3</th>\n",
       "      <td>q06223196</td>\n",
       "      <td>doc062200204465</td>\n",
       "      <td>1</td>\n",
       "      <td>0</td>\n",
       "    </tr>\n",
       "    <tr>\n",
       "      <th>4</th>\n",
       "      <td>q06223196</td>\n",
       "      <td>doc062200115614</td>\n",
       "      <td>0</td>\n",
       "      <td>0</td>\n",
       "    </tr>\n",
       "    <tr>\n",
       "      <th>...</th>\n",
       "      <td>...</td>\n",
       "      <td>...</td>\n",
       "      <td>...</td>\n",
       "      <td>...</td>\n",
       "    </tr>\n",
       "    <tr>\n",
       "      <th>9651</th>\n",
       "      <td>q062225197</td>\n",
       "      <td>doc062200205276</td>\n",
       "      <td>0</td>\n",
       "      <td>0</td>\n",
       "    </tr>\n",
       "    <tr>\n",
       "      <th>9652</th>\n",
       "      <td>q062225197</td>\n",
       "      <td>doc062200107121</td>\n",
       "      <td>1</td>\n",
       "      <td>0</td>\n",
       "    </tr>\n",
       "    <tr>\n",
       "      <th>9653</th>\n",
       "      <td>q062225197</td>\n",
       "      <td>doc062200204419</td>\n",
       "      <td>0</td>\n",
       "      <td>0</td>\n",
       "    </tr>\n",
       "    <tr>\n",
       "      <th>9654</th>\n",
       "      <td>q062225197</td>\n",
       "      <td>doc062200103774</td>\n",
       "      <td>0</td>\n",
       "      <td>0</td>\n",
       "    </tr>\n",
       "    <tr>\n",
       "      <th>9655</th>\n",
       "      <td>q062225197</td>\n",
       "      <td>doc062200110087</td>\n",
       "      <td>0</td>\n",
       "      <td>0</td>\n",
       "    </tr>\n",
       "  </tbody>\n",
       "</table>\n",
       "<p>9656 rows × 4 columns</p>\n",
       "</div>"
      ],
      "text/plain": [
       "             qid            docno  label iteration\n",
       "0      q06223196  doc062200112743      0         0\n",
       "1      q06223196  doc062200205250      0         0\n",
       "2      q06223196  doc062200101983      0         0\n",
       "3      q06223196  doc062200204465      1         0\n",
       "4      q06223196  doc062200115614      0         0\n",
       "...          ...              ...    ...       ...\n",
       "9651  q062225197  doc062200205276      0         0\n",
       "9652  q062225197  doc062200107121      1         0\n",
       "9653  q062225197  doc062200204419      0         0\n",
       "9654  q062225197  doc062200103774      0         0\n",
       "9655  q062225197  doc062200110087      0         0\n",
       "\n",
       "[9656 rows x 4 columns]"
      ]
     },
     "execution_count": 6,
     "metadata": {},
     "output_type": "execute_result"
    }
   ],
   "source": [
    "dataset = get_dataset(\"irds:ir-lab-jena-leipzig-wise-2023/training-20231104-training\")\n",
    "val_dataset = get_dataset(\"irds:ir-lab-jena-leipzig-wise-2023/validation-20231104-training\")\n",
    "\n",
    "qrels = dataset.get_qrels()\n",
    "qrels\n"
   ]
  },
  {
   "cell_type": "markdown",
   "id": "870c1138e2406529",
   "metadata": {
    "collapsed": false
   },
   "source": [
    "Let's look at the topics:"
   ]
  },
  {
   "cell_type": "code",
   "execution_count": 7,
   "id": "76925a61bf46b3d4",
   "metadata": {
    "ExecuteTime": {
     "end_time": "2023-11-13T16:52:11.021315372Z",
     "start_time": "2023-11-13T16:52:10.486052225Z"
    },
    "collapsed": false
   },
   "outputs": [
    {
     "name": "stdout",
     "output_type": "stream",
     "text": [
      "No settings given in /home/codespace/.tira/.tira-settings.json. I will use defaults.\n",
      "No settings given in /home/codespace/.tira/.tira-settings.json. I will use defaults.\n"
     ]
    },
    {
     "data": {
      "text/html": [
       "<div>\n",
       "<style scoped>\n",
       "    .dataframe tbody tr th:only-of-type {\n",
       "        vertical-align: middle;\n",
       "    }\n",
       "\n",
       "    .dataframe tbody tr th {\n",
       "        vertical-align: top;\n",
       "    }\n",
       "\n",
       "    .dataframe thead th {\n",
       "        text-align: right;\n",
       "    }\n",
       "</style>\n",
       "<table border=\"1\" class=\"dataframe\">\n",
       "  <thead>\n",
       "    <tr style=\"text-align: right;\">\n",
       "      <th></th>\n",
       "      <th>qid</th>\n",
       "      <th>query</th>\n",
       "    </tr>\n",
       "  </thead>\n",
       "  <tbody>\n",
       "    <tr>\n",
       "      <th>0</th>\n",
       "      <td>q06223196</td>\n",
       "      <td>car shelter</td>\n",
       "    </tr>\n",
       "    <tr>\n",
       "      <th>1</th>\n",
       "      <td>q062228</td>\n",
       "      <td>airport</td>\n",
       "    </tr>\n",
       "    <tr>\n",
       "      <th>2</th>\n",
       "      <td>q062287</td>\n",
       "      <td>antivirus comparison</td>\n",
       "    </tr>\n",
       "    <tr>\n",
       "      <th>3</th>\n",
       "      <td>q06223261</td>\n",
       "      <td>free antivirus</td>\n",
       "    </tr>\n",
       "    <tr>\n",
       "      <th>4</th>\n",
       "      <td>q062291</td>\n",
       "      <td>orange antivirus</td>\n",
       "    </tr>\n",
       "    <tr>\n",
       "      <th>...</th>\n",
       "      <td>...</td>\n",
       "      <td>...</td>\n",
       "    </tr>\n",
       "    <tr>\n",
       "      <th>667</th>\n",
       "      <td>q062224914</td>\n",
       "      <td>tax garden shed</td>\n",
       "    </tr>\n",
       "    <tr>\n",
       "      <th>668</th>\n",
       "      <td>q062224961</td>\n",
       "      <td>land of france</td>\n",
       "    </tr>\n",
       "    <tr>\n",
       "      <th>669</th>\n",
       "      <td>q062225030</td>\n",
       "      <td>find my training pole job</td>\n",
       "    </tr>\n",
       "    <tr>\n",
       "      <th>670</th>\n",
       "      <td>q062225194</td>\n",
       "      <td>gpl car</td>\n",
       "    </tr>\n",
       "    <tr>\n",
       "      <th>671</th>\n",
       "      <td>q062225197</td>\n",
       "      <td>cheapest car</td>\n",
       "    </tr>\n",
       "  </tbody>\n",
       "</table>\n",
       "<p>672 rows × 2 columns</p>\n",
       "</div>"
      ],
      "text/plain": [
       "            qid                      query\n",
       "0     q06223196                car shelter\n",
       "1       q062228                    airport\n",
       "2       q062287       antivirus comparison\n",
       "3     q06223261             free antivirus\n",
       "4       q062291           orange antivirus\n",
       "..          ...                        ...\n",
       "667  q062224914            tax garden shed\n",
       "668  q062224961             land of france\n",
       "669  q062225030  find my training pole job\n",
       "670  q062225194                    gpl car\n",
       "671  q062225197               cheapest car\n",
       "\n",
       "[672 rows x 2 columns]"
      ]
     },
     "execution_count": 7,
     "metadata": {},
     "output_type": "execute_result"
    }
   ],
   "source": [
    "topics = dataset.get_topics(variant=\"title\")\n",
    "topics"
   ]
  },
  {
   "cell_type": "markdown",
   "id": "9d22eff1efe90b7c",
   "metadata": {
    "collapsed": false
   },
   "source": [
    "And how many documents do we have for training?"
   ]
  },
  {
   "cell_type": "code",
   "execution_count": 8,
   "id": "296a7a8602059f59",
   "metadata": {
    "ExecuteTime": {
     "end_time": "2023-11-13T16:52:38.085198440Z",
     "start_time": "2023-11-13T16:52:10.894349273Z"
    },
    "collapsed": false
   },
   "outputs": [
    {
     "name": "stdout",
     "output_type": "stream",
     "text": [
      "No settings given in /home/codespace/.tira/.tira-settings.json. I will use defaults.\n",
      "No settings given in /home/codespace/.tira/.tira-settings.json. I will use defaults.\n"
     ]
    },
    {
     "name": "stdout",
     "output_type": "stream",
     "text": [
      "The dataset has 47064 documents.\n"
     ]
    }
   ],
   "source": [
    "print(f\"The dataset has {dataset.irds_ref().docs_count()} documents.\")"
   ]
  },
  {
   "cell_type": "markdown",
   "id": "9c05d73d0089c82a",
   "metadata": {
    "collapsed": false
   },
   "source": [
    "The `docs_store` is a view of the dataset for accessing documents with random access."
   ]
  },
  {
   "cell_type": "code",
   "execution_count": 9,
   "id": "2fb5680d8bc618d8",
   "metadata": {
    "ExecuteTime": {
     "end_time": "2023-11-13T16:52:38.086223729Z",
     "start_time": "2023-11-13T16:52:37.954367238Z"
    },
    "collapsed": false
   },
   "outputs": [],
   "source": [
    "docs_store = dataset.irds_ref().docs_store()"
   ]
  },
  {
   "cell_type": "markdown",
   "id": "b1397f4698c3156f",
   "metadata": {
    "collapsed": false
   },
   "source": [
    "Let's look at the document with the ID `doc062200109610`:"
   ]
  },
  {
   "cell_type": "code",
   "execution_count": 10,
   "id": "7adc86e0",
   "metadata": {
    "ExecuteTime": {
     "end_time": "2023-11-13T16:52:38.089311389Z",
     "start_time": "2023-11-13T16:52:37.964984060Z"
    },
    "collapsed": false
   },
   "outputs": [
    {
     "name": "stdout",
     "output_type": "stream",
     "text": [
      "GenericDoc(doc_id='doc062200109610', text='\\n\\nEDF\\n-\\nGDF School-Valentine (25480)\\n- Opening of electricity and gas meter Opening of your electricity or gas meter at École-Valentin on the Enedis/ErDF or GrDF network with papernest Free and non-binding service Announcement\\n- papernest is not a partner of EDF.\\nThank you.\\nYour request has been taken into account A counsellor will call you back to the I understood\\nIt seems that there is an error with our service Try again Opening your electricity or gas meter at École-Valentin on the Enedis/ErDF or GrDF network\\nwith agence-france-electricite.fr Call the Me to call back Simple and quick: 5 minutes is enough No commitment or cancellation fee On 13 users Announcement\\n- agency-france-electricite.fr\\nis not a partner of Edf Contacts and rates of Engie gas offers to École-Valentin\\nEngie\\n, formerly SFM\\nSuez, is one of the main suppliers of energy in Franche-Comté and throughout France.\\nThe company emerged from the merger between Suez and GDF (Gaz de France) in the summer of 2008\\nbefore changing its name to Engie in the spring of 2015.\\nThe company is with EDF for electricity the historical gas supplier in the 25th and presents gas at the regulated rate.\\nHowever, Engie is indeed an alternative supplier of electricity and offers École-Valentin fixed price offers and 100% green offers.\\nOn the 25th (Doubs), the number to reach their customer service is 09 69 39 99 93.\\nEnergy Suppliers to École-Valentin\\nEngie offers gas to École-Valentin\\nEngie (ex GDF\\nSuez\\n) is the result of the merger of the Gaz de France group and the Suez group.\\nThe alliance between these two gas giants makes ENGIE one of the world\\'s largest energy groups.\\nThe company is the historical gas supplier in Franche\\n-\\nCounty and throughout France,\\nas EDF for electricity\\n.\\nThe gas rates offered by ENGIE to École-Valentin in 25 (Doubs) are at the regulated rate.\\nAs an alternative electricity supplier, Engie offers its customers in the town of École-Valentin fixed price offers and 100% green offers.\\nTo contact Engie customer service on the 25th (Doubs), please call 09 69 39 99 93.\\nEverything you need to know about EDF at École-Valentin At École-Valentin, EDF is the historic supplier of electricity but also markets natural gas for professionals, individuals and local communities.\\nIn the Franche-Comté region, EDF offers Ecovaliens the kWh of electricity at the regulated rate.\\nAt School\\n-\\nValentin and throughout France, EDF is not the historic supplier of natural gas\\nand can therefore freely choose its tariffs\\n.\\nFor more information about EDF\\'s offers at École-Valentin or if you have any questions about your EDF bill, you can contact their customer service on 09 69 32 15 or go to the supplier\\'s website : edf.fr.\\nGood to know:\\nThere is no longer an EDF agency in France.\\nThese are permanently closed.\\nDirect\\nEnergy at School-Valentine: everything you need to know Direct\\nEnergie is the leading alternative supplier of natural gas and electricity in France.\\nPrivate individuals and professionals at École-Valentin have the choice of 3 types of offers: the Classic offer, the Green offer and the 100% online offer.\\nThese offers are available for gas, electricity or both.\\nThe price offered by Direct Energie is lower than the regulated tariff.\\nResidents of the Franche-Comté region are very satisfied with Direct Energie customer service, which has just been named the best customer service of the year for the ninth consecutive time.\\nTo reach Direct Energy customer service on the 25th (Doubs), here is the corresponding number: 30 99.\\nTotal Spring (ex Lampiris):\\nAlternative supplier of electricity and gas to École-Valentin Total Spring (formerly Lampiris) is one of the new suppliers of gas and electricity available in France since the opening of the energy market to competition in 2007.\\nThe Belgian company, which was bought by Total in 2016, offers the inhabitants of the town of École-Valentin in the Franche-Comté region several non-binding offers, in particular a 100% green offer, another at a fixed price for one year and a dual offer (gas and electricity).\\nTo contact Total Spring customer service on 25 (Doubs), you can do so by calling the following number: 09 70 25 02 50.\\nContact information for Engie and EDF at École-Valentin\\nEngie my client account at École-Valentin\\nIf you are a customer\\nat Engie (formerly GDF)\\nyou have the right to have a personal space online.\\nYou will therefore have access to your bills and even data relating to your personal gas consumption in the town of École-Valentin.\\nOn each of your invoices a code of 9 to 10 digits allows you to be identified as a customer.\\nFind out more\\n-when creating your account on the site: https://particuliers.engie.fr/creation-espace-client.html.\\nYou will then just have to confirm the creation of your client account with the code received by sms.\\nContact of EDF and SFM at École-Valentin\\nWhether for EDF or Engie there are many ways to contact your suppliers.\\nFor EDF: By telephone to the free number 09 69 32 15 15 (open from 8 to 20 h) By mail: EDF Service Client TSA 20012 41975 BLOIS\\nCedex 9\\nWith your customer space For Engie:\\nBy telephone free of charge 09 69 39 99 93\\nOnline on your space\\ncustomer You are therefore able to take out an electricity or gas contract thanks to these contacts.\\nBeware of Engie, we advise you to read our dedicated page since the contact number can change according to your request.\\n\" How to open your meter at École-Valentin?\\nSteps to open your gas meter at École-Valentin At École-Valentin and throughout France, the cost of opening the gas meter varies according to the length of time you are prepared to wait.\\nEcovalians who want to open their gas meter should contact the supplier of their choice to take out a gas contract.\\nYou also need to arrange an appointment with a GRDF technician to activate your meter, as it is the GRDF network manager who is responsible for the commissioning of the gas meter at École-Valentin in the Franche-Comté region (25).\\nOn the day of the technician\\'s visit to your new accommodation, you will not have to pay anything as the fee will be added directly to your next invoice.\\nIf the gas has not been turned off on the day of your move to École-Valentin, then the technician\\'s pass is no longer necessary but you will still be charged 18.58€ including tax.\\nIf, on the other hand, the gas no longer works, then the Ecovalians will have the choice between 3 services: type of commissioning Timeframes 2 working days on the same day 143.01\\nYou have just moved into a new house in École-Valentin in the Franche-Comté region (25)?\\nRemember to connect your new home to natural gas and ask for a first commissioning.\\nThis will cost you €18.26 for a 10 working day response time.\\nOpen your meter at School-Valentine\\nThe steps to open his meter at École-Valentin are the same for gas as for electricity.\\nThe only parameters that will change are the contact numbers for Ecovalians and the rates.\\nWhat is the procedure for opening an electricity or gas meter?\\n1\\n.\\nFirstly, the inhabitants of 25 (Doubs) should check whether the housing meter in École-Valentin is properly connected to the Enedis (for electricity) or GrDF (for gas) network;\\n2.\\nIf the École-Valentin accommodation is not connected, it is necessary to contact the energy distributor and manager concerned; 3.\\nIf it is, Ecovalians can contact the supplier they want, be it the history (EDF for electricity and Engie for gas) or an alternative supplier (Eni, Direct Energie, etc...); 4.\\nDuring this stage, if the electricity at École-Valentin is functional (so it has not been turned off in the accommodation), you can proceed to the suite.\\nIf the opposite is the case, it is a matter of switching the meter into service in the 25th (Doubs).\\nEcovalians must make an appointment with Enedis or GrDF for a technician to come.\\nIt will not be necessary to see an Ecovalian technician arrive if the meter is a smart meter like Linky or Gazpar.\\n5.\\nYou have electricity at École-Valentin.\\nSharing the article Send To learn more about our policy on controlling, processing and publishing notices:\\nclick here Comment sent !\\nThank you, your comment has been taken into account and will be subject to moderation.\\nTo learn more about our policy on the control, processing and publication of notices:\\nclick here\\n\\n\\n')\n"
     ]
    }
   ],
   "source": [
    "print(docs_store.get(\"doc062200109610\"))"
   ]
  },
  {
   "cell_type": "markdown",
   "id": "72655916-07fe-4c58-82c1-2f9f93381e7f",
   "metadata": {},
   "source": [
    "### Step 3: Create the index"
   ]
  },
  {
   "cell_type": "code",
   "execution_count": 11,
   "id": "05ce062d-25e4-4c61-b6ce-9431b9f2bbd4",
   "metadata": {
    "ExecuteTime": {
     "end_time": "2023-11-13T16:52:39.100058955Z",
     "start_time": "2023-11-13T16:52:38.015170731Z"
    }
   },
   "outputs": [],
   "source": [
    "if Path(index_directory).exists():\n",
    "    index_ref = index_directory\n",
    "else:\n",
    "    indexer = IterDictIndexer(\"./index\", overwrite=True)\n",
    "    index_ref = indexer.index(dataset.get_corpus_iter(verbose=True))\n",
    "index = IndexFactory.of(index_ref)"
   ]
  },
  {
   "cell_type": "markdown",
   "id": "806c4638-ccee-4470-a74c-2a85d9ee2cfc",
   "metadata": {},
   "source": [
    "### Step 4: Create retrieval pipeline\n",
    "\n",
    "#### Tune hyperparameter of PL2"
   ]
  },
  {
   "cell_type": "code",
   "execution_count": 29,
   "metadata": {},
   "outputs": [],
   "source": [
    "pl2 = BatchRetrieve(index, wmodel=\"PL2\", controls={'c': 1})\n",
    "rtr = GridScan(\n",
    "    pl2,\n",
    "    {pl2: {'c': [1, 1.1, 1.2, 1.3, 1.4, 1.5, 1.6, 1.7, 1.8]}},\n",
    "    topics,\n",
    "    qrels,\n",
    "    \"map\"\n",
    ")"
   ]
  },
  {
   "cell_type": "markdown",
   "metadata": {},
   "source": [
    "#### Visualize dependency of PL2 on parameter c"
   ]
  },
  {
   "cell_type": "code",
   "execution_count": 30,
   "metadata": {},
   "outputs": [
    {
     "name": "stdout",
     "output_type": "stream",
     "text": [
      "    tran_0  tran_0_c       map\n",
      "0  BR(PL2)       1.0  0.141104\n",
      "1  BR(PL2)       1.1  0.141448\n",
      "2  BR(PL2)       1.2  0.141684\n",
      "3  BR(PL2)       1.3  0.142120\n",
      "4  BR(PL2)       1.4  0.142582\n",
      "5  BR(PL2)       1.5  0.142437\n",
      "6  BR(PL2)       1.6  0.142150\n",
      "7  BR(PL2)       1.7  0.142185\n",
      "8  BR(PL2)       1.8  0.141726\n"
     ]
    },
    {
     "data": {
      "image/png": "[encoded data removed]",
      "text/plain": [
       "<Figure size 640x480 with 1 Axes>"
      ]
     },
     "metadata": {},
     "output_type": "display_data"
    }
   ],
   "source": [
    "print(rtr)\n",
    "plt.plot(rtr[\"tran_0_c\"], rtr[\"map\"])\n",
    "plt.xlabel(\"PL2's c value\")\n",
    "plt.ylabel(\"MAP\")\n",
    "plt.show()"
   ]
  },
  {
   "cell_type": "markdown",
   "metadata": {},
   "source": [
    "#### For retrieval with PL2 c=1.4 seems to work best"
   ]
  },
  {
   "cell_type": "code",
   "execution_count": 31,
   "metadata": {},
   "outputs": [],
   "source": [
    "pl2 = BatchRetrieve(index, wmodel=\"PL2\", verbose=True, controls={\"b\" : 1.4})"
   ]
  },
  {
   "cell_type": "markdown",
   "metadata": {},
   "source": [
    "#### Next, we want to experiment with query expansion for retrieval with BM25."
   ]
  },
  {
   "cell_type": "code",
   "execution_count": 32,
   "id": "642259bc",
   "metadata": {
    "ExecuteTime": {
     "end_time": "2023-11-13T16:52:39.230467052Z",
     "start_time": "2023-11-13T16:52:39.111750022Z"
    }
   },
   "outputs": [],
   "source": [
    "bm25 = BatchRetrieve(index, wmodel=\"BM25\", verbose=True, controls={\"b\" : 0.8})\n",
    "#bm25= ~bm25\n",
    "\n",
    "bo1_expansion = ~bm25 >> rewrite.Bo1QueryExpansion(index)\n",
    "bm25_bo1 = bo1_expansion >> bm25\n",
    "#bm25_bo1= ~bm25_bo1\n",
    "\n",
    "kl = ~bm25 >> rewrite.KLQueryExpansion(index)\n",
    "bm25_kl = kl >> bm25\n",
    "#bm25_kl= ~bm25_kl\n"
   ]
  },
  {
   "cell_type": "markdown",
   "metadata": {},
   "source": [
    "#### Additionally, we linearly combine retrieval with BM25 and PL2."
   ]
  },
  {
   "cell_type": "code",
   "execution_count": 33,
   "metadata": {},
   "outputs": [
    {
     "name": "stderr",
     "output_type": "stream",
     "text": [
      "BR(BM25): 100%|██████████| 671/671 [00:17<00:00, 39.02q/s]\n",
      "BR(PL2): 100%|██████████| 672/672 [00:14<00:00, 45.04q/s]\n",
      "BR(BM25): 100%|██████████| 671/671 [00:17<00:00, 38.38q/s]\n",
      "BR(PL2): 100%|██████████| 672/672 [00:15<00:00, 44.58q/s]\n"
     ]
    }
   ],
   "source": [
    "bm25_bo1_pl2 = (2* bm25_bo1 + pl2).transform(topics)\n",
    "bm25_kl_pl2 = (2* bm25_kl + pl2).transform(topics)"
   ]
  },
  {
   "cell_type": "markdown",
   "metadata": {},
   "source": [
    "#### Let's run an experiment, so see which retrieval works best."
   ]
  },
  {
   "cell_type": "code",
   "execution_count": 34,
   "metadata": {},
   "outputs": [
    {
     "name": "stderr",
     "output_type": "stream",
     "text": [
      "BR(BM25): 100%|██████████| 671/671 [00:17<00:00, 37.91q/s]\n",
      "BR(BM25): 100%|██████████| 671/671 [00:17<00:00, 37.41q/s]\n"
     ]
    },
    {
     "data": {
      "text/html": [
       "<div>\n",
       "<style scoped>\n",
       "    .dataframe tbody tr th:only-of-type {\n",
       "        vertical-align: middle;\n",
       "    }\n",
       "\n",
       "    .dataframe tbody tr th {\n",
       "        vertical-align: top;\n",
       "    }\n",
       "\n",
       "    .dataframe thead th {\n",
       "        text-align: right;\n",
       "    }\n",
       "</style>\n",
       "<table border=\"1\" class=\"dataframe\">\n",
       "  <thead>\n",
       "    <tr style=\"text-align: right;\">\n",
       "      <th></th>\n",
       "      <th>name</th>\n",
       "      <th>map</th>\n",
       "      <th>recip_rank</th>\n",
       "      <th>P_10</th>\n",
       "      <th>recall_10</th>\n",
       "      <th>ndcg</th>\n",
       "      <th>map +</th>\n",
       "      <th>map -</th>\n",
       "      <th>map p-value</th>\n",
       "      <th>recip_rank +</th>\n",
       "      <th>...</th>\n",
       "      <th>recip_rank p-value</th>\n",
       "      <th>P_10 +</th>\n",
       "      <th>P_10 -</th>\n",
       "      <th>P_10 p-value</th>\n",
       "      <th>recall_10 +</th>\n",
       "      <th>recall_10 -</th>\n",
       "      <th>recall_10 p-value</th>\n",
       "      <th>ndcg +</th>\n",
       "      <th>ndcg -</th>\n",
       "      <th>ndcg p-value</th>\n",
       "    </tr>\n",
       "  </thead>\n",
       "  <tbody>\n",
       "    <tr>\n",
       "      <th>0</th>\n",
       "      <td>BM25</td>\n",
       "      <td>0.148430</td>\n",
       "      <td>0.262423</td>\n",
       "      <td>0.093452</td>\n",
       "      <td>0.239859</td>\n",
       "      <td>0.314700</td>\n",
       "      <td>NaN</td>\n",
       "      <td>NaN</td>\n",
       "      <td>NaN</td>\n",
       "      <td>NaN</td>\n",
       "      <td>...</td>\n",
       "      <td>NaN</td>\n",
       "      <td>NaN</td>\n",
       "      <td>NaN</td>\n",
       "      <td>NaN</td>\n",
       "      <td>NaN</td>\n",
       "      <td>NaN</td>\n",
       "      <td>NaN</td>\n",
       "      <td>NaN</td>\n",
       "      <td>NaN</td>\n",
       "      <td>NaN</td>\n",
       "    </tr>\n",
       "    <tr>\n",
       "      <th>1</th>\n",
       "      <td>BM25 &gt;&gt; Bo1 &gt;&gt; BM25</td>\n",
       "      <td>0.154476</td>\n",
       "      <td>0.260961</td>\n",
       "      <td>0.094048</td>\n",
       "      <td>0.242239</td>\n",
       "      <td>0.323335</td>\n",
       "      <td>340.0</td>\n",
       "      <td>278.0</td>\n",
       "      <td>0.089207</td>\n",
       "      <td>252.0</td>\n",
       "      <td>...</td>\n",
       "      <td>0.856675</td>\n",
       "      <td>84.0</td>\n",
       "      <td>76.0</td>\n",
       "      <td>0.789492</td>\n",
       "      <td>84.0</td>\n",
       "      <td>76.0</td>\n",
       "      <td>0.733174</td>\n",
       "      <td>345.0</td>\n",
       "      <td>275.0</td>\n",
       "      <td>0.014020</td>\n",
       "    </tr>\n",
       "    <tr>\n",
       "      <th>2</th>\n",
       "      <td>BM25 &gt;&gt; KL &gt;&gt; BM25</td>\n",
       "      <td>0.153066</td>\n",
       "      <td>0.257133</td>\n",
       "      <td>0.094494</td>\n",
       "      <td>0.241492</td>\n",
       "      <td>0.321609</td>\n",
       "      <td>343.0</td>\n",
       "      <td>273.0</td>\n",
       "      <td>0.180260</td>\n",
       "      <td>247.0</td>\n",
       "      <td>...</td>\n",
       "      <td>0.500097</td>\n",
       "      <td>81.0</td>\n",
       "      <td>71.0</td>\n",
       "      <td>0.630230</td>\n",
       "      <td>81.0</td>\n",
       "      <td>71.0</td>\n",
       "      <td>0.811972</td>\n",
       "      <td>343.0</td>\n",
       "      <td>275.0</td>\n",
       "      <td>0.042616</td>\n",
       "    </tr>\n",
       "    <tr>\n",
       "      <th>3</th>\n",
       "      <td>BM25 &gt;&gt; Bo1 &gt;&gt; BM25 w\\ PL2</td>\n",
       "      <td>0.156237</td>\n",
       "      <td>0.267786</td>\n",
       "      <td>0.095685</td>\n",
       "      <td>0.244831</td>\n",
       "      <td>0.327790</td>\n",
       "      <td>367.0</td>\n",
       "      <td>252.0</td>\n",
       "      <td>0.009595</td>\n",
       "      <td>258.0</td>\n",
       "      <td>...</td>\n",
       "      <td>0.437693</td>\n",
       "      <td>86.0</td>\n",
       "      <td>71.0</td>\n",
       "      <td>0.311126</td>\n",
       "      <td>86.0</td>\n",
       "      <td>71.0</td>\n",
       "      <td>0.459533</td>\n",
       "      <td>370.0</td>\n",
       "      <td>250.0</td>\n",
       "      <td>0.000013</td>\n",
       "    </tr>\n",
       "    <tr>\n",
       "      <th>4</th>\n",
       "      <td>BM25 &gt;&gt; KL &gt;&gt; BM25 w\\ PL2</td>\n",
       "      <td>0.155325</td>\n",
       "      <td>0.260767</td>\n",
       "      <td>0.095833</td>\n",
       "      <td>0.244435</td>\n",
       "      <td>0.326385</td>\n",
       "      <td>356.0</td>\n",
       "      <td>264.0</td>\n",
       "      <td>0.021933</td>\n",
       "      <td>249.0</td>\n",
       "      <td>...</td>\n",
       "      <td>0.807686</td>\n",
       "      <td>85.0</td>\n",
       "      <td>70.0</td>\n",
       "      <td>0.287526</td>\n",
       "      <td>85.0</td>\n",
       "      <td>70.0</td>\n",
       "      <td>0.500413</td>\n",
       "      <td>365.0</td>\n",
       "      <td>256.0</td>\n",
       "      <td>0.000088</td>\n",
       "    </tr>\n",
       "  </tbody>\n",
       "</table>\n",
       "<p>5 rows × 21 columns</p>\n",
       "</div>"
      ],
      "text/plain": [
       "                         name       map  recip_rank      P_10  recall_10  \\\n",
       "0                        BM25  0.148430    0.262423  0.093452   0.239859   \n",
       "1         BM25 >> Bo1 >> BM25  0.154476    0.260961  0.094048   0.242239   \n",
       "2          BM25 >> KL >> BM25  0.153066    0.257133  0.094494   0.241492   \n",
       "3  BM25 >> Bo1 >> BM25 w\\ PL2  0.156237    0.267786  0.095685   0.244831   \n",
       "4   BM25 >> KL >> BM25 w\\ PL2  0.155325    0.260767  0.095833   0.244435   \n",
       "\n",
       "       ndcg  map +  map -  map p-value  recip_rank +  ...  recip_rank p-value  \\\n",
       "0  0.314700    NaN    NaN          NaN           NaN  ...                 NaN   \n",
       "1  0.323335  340.0  278.0     0.089207         252.0  ...            0.856675   \n",
       "2  0.321609  343.0  273.0     0.180260         247.0  ...            0.500097   \n",
       "3  0.327790  367.0  252.0     0.009595         258.0  ...            0.437693   \n",
       "4  0.326385  356.0  264.0     0.021933         249.0  ...            0.807686   \n",
       "\n",
       "   P_10 +  P_10 -  P_10 p-value  recall_10 +  recall_10 -  recall_10 p-value  \\\n",
       "0     NaN     NaN           NaN          NaN          NaN                NaN   \n",
       "1    84.0    76.0      0.789492         84.0         76.0           0.733174   \n",
       "2    81.0    71.0      0.630230         81.0         71.0           0.811972   \n",
       "3    86.0    71.0      0.311126         86.0         71.0           0.459533   \n",
       "4    85.0    70.0      0.287526         85.0         70.0           0.500413   \n",
       "\n",
       "   ndcg +  ndcg -  ndcg p-value  \n",
       "0     NaN     NaN           NaN  \n",
       "1   345.0   275.0      0.014020  \n",
       "2   343.0   275.0      0.042616  \n",
       "3   370.0   250.0      0.000013  \n",
       "4   365.0   256.0      0.000088  \n",
       "\n",
       "[5 rows x 21 columns]"
      ]
     },
     "execution_count": 34,
     "metadata": {},
     "output_type": "execute_result"
    }
   ],
   "source": [
    "Experiment(\n",
    "    [~bm25, bm25_bo1, bm25_kl, bm25_bo1_pl2, bm25_kl_pl2], \n",
    "    topics, dataset.get_qrels(), \n",
    "    eval_metrics=[\"ndcg\", \"map\", \"recip_rank\", \"P_10\", \"recall_10\"],\n",
    "    names=[\"BM25\", \"BM25 >> Bo1 >> BM25\", \"BM25 >> KL >> BM25\", \"BM25 >> Bo1 >> BM25 w\\ PL2\", \"BM25 >> KL >> BM25 w\\ PL2\"],\n",
    "    baseline = 0\n",
    ")\n",
    "\n"
   ]
  },
  {
   "cell_type": "markdown",
   "metadata": {},
   "source": [
    "#### The combination of BM25 with Bo1 query expansion and PL2 performs slightly better than the others. "
   ]
  },
  {
   "cell_type": "markdown",
   "id": "5cb6607b",
   "metadata": {},
   "source": [
    "### Step 5: Create the run\n",
    "#### Let's look at a few results of the run:"
   ]
  },
  {
   "cell_type": "code",
   "execution_count": 35,
   "id": "a191f396-e896-4792-afaf-574e452640f5",
   "metadata": {
    "ExecuteTime": {
     "end_time": "2023-11-13T16:53:39.528725883Z",
     "start_time": "2023-11-13T16:52:39.232170411Z"
    }
   },
   "outputs": [
    {
     "data": {
      "text/html": [
       "<div>\n",
       "<style scoped>\n",
       "    .dataframe tbody tr th:only-of-type {\n",
       "        vertical-align: middle;\n",
       "    }\n",
       "\n",
       "    .dataframe tbody tr th {\n",
       "        vertical-align: top;\n",
       "    }\n",
       "\n",
       "    .dataframe thead th {\n",
       "        text-align: right;\n",
       "    }\n",
       "</style>\n",
       "<table border=\"1\" class=\"dataframe\">\n",
       "  <thead>\n",
       "    <tr style=\"text-align: right;\">\n",
       "      <th></th>\n",
       "      <th>qid</th>\n",
       "      <th>docid</th>\n",
       "      <th>docno</th>\n",
       "      <th>score</th>\n",
       "      <th>query_0</th>\n",
       "      <th>query</th>\n",
       "      <th>rank</th>\n",
       "    </tr>\n",
       "  </thead>\n",
       "  <tbody>\n",
       "    <tr>\n",
       "      <th>0</th>\n",
       "      <td>q062210081</td>\n",
       "      <td>5457.0</td>\n",
       "      <td>doc062200206592</td>\n",
       "      <td>55.609508</td>\n",
       "      <td>consumption water home</td>\n",
       "      <td>applypipeline:off consumpt^1.244622420 water^1...</td>\n",
       "      <td>0</td>\n",
       "    </tr>\n",
       "    <tr>\n",
       "      <th>1</th>\n",
       "      <td>q062210081</td>\n",
       "      <td>36071.0</td>\n",
       "      <td>doc062200101758</td>\n",
       "      <td>52.060024</td>\n",
       "      <td>consumption water home</td>\n",
       "      <td>applypipeline:off consumpt^1.244622420 water^1...</td>\n",
       "      <td>1</td>\n",
       "    </tr>\n",
       "    <tr>\n",
       "      <th>2</th>\n",
       "      <td>q062210081</td>\n",
       "      <td>7541.0</td>\n",
       "      <td>doc062200101893</td>\n",
       "      <td>50.956214</td>\n",
       "      <td>consumption water home</td>\n",
       "      <td>applypipeline:off consumpt^1.244622420 water^1...</td>\n",
       "      <td>3</td>\n",
       "    </tr>\n",
       "    <tr>\n",
       "      <th>3</th>\n",
       "      <td>q062210081</td>\n",
       "      <td>3212.0</td>\n",
       "      <td>doc062200109914</td>\n",
       "      <td>51.307571</td>\n",
       "      <td>consumption water home</td>\n",
       "      <td>applypipeline:off consumpt^1.244622420 water^1...</td>\n",
       "      <td>2</td>\n",
       "    </tr>\n",
       "    <tr>\n",
       "      <th>4</th>\n",
       "      <td>q062210081</td>\n",
       "      <td>33114.0</td>\n",
       "      <td>doc062210912628</td>\n",
       "      <td>50.922367</td>\n",
       "      <td>consumption water home</td>\n",
       "      <td>applypipeline:off consumpt^1.244622420 water^1...</td>\n",
       "      <td>4</td>\n",
       "    </tr>\n",
       "    <tr>\n",
       "      <th>5</th>\n",
       "      <td>q062210081</td>\n",
       "      <td>10951.0</td>\n",
       "      <td>doc062200113739</td>\n",
       "      <td>47.330069</td>\n",
       "      <td>consumption water home</td>\n",
       "      <td>applypipeline:off consumpt^1.244622420 water^1...</td>\n",
       "      <td>6</td>\n",
       "    </tr>\n",
       "    <tr>\n",
       "      <th>6</th>\n",
       "      <td>q062210081</td>\n",
       "      <td>24575.0</td>\n",
       "      <td>doc062200308829</td>\n",
       "      <td>47.064209</td>\n",
       "      <td>consumption water home</td>\n",
       "      <td>applypipeline:off consumpt^1.244622420 water^1...</td>\n",
       "      <td>7</td>\n",
       "    </tr>\n",
       "    <tr>\n",
       "      <th>7</th>\n",
       "      <td>q062210081</td>\n",
       "      <td>16845.0</td>\n",
       "      <td>doc062200602177</td>\n",
       "      <td>49.504651</td>\n",
       "      <td>consumption water home</td>\n",
       "      <td>applypipeline:off consumpt^1.244622420 water^1...</td>\n",
       "      <td>5</td>\n",
       "    </tr>\n",
       "    <tr>\n",
       "      <th>8</th>\n",
       "      <td>q062210081</td>\n",
       "      <td>17933.0</td>\n",
       "      <td>doc062200503293</td>\n",
       "      <td>45.545072</td>\n",
       "      <td>consumption water home</td>\n",
       "      <td>applypipeline:off consumpt^1.244622420 water^1...</td>\n",
       "      <td>9</td>\n",
       "    </tr>\n",
       "    <tr>\n",
       "      <th>9</th>\n",
       "      <td>q062210081</td>\n",
       "      <td>38338.0</td>\n",
       "      <td>doc062200402611</td>\n",
       "      <td>45.569985</td>\n",
       "      <td>consumption water home</td>\n",
       "      <td>applypipeline:off consumpt^1.244622420 water^1...</td>\n",
       "      <td>8</td>\n",
       "    </tr>\n",
       "  </tbody>\n",
       "</table>\n",
       "</div>"
      ],
      "text/plain": [
       "          qid    docid            docno      score                 query_0  \\\n",
       "0  q062210081   5457.0  doc062200206592  55.609508  consumption water home   \n",
       "1  q062210081  36071.0  doc062200101758  52.060024  consumption water home   \n",
       "2  q062210081   7541.0  doc062200101893  50.956214  consumption water home   \n",
       "3  q062210081   3212.0  doc062200109914  51.307571  consumption water home   \n",
       "4  q062210081  33114.0  doc062210912628  50.922367  consumption water home   \n",
       "5  q062210081  10951.0  doc062200113739  47.330069  consumption water home   \n",
       "6  q062210081  24575.0  doc062200308829  47.064209  consumption water home   \n",
       "7  q062210081  16845.0  doc062200602177  49.504651  consumption water home   \n",
       "8  q062210081  17933.0  doc062200503293  45.545072  consumption water home   \n",
       "9  q062210081  38338.0  doc062200402611  45.569985  consumption water home   \n",
       "\n",
       "                                               query  rank  \n",
       "0  applypipeline:off consumpt^1.244622420 water^1...     0  \n",
       "1  applypipeline:off consumpt^1.244622420 water^1...     1  \n",
       "2  applypipeline:off consumpt^1.244622420 water^1...     3  \n",
       "3  applypipeline:off consumpt^1.244622420 water^1...     2  \n",
       "4  applypipeline:off consumpt^1.244622420 water^1...     4  \n",
       "5  applypipeline:off consumpt^1.244622420 water^1...     6  \n",
       "6  applypipeline:off consumpt^1.244622420 water^1...     7  \n",
       "7  applypipeline:off consumpt^1.244622420 water^1...     5  \n",
       "8  applypipeline:off consumpt^1.244622420 water^1...     9  \n",
       "9  applypipeline:off consumpt^1.244622420 water^1...     8  "
      ]
     },
     "execution_count": 35,
     "metadata": {},
     "output_type": "execute_result"
    }
   ],
   "source": [
    "bm25_bo1_pl2.head(10)\n"
   ]
  },
  {
   "cell_type": "markdown",
   "id": "28c40a2e-0f96-4ae8-aa5e-55a5e7ef9dee",
   "metadata": {},
   "source": [
    "### Step 6: Persist run"
   ]
  },
  {
   "cell_type": "markdown",
   "id": "70e959847fe84330",
   "metadata": {
    "collapsed": false
   },
   "source": [
    "Perfect! All that's left is to persist the run in the standard TREC format:"
   ]
  },
  {
   "cell_type": "code",
   "execution_count": 37,
   "id": "12e5bb42-ed1f-41ba-b7a5-cb43ebca96f6",
   "metadata": {
    "ExecuteTime": {
     "end_time": "2023-11-13T16:53:48.464658946Z",
     "start_time": "2023-11-13T16:53:39.590928670Z"
    }
   },
   "outputs": [
    {
     "name": "stdout",
     "output_type": "stream",
     "text": [
      "Done. run file is stored under \"./output/run.txt\".\n"
     ]
    }
   ],
   "source": [
    "persist_and_normalize_run(bm25_bo1_pl2, output_file=output_directory, system_name=\"BM25_Bo1_PL2\", depth=1000)"
   ]
  },
  {
   "cell_type": "code",
   "execution_count": null,
   "id": "ae98d260-8b5a-496b-805b-74e889fe45b6",
   "metadata": {
    "ExecuteTime": {
     "end_time": "2023-11-13T16:53:48.473454873Z",
     "start_time": "2023-11-13T16:53:48.468183210Z"
    }
   },
   "outputs": [],
   "source": []
  }
 ],
 "metadata": {
  "kernelspec": {
   "display_name": "Python 3 (ipykernel)",
   "language": "python",
   "name": "python3"
  },
  "language_info": {
   "codemirror_mode": {
    "name": "ipython",
    "version": 3
   },
   "file_extension": ".py",
   "mimetype": "text/x-python",
   "name": "python",
   "nbconvert_exporter": "python",
   "pygments_lexer": "ipython3",
   "version": "3.10.8"
  }
 },
 "nbformat": 4,
 "nbformat_minor": 5
}
