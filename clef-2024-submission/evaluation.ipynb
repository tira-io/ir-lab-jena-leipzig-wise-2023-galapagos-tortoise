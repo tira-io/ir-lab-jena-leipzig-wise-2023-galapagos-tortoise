{
 "cells": [
  {
   "cell_type": "code",
   "execution_count": 1,
   "metadata": {},
   "outputs": [],
   "source": [
    "#!python -m pip install --upgrade pip\n",
    "#!pip3 install  python-terrier tira==0.0.88 ir_datasets\n",
    "#!pip3 install -q python-terrier\n",
    "#!pip3 install -q --upgrade git+https://github.com/terrierteam/pyterrier_t5.git\n"
   ]
  },
  {
   "cell_type": "code",
   "execution_count": 2,
   "metadata": {},
   "outputs": [
    {
     "name": "stderr",
     "output_type": "stream",
     "text": [
      "/home/codespace/.python/current/lib/python3.10/site-packages/tqdm/auto.py:21: TqdmWarning: IProgress not found. Please update jupyter and ipywidgets. See https://ipywidgets.readthedocs.io/en/stable/user_install.html\n",
      "  from .autonotebook import tqdm as notebook_tqdm\n"
     ]
    }
   ],
   "source": [
    "from tira.third_party_integrations import ensure_pyterrier_is_loaded, persist_and_normalize_run\n",
    "from tira.rest_api_client import Client\n",
    "import pyterrier as pt\n",
    "from ir_measures import *"
   ]
  },
  {
   "cell_type": "code",
   "execution_count": 3,
   "metadata": {},
   "outputs": [
    {
     "name": "stderr",
     "output_type": "stream",
     "text": [
      "PyTerrier 0.10.1 has loaded Terrier 5.7 (built by craigm on 2022-11-10 18:30) and terrier-helper 0.0.7\n",
      "\n",
      "No etc/terrier.properties, using terrier.default.properties for bootstrap configuration.\n"
     ]
    }
   ],
   "source": [
    "ensure_pyterrier_is_loaded()\n",
    "tira = Client()\n"
   ]
  },
  {
   "cell_type": "code",
   "execution_count": 4,
   "metadata": {},
   "outputs": [],
   "source": [
    "pt_dataset = pt.get_dataset(\"irds:ir-lab-padua-2024/longeval-2023-01-20240426-training\")\n",
    "pt_dataset_jun = pt.get_dataset(\"irds:ir-lab-padua-2024/longeval-2023-06-20240418-training\")\n",
    "pt_dataset_aug = pt.get_dataset(\"irds:ir-lab-padua-2024/longeval-2023-08-20240418-training\")"
   ]
  },
  {
   "cell_type": "code",
   "execution_count": 5,
   "metadata": {},
   "outputs": [
    {
     "name": "stdout",
     "output_type": "stream",
     "text": [
      "The download is derived from The LongEval Dataset under the \"Qwant LongEval Attribution-NonCommercial-ShareAlike License\". Hence, the download is also under this License. By using it, you agree to the terms of this license. Please find details at: https://lindat.mff.cuni.cz/repository/xmlui/page/Qwant_LongEval_BY-NC-SA_License\n"
     ]
    },
    {
     "name": "stderr",
     "output_type": "stream",
     "text": [
      "Download: 452kiB [00:00, 5.17MiB/s]\n"
     ]
    },
    {
     "name": "stdout",
     "output_type": "stream",
     "text": [
      "Download finished. Extract...\n",
      "Extraction finished:  /home/codespace/.tira/extracted_datasets/ir-lab-padua-2024/longeval-2023-01-20240426-training/\n"
     ]
    },
    {
     "data": {
      "text/html": [
       "<div>\n",
       "<style scoped>\n",
       "    .dataframe tbody tr th:only-of-type {\n",
       "        vertical-align: middle;\n",
       "    }\n",
       "\n",
       "    .dataframe tbody tr th {\n",
       "        vertical-align: top;\n",
       "    }\n",
       "\n",
       "    .dataframe thead th {\n",
       "        text-align: right;\n",
       "    }\n",
       "</style>\n",
       "<table border=\"1\" class=\"dataframe\">\n",
       "  <thead>\n",
       "    <tr style=\"text-align: right;\">\n",
       "      <th></th>\n",
       "      <th>name</th>\n",
       "      <th>nDCG@10</th>\n",
       "      <th>nDCG</th>\n",
       "      <th>nDCG@10 p-value</th>\n",
       "      <th>nDCG p-value</th>\n",
       "    </tr>\n",
       "  </thead>\n",
       "  <tbody>\n",
       "    <tr>\n",
       "      <th>0</th>\n",
       "      <td>MAX</td>\n",
       "      <td>0.208937</td>\n",
       "      <td>0.307454</td>\n",
       "      <td>NaN</td>\n",
       "      <td>NaN</td>\n",
       "    </tr>\n",
       "    <tr>\n",
       "      <th>1</th>\n",
       "      <td>K4</td>\n",
       "      <td>0.208350</td>\n",
       "      <td>0.305478</td>\n",
       "      <td>0.864837</td>\n",
       "      <td>0.408479</td>\n",
       "    </tr>\n",
       "    <tr>\n",
       "      <th>2</th>\n",
       "      <td>MEAN</td>\n",
       "      <td>0.208542</td>\n",
       "      <td>0.306750</td>\n",
       "      <td>0.929780</td>\n",
       "      <td>0.819642</td>\n",
       "    </tr>\n",
       "  </tbody>\n",
       "</table>\n",
       "</div>"
      ],
      "text/plain": [
       "   name   nDCG@10      nDCG  nDCG@10 p-value  nDCG p-value\n",
       "0   MAX  0.208937  0.307454              NaN           NaN\n",
       "1    K4  0.208350  0.305478         0.864837      0.408479\n",
       "2  MEAN  0.208542  0.306750         0.929780      0.819642"
      ]
     },
     "execution_count": 5,
     "metadata": {},
     "output_type": "execute_result"
    }
   ],
   "source": [
    "submission_path_k_4_jan = \"/workspaces/ir-lab-jena-leipzig-wise-2023-galapagos-tortoise/clef-2024-submission/galapagos-tortoise-bm25-bo1-pl2-monot5-kmax-avg-k-4.lag1\"\n",
    "submission_path_max_jan = \"/workspaces/ir-lab-jena-leipzig-wise-2023-galapagos-tortoise/clef-2024-submission/galapagos-tortoise-bm25-bo1-pl2-monot5-max.lag1\"\n",
    "submission_path_mean_jan = \"/workspaces/ir-lab-jena-leipzig-wise-2023-galapagos-tortoise/clef-2024-submission/galapagos-tortoise-bm25-bo1-pl2-monot5-mean.lag1\"\n",
    "jan = pt.Experiment(\n",
    "    [\n",
    "        pt.transformer.get_transformer(pt.io.read_results(submission_path_max_jan)),\n",
    "        pt.transformer.get_transformer(pt.io.read_results(submission_path_k_4_jan)),\n",
    "        pt.transformer.get_transformer(pt.io.read_results(submission_path_mean_jan)),\n",
    "\n",
    "    ],\n",
    "    pt_dataset.get_topics('text'),\n",
    "    pt_dataset.get_qrels(),\n",
    "    names=[\n",
    "        \"MAX\",\n",
    "        'K4',\n",
    "        \"MEAN\",\n",
    "        \n",
    "        # \"3-max-avg\",\n",
    "    ],\n",
    "    baseline=0,\n",
    "    eval_metrics=[nDCG(judged_only=True)@10, nDCG(judged_only=True), nDCG@10, nDCG],\n",
    ")[[\"name\", 'nDCG@10', \"nDCG\", \"nDCG@10 p-value\", \"nDCG p-value\", ]]\n",
    "\n",
    "jan"
   ]
  },
  {
   "cell_type": "code",
   "execution_count": 6,
   "metadata": {},
   "outputs": [
    {
     "name": "stdout",
     "output_type": "stream",
     "text": [
      "The download is derived from The LongEval Dataset under the \"Qwant LongEval Attribution-NonCommercial-ShareAlike License\". Hence, the download is also under this License. By using it, you agree to the terms of this license. Please find details at: https://lindat.mff.cuni.cz/repository/xmlui/page/Qwant_LongEval_BY-NC-SA_License\n",
      "Download from the Incubator: https://files.webis.de/data-in-production/data-research/tira-zenodo-dump-preparation/ir-lab-padua2024/longeval-2023-06-20240418-truth.zip?download=1\n",
      "\tThis is only used for last spot checks before archival to Zenodo.\n"
     ]
    },
    {
     "name": "stderr",
     "output_type": "stream",
     "text": [
      "Download: 100%|██████████| 582k/582k [00:00<00:00, 5.80MiB/s]\n"
     ]
    },
    {
     "name": "stdout",
     "output_type": "stream",
     "text": [
      "Download finished. Extract...\n",
      "Extraction finished:  /home/codespace/.tira/extracted_datasets/ir-lab-padua-2024/longeval-2023-06-20240418-training/\n"
     ]
    },
    {
     "data": {
      "text/html": [
       "<div>\n",
       "<style scoped>\n",
       "    .dataframe tbody tr th:only-of-type {\n",
       "        vertical-align: middle;\n",
       "    }\n",
       "\n",
       "    .dataframe tbody tr th {\n",
       "        vertical-align: top;\n",
       "    }\n",
       "\n",
       "    .dataframe thead th {\n",
       "        text-align: right;\n",
       "    }\n",
       "</style>\n",
       "<table border=\"1\" class=\"dataframe\">\n",
       "  <thead>\n",
       "    <tr style=\"text-align: right;\">\n",
       "      <th></th>\n",
       "      <th>name</th>\n",
       "      <th>nDCG@10</th>\n",
       "      <th>nDCG</th>\n",
       "      <th>nDCG@10 p-value</th>\n",
       "      <th>nDCG p-value</th>\n",
       "    </tr>\n",
       "  </thead>\n",
       "  <tbody>\n",
       "    <tr>\n",
       "      <th>0</th>\n",
       "      <td>MAX</td>\n",
       "      <td>0.196091</td>\n",
       "      <td>0.260396</td>\n",
       "      <td>NaN</td>\n",
       "      <td>NaN</td>\n",
       "    </tr>\n",
       "    <tr>\n",
       "      <th>1</th>\n",
       "      <td>K4</td>\n",
       "      <td>0.191261</td>\n",
       "      <td>0.256972</td>\n",
       "      <td>0.236455</td>\n",
       "      <td>0.235625</td>\n",
       "    </tr>\n",
       "    <tr>\n",
       "      <th>2</th>\n",
       "      <td>MEAN</td>\n",
       "      <td>0.184011</td>\n",
       "      <td>0.252745</td>\n",
       "      <td>0.021329</td>\n",
       "      <td>0.028423</td>\n",
       "    </tr>\n",
       "  </tbody>\n",
       "</table>\n",
       "</div>"
      ],
      "text/plain": [
       "   name   nDCG@10      nDCG  nDCG@10 p-value  nDCG p-value\n",
       "0   MAX  0.196091  0.260396              NaN           NaN\n",
       "1    K4  0.191261  0.256972         0.236455      0.235625\n",
       "2  MEAN  0.184011  0.252745         0.021329      0.028423"
      ]
     },
     "execution_count": 6,
     "metadata": {},
     "output_type": "execute_result"
    }
   ],
   "source": [
    "submission_path_k_4_jun = \"/workspaces/ir-lab-jena-leipzig-wise-2023-galapagos-tortoise/clef-2024-submission/galapagos-tortoise-bm25-bo1-pl2-monot5-kmax-avg-k-4.lag6\"\n",
    "submission_path_max_jun = \"/workspaces/ir-lab-jena-leipzig-wise-2023-galapagos-tortoise/clef-2024-submission/galapagos-tortoise-bm25-bo1-pl2-monot5-max.lag6\"\n",
    "submission_path_mean_jun = \"/workspaces/ir-lab-jena-leipzig-wise-2023-galapagos-tortoise/clef-2024-submission/galapagos-tortoise-bm25-bo1-pl2-monot5-mean.lag6\"\n",
    "jun = pt.Experiment(\n",
    "    [\n",
    "        pt.transformer.get_transformer(pt.io.read_results(submission_path_max_jun)),\n",
    "        pt.transformer.get_transformer(pt.io.read_results(submission_path_k_4_jun)),\n",
    "        pt.transformer.get_transformer(pt.io.read_results(submission_path_mean_jun)),\n",
    "\n",
    "    ],\n",
    "    pt_dataset_jun.get_topics('text'),\n",
    "    pt_dataset_jun.get_qrels(),\n",
    "    names=[\n",
    "        \"MAX\",\n",
    "        'K4',\n",
    "        \"MEAN\",\n",
    "        \n",
    "        # \"3-max-avg\",\n",
    "    ],\n",
    "    baseline=0,\n",
    "    eval_metrics=[nDCG(judged_only=True)@10, nDCG(judged_only=True), nDCG@10, nDCG],\n",
    ")[[\"name\", 'nDCG@10', \"nDCG\", \"nDCG@10 p-value\", \"nDCG p-value\", ]]\n",
    "\n",
    "jun"
   ]
  },
  {
   "cell_type": "code",
   "execution_count": 7,
   "metadata": {},
   "outputs": [
    {
     "name": "stdout",
     "output_type": "stream",
     "text": [
      "The download is derived from The LongEval Dataset under the \"Qwant LongEval Attribution-NonCommercial-ShareAlike License\". Hence, the download is also under this License. By using it, you agree to the terms of this license. Please find details at: https://lindat.mff.cuni.cz/repository/xmlui/page/Qwant_LongEval_BY-NC-SA_License\n",
      "Download from the Incubator: https://files.webis.de/data-in-production/data-research/tira-zenodo-dump-preparation/ir-lab-padua2024/longeval-2023-08-20240418-truth.zip?download=1\n",
      "\tThis is only used for last spot checks before archival to Zenodo.\n"
     ]
    },
    {
     "name": "stderr",
     "output_type": "stream",
     "text": [
      "Download: 100%|██████████| 1.02M/1.02M [00:00<00:00, 8.79MiB/s]\n"
     ]
    },
    {
     "name": "stdout",
     "output_type": "stream",
     "text": [
      "Download finished. Extract...\n",
      "Extraction finished:  /home/codespace/.tira/extracted_datasets/ir-lab-padua-2024/longeval-2023-08-20240418-training/\n"
     ]
    },
    {
     "data": {
      "text/html": [
       "<div>\n",
       "<style scoped>\n",
       "    .dataframe tbody tr th:only-of-type {\n",
       "        vertical-align: middle;\n",
       "    }\n",
       "\n",
       "    .dataframe tbody tr th {\n",
       "        vertical-align: top;\n",
       "    }\n",
       "\n",
       "    .dataframe thead th {\n",
       "        text-align: right;\n",
       "    }\n",
       "</style>\n",
       "<table border=\"1\" class=\"dataframe\">\n",
       "  <thead>\n",
       "    <tr style=\"text-align: right;\">\n",
       "      <th></th>\n",
       "      <th>name</th>\n",
       "      <th>nDCG@10</th>\n",
       "      <th>nDCG</th>\n",
       "      <th>nDCG@10 p-value</th>\n",
       "      <th>nDCG p-value</th>\n",
       "    </tr>\n",
       "  </thead>\n",
       "  <tbody>\n",
       "    <tr>\n",
       "      <th>0</th>\n",
       "      <td>MAX</td>\n",
       "      <td>0.159440</td>\n",
       "      <td>0.197731</td>\n",
       "      <td>NaN</td>\n",
       "      <td>NaN</td>\n",
       "    </tr>\n",
       "    <tr>\n",
       "      <th>1</th>\n",
       "      <td>K4</td>\n",
       "      <td>0.156196</td>\n",
       "      <td>0.195593</td>\n",
       "      <td>0.070105</td>\n",
       "      <td>0.119679</td>\n",
       "    </tr>\n",
       "    <tr>\n",
       "      <th>2</th>\n",
       "      <td>MEAN</td>\n",
       "      <td>0.149909</td>\n",
       "      <td>0.191226</td>\n",
       "      <td>0.000254</td>\n",
       "      <td>0.000805</td>\n",
       "    </tr>\n",
       "  </tbody>\n",
       "</table>\n",
       "</div>"
      ],
      "text/plain": [
       "   name   nDCG@10      nDCG  nDCG@10 p-value  nDCG p-value\n",
       "0   MAX  0.159440  0.197731              NaN           NaN\n",
       "1    K4  0.156196  0.195593         0.070105      0.119679\n",
       "2  MEAN  0.149909  0.191226         0.000254      0.000805"
      ]
     },
     "execution_count": 7,
     "metadata": {},
     "output_type": "execute_result"
    }
   ],
   "source": [
    "submission_path_k_4_aug = \"/workspaces/ir-lab-jena-leipzig-wise-2023-galapagos-tortoise/clef-2024-submission/galapagos-tortoise-bm25-bo1-pl2-monot5-kmax-avg-k-4.lag8\"\n",
    "submission_path_max_aug = \"/workspaces/ir-lab-jena-leipzig-wise-2023-galapagos-tortoise/clef-2024-submission/galapagos-tortoise-bm25-bo1-pl2-monot5-max.lag8\"\n",
    "submission_path_mean_aug = \"/workspaces/ir-lab-jena-leipzig-wise-2023-galapagos-tortoise/clef-2024-submission/galapagos-tortoise-bm25-bo1-pl2-monot5-mean.lag8\"\n",
    "aug = pt.Experiment(\n",
    "    [\n",
    "        pt.transformer.get_transformer(pt.io.read_results(submission_path_max_aug)),\n",
    "        pt.transformer.get_transformer(pt.io.read_results(submission_path_k_4_aug)),\n",
    "        pt.transformer.get_transformer(pt.io.read_results(submission_path_mean_aug)),\n",
    "\n",
    "    ],\n",
    "    pt_dataset_aug.get_topics('text'),\n",
    "    pt_dataset_aug.get_qrels(),\n",
    "    names=[\n",
    "        \"MAX\",\n",
    "        'K4',\n",
    "        \"MEAN\",\n",
    "        \n",
    "        # \"3-max-avg\",\n",
    "    ],\n",
    "    baseline=0,\n",
    "    eval_metrics=[nDCG(judged_only=True)@10, nDCG(judged_only=True), nDCG@10, nDCG],\n",
    ")[[\"name\", 'nDCG@10', \"nDCG\", \"nDCG@10 p-value\", \"nDCG p-value\", ]]\n",
    "\n",
    "aug"
   ]
  }
 ],
 "metadata": {
  "kernelspec": {
   "display_name": "Python 3",
   "language": "python",
   "name": "python3"
  },
  "language_info": {
   "codemirror_mode": {
    "name": "ipython",
    "version": 3
   },
   "file_extension": ".py",
   "mimetype": "text/x-python",
   "name": "python",
   "nbconvert_exporter": "python",
   "pygments_lexer": "ipython3",
   "version": "3.10.13"
  }
 },
 "nbformat": 4,
 "nbformat_minor": 2
}
